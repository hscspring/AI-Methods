{
 "cells": [
  {
   "cell_type": "markdown",
   "metadata": {
    "toc": "true"
   },
   "source": [
    "# Table of Contents\n",
    " <p><div class=\"lev1 toc-item\"><a href=\"#MIT-Genetic-Note\" data-toc-modified-id=\"MIT-Genetic-Note-1\"><span class=\"toc-item-num\">1&nbsp;&nbsp;</span>MIT Genetic Note</a></div><div class=\"lev2 toc-item\"><a href=\"#Outline\" data-toc-modified-id=\"Outline-11\"><span class=\"toc-item-num\">1.1&nbsp;&nbsp;</span>Outline</a></div><div class=\"lev2 toc-item\"><a href=\"#Ideas\" data-toc-modified-id=\"Ideas-12\"><span class=\"toc-item-num\">1.2&nbsp;&nbsp;</span>Ideas</a></div><div class=\"lev3 toc-item\"><a href=\"#IDEA-1:-Fitness(basic)\" data-toc-modified-id=\"IDEA-1:-Fitness(basic)-121\"><span class=\"toc-item-num\">1.2.1&nbsp;&nbsp;</span>IDEA 1: Fitness(basic)</a></div><div class=\"lev3 toc-item\"><a href=\"#IDEA-2:-Rank(upgrade)\" data-toc-modified-id=\"IDEA-2:-Rank(upgrade)-122\"><span class=\"toc-item-num\">1.2.2&nbsp;&nbsp;</span>IDEA 2: Rank(upgrade)</a></div><div class=\"lev3 toc-item\"><a href=\"#IDEA-3:-Diversity(upgrade)\" data-toc-modified-id=\"IDEA-3:-Diversity(upgrade)-123\"><span class=\"toc-item-num\">1.2.3&nbsp;&nbsp;</span>IDEA 3: Diversity(upgrade)</a></div><div class=\"lev3 toc-item\"><a href=\"#Summarize\" data-toc-modified-id=\"Summarize-124\"><span class=\"toc-item-num\">1.2.4&nbsp;&nbsp;</span>Summarize</a></div><div class=\"lev3 toc-item\"><a href=\"#Application\" data-toc-modified-id=\"Application-125\"><span class=\"toc-item-num\">1.2.5&nbsp;&nbsp;</span>Application</a></div><div class=\"lev1 toc-item\"><a href=\"#Note1:-Guess-password\" data-toc-modified-id=\"Note1:-Guess-password-2\"><span class=\"toc-item-num\">2&nbsp;&nbsp;</span>Note1: Guess password</a></div><div class=\"lev2 toc-item\"><a href=\"#HelloWorld\" data-toc-modified-id=\"HelloWorld-21\"><span class=\"toc-item-num\">2.1&nbsp;&nbsp;</span>HelloWorld</a></div><div class=\"lev3 toc-item\"><a href=\"#Genes\" data-toc-modified-id=\"Genes-211\"><span class=\"toc-item-num\">2.1.1&nbsp;&nbsp;</span>Genes</a></div><div class=\"lev3 toc-item\"><a href=\"#Generate-a-guess\" data-toc-modified-id=\"Generate-a-guess-212\"><span class=\"toc-item-num\">2.1.2&nbsp;&nbsp;</span>Generate a guess</a></div><div class=\"lev3 toc-item\"><a href=\"#Fitness\" data-toc-modified-id=\"Fitness-213\"><span class=\"toc-item-num\">2.1.3&nbsp;&nbsp;</span>Fitness</a></div><div class=\"lev3 toc-item\"><a href=\"#Mutate\" data-toc-modified-id=\"Mutate-214\"><span class=\"toc-item-num\">2.1.4&nbsp;&nbsp;</span>Mutate</a></div><div class=\"lev3 toc-item\"><a href=\"#Display\" data-toc-modified-id=\"Display-215\"><span class=\"toc-item-num\">2.1.5&nbsp;&nbsp;</span>Display</a></div><div class=\"lev3 toc-item\"><a href=\"#Main\" data-toc-modified-id=\"Main-216\"><span class=\"toc-item-num\">2.1.6&nbsp;&nbsp;</span>Main</a></div><div class=\"lev3 toc-item\"><a href=\"#Summarize\" data-toc-modified-id=\"Summarize-217\"><span class=\"toc-item-num\">2.1.7&nbsp;&nbsp;</span>Summarize</a></div><div class=\"lev2 toc-item\"><a href=\"#Extract--a-reuseable-engine\" data-toc-modified-id=\"Extract--a-reuseable-engine-22\"><span class=\"toc-item-num\">2.2&nbsp;&nbsp;</span>Extract  a reuseable engine</a></div><div class=\"lev3 toc-item\"><a href=\"#Generate-and-Mutate\" data-toc-modified-id=\"Generate-and-Mutate-221\"><span class=\"toc-item-num\">2.2.1&nbsp;&nbsp;</span>Generate and Mutate</a></div><div class=\"lev3 toc-item\"><a href=\"#Use-Library\" data-toc-modified-id=\"Use-Library-222\"><span class=\"toc-item-num\">2.2.2&nbsp;&nbsp;</span>Use Library</a></div><div class=\"lev3 toc-item\"><a href=\"#Display-&amp;-Fitness\" data-toc-modified-id=\"Display-&amp;-Fitness-223\"><span class=\"toc-item-num\">2.2.3&nbsp;&nbsp;</span>Display &amp; Fitness</a></div><div class=\"lev3 toc-item\"><a href=\"#Main\" data-toc-modified-id=\"Main-224\"><span class=\"toc-item-num\">2.2.4&nbsp;&nbsp;</span>Main</a></div><div class=\"lev2 toc-item\"><a href=\"#Python-framework:-unittest\" data-toc-modified-id=\"Python-framework:-unittest-23\"><span class=\"toc-item-num\">2.3&nbsp;&nbsp;</span>Python framework: <code>unittest</code></a></div><div class=\"lev2 toc-item\"><a href=\"#Introduce-a-Chromosome-object\" data-toc-modified-id=\"Introduce-a-Chromosome-object-24\"><span class=\"toc-item-num\">2.4&nbsp;&nbsp;</span>Introduce a Chromosome object</a></div><div class=\"lev2 toc-item\"><a href=\"#Benchmarking\" data-toc-modified-id=\"Benchmarking-25\"><span class=\"toc-item-num\">2.5&nbsp;&nbsp;</span>Benchmarking</a></div><div class=\"lev1 toc-item\"><a href=\"#Note2:-莫烦-PYTHON\" data-toc-modified-id=\"Note2:-莫烦-PYTHON-3\"><span class=\"toc-item-num\">3&nbsp;&nbsp;</span>Note2: 莫烦 PYTHON</a></div><div class=\"lev2 toc-item\"><a href=\"#配对句子\" data-toc-modified-id=\"配对句子-31\"><span class=\"toc-item-num\">3.1&nbsp;&nbsp;</span>配对句子 </a></div><div class=\"lev2 toc-item\"><a href=\"#旅行商人问题\" data-toc-modified-id=\"旅行商人问题-32\"><span class=\"toc-item-num\">3.2&nbsp;&nbsp;</span>旅行商人问题 </a></div><div class=\"lev2 toc-item\"><a href=\"#寻找附近路线\" data-toc-modified-id=\"寻找附近路线-33\"><span class=\"toc-item-num\">3.3&nbsp;&nbsp;</span>寻找附近路线 </a></div><div class=\"lev1 toc-item\"><a href=\"#小结\" data-toc-modified-id=\"小结-4\"><span class=\"toc-item-num\">4&nbsp;&nbsp;</span>小结 </a></div><div class=\"lev1 toc-item\"><a href=\"#References\" data-toc-modified-id=\"References-5\"><span class=\"toc-item-num\">5&nbsp;&nbsp;</span>References</a></div>"
   ]
  },
  {
   "cell_type": "markdown",
   "metadata": {},
   "source": [
    "~ Introduction\n",
    "\n",
    "- MIT Genetic Note\n",
    "  - 算法概述，直观了解，如果不写代码，看这一部分就够了\n",
    "- Note*\n",
    "  - 本部分内容代码为主，在第一部分轮廓的基础上，深入去探究每个细节。\n",
    "- References\n",
    "  - 参考文章"
   ]
  },
  {
   "cell_type": "markdown",
   "metadata": {},
   "source": [
    "# MIT Genetic Note\n",
    "\n",
    "From [麻省理工学院公开课：人工智能](http://open.163.com/movie/2017/9/Q/S/MCTMNN3UI_MCTMNR8QS.html)  \n",
    "\n",
    "本部分内容可以让你对算法形成非常直观的印象，对她的轮廓有个大致了解。"
   ]
  },
  {
   "cell_type": "markdown",
   "metadata": {},
   "source": [
    "## Outline"
   ]
  },
  {
   "cell_type": "markdown",
   "metadata": {},
   "source": [
    "![](./images/ga1.png)"
   ]
  },
  {
   "cell_type": "markdown",
   "metadata": {},
   "source": [
    "- ACTG 010001....\n",
    "\n",
    "---\n",
    "\n",
    "- POPULATION\n",
    "- MUTATION\n",
    "- CROSSOVER(maybe not)\n",
    "- Genotype->Phenotype(chromosome determines the individual): interpreted to be somethings\n",
    "- FITNESS\n",
    "- Fitness->Probability: survival into the next generation\n",
    "- SELECTION\n",
    "- NEW GENERATION"
   ]
  },
  {
   "cell_type": "markdown",
   "metadata": {},
   "source": [
    "## Ideas"
   ]
  },
  {
   "cell_type": "markdown",
   "metadata": {},
   "source": [
    "### IDEA 1: Fitness(basic)\n",
    "\n",
    "每一步，每个个体的概率和应该等于 1。  \n",
    "\n",
    "选出第 i 个的概率：$$Probability_i = \\frac {fitness_i}{\\sum{fitness_i}}$$  "
   ]
  },
  {
   "cell_type": "markdown",
   "metadata": {},
   "source": [
    "EG:  \n",
    "![](./images/ga2.png)"
   ]
  },
  {
   "cell_type": "markdown",
   "metadata": {},
   "source": [
    "例子中的函数右上角是最优值，算法的目的是在空间中选择（x,y），最后到达右上角。实验结果如下：  \n",
    "\n",
    "- MUTATION: 0.3, 0.7 --> 0.2, 0.7。陷入局部最优\n",
    "- CORSSOVER: 0.2, 0.7 --> 0.2, 0.2; 0.6, 0.2 --> 0.6, 0.7。可能陷入局部最优，也肯能找到全局最优\n",
    "- 如果空间有“鸿沟”，基本会陷入局部最优"
   ]
  },
  {
   "cell_type": "markdown",
   "metadata": {},
   "source": [
    "### IDEA 2: Rank(upgrade)"
   ]
  },
  {
   "cell_type": "markdown",
   "metadata": {},
   "source": [
    "![](images/ga3.png)"
   ]
  },
  {
   "cell_type": "markdown",
   "metadata": {},
   "source": [
    "升级：不再关心适应性值具体是多少（不作为决定标准），真正关心的是所有候选者的排序。适应性最强的候选者将有最大概率存活到下一代。p 是存活的概率，(1-p) 是未存活（没选中）的概率，N 是候选者数量。实验结果如下：  \n",
    "\n",
    "- 步长太小可能陷入局部最优。调整后找到全局最优并锁定在全局最优。\n",
    "    - 类似物种进化锁定到一种状态，很多年不变。\n",
    "    - 有时要存活需要一些多样性。\n",
    "    - **simulated annealing**: big step size, then gradually reduce the step size\n",
    "- 如果有“鸿沟”，还是会陷入局部最优"
   ]
  },
  {
   "cell_type": "markdown",
   "metadata": {},
   "source": [
    "### IDEA 3: Diversity(upgrade)"
   ]
  },
  {
   "cell_type": "markdown",
   "metadata": {},
   "source": [
    "![](images/ga4.png)"
   ]
  },
  {
   "cell_type": "markdown",
   "metadata": {},
   "source": [
    "升级：**Fitness and Diversity**（适应性和多样性）。适应性和多样性排名（排序组合）最高的将有最大概率存活到下一代。实验结果如下：  \n",
    "\n",
    "- 多样性让结果扩散开来（各个区域都有）\n",
    "- 如果有“鸿沟”，多样性同样能让结果扩散，如果取消多样性则收敛锁定至最优区域。"
   ]
  },
  {
   "cell_type": "markdown",
   "metadata": {},
   "source": [
    "### Summarize\n",
    "\n",
    "选出最大的 fitness prob --> 选出排名最靠前的 fitness prob  --> 选出同时具备 fitness 和 diversity，且排名最靠前的\n",
    "\n",
    "- 突变：爬山，生成一些扩散，用适应性指标来爬山\n",
    "- 交叉：将多个个体的优点综合到一个个体身上\n",
    "\n",
    "\n",
    "THAT SPACE is RICH in SOLUTIONS!有时候并不是算法有多优秀，而是编程者的技巧和求解空间的丰富性（几乎任何机制都能找到它）。  \n",
    "\n",
    "整体感觉很像梯度下降法，步长的改变方式在梯度下降中也经常用（learning rate decay）。"
   ]
  },
  {
   "cell_type": "markdown",
   "metadata": {},
   "source": [
    "### Application\n",
    "\n",
    "Expert System:  \n",
    "\n",
    "IF (X, Y), THEN...  \n",
    "IF (L, M), THEN...  \n",
    "\n",
    "Combine: IF (X', M), THEN..."
   ]
  },
  {
   "cell_type": "markdown",
   "metadata": {},
   "source": [
    "# Note1: Guess password\n",
    "\n",
    "[Introduction to Genetic Algorithms with Python - Hello World! - CodeProject](https://www.codeproject.com/Articles/1104747/Introduction-to-Genetic-Algorithms-with-Python-Hel)  \n",
    "\n",
    "非常浅显易懂，建议初学者按步骤阅读~"
   ]
  },
  {
   "cell_type": "markdown",
   "metadata": {},
   "source": [
    "A genetic algorithm does not know what lower means. It has no intelligence. It does not learn. It will make the same mistakes every time.   \n",
    "\n",
    "It will only be as good at solving a problem as the person who writes the code.   \n",
    "\n",
    "And yet, it can be used to find solutions to problems that humans would struggle to solve or could not solve at all.   \n",
    "\n",
    "How is that possible?  \n",
    "When playing a card game inexperienced players build a mental map using the cards in their hand and those on the table.   \n",
    "More experienced players also take advantage of their knowledge of the **problem space**, the entire set of cards in the deck. This means they may also keep track of cards that have not yet been played, and may know they can win the rest of the rounds without having to play them out.   \n",
    "Highly experienced card players also know the probabilities of various winning combinations.  \n",
    "\n",
    "Genetic algorithms use random exploration of the problem space combined with evolutionary processes like mutation and crossover (exchange of genetic information) to improve guesses.   \n",
    "\n",
    "But also, because they have no experience in the problem domain, they try things a human would never think to try. Thus, **a person using a genetic algorithm may learn more** about the problem space and potential solutions. This gives them the ability to make improvements to the algorithm, in a virtuous cycle.\n",
    "\n",
    "\n",
    "**Technique: The genetic algorithm should make informed guesses.**"
   ]
  },
  {
   "cell_type": "markdown",
   "metadata": {},
   "source": [
    "## HelloWorld"
   ]
  },
  {
   "cell_type": "markdown",
   "metadata": {},
   "source": [
    "### Genes"
   ]
  },
  {
   "cell_type": "code",
   "execution_count": 282,
   "metadata": {},
   "outputs": [],
   "source": [
    "gene_set = \" abcdefghijklmnopqrstuvwxyzABCDEFGHIJKLMNOPQRSTUVWXYZ!.\"\n",
    "target = \"Hello World!\""
   ]
  },
  {
   "cell_type": "markdown",
   "metadata": {},
   "source": [
    "### Generate a guess\n",
    "\n",
    "生成最基本的基因。"
   ]
  },
  {
   "cell_type": "code",
   "execution_count": 267,
   "metadata": {},
   "outputs": [],
   "source": [
    "import random\n",
    "\n",
    "def generate_parent(length):\n",
    "    genes = []\n",
    "    while len(genes) < length:\n",
    "        # 与目标长度的距离\n",
    "        sample_size = min(length - len(genes), len(gene_set))\n",
    "        # 扩展至目标长度\n",
    "        genes.extend(random.sample(gene_set, sample_size))\n",
    "    return ''.join(genes)"
   ]
  },
  {
   "cell_type": "code",
   "execution_count": 27,
   "metadata": {},
   "outputs": [
    {
     "name": "stdout",
     "output_type": "stream",
     "text": [
      "pcyoeWDxk Uu\n",
      "ojmFvS.QxPhc\n",
      "lAZtxNXVUKEa\n",
      "wdVBAROrps n\n",
      ".YpXntmERjbB\n",
      "agwhmXCWDBF \n",
      "NOSwTVZyjFGu\n",
      "apAJnyoWg EN\n",
      ".PIRUHNBOhbM\n",
      "BwZOczRixeKf\n"
     ]
    }
   ],
   "source": [
    "# 跑 10 次结果看看\n",
    "for i in range(10):\n",
    "    print(generate_parent(len(target)))"
   ]
  },
  {
   "cell_type": "markdown",
   "metadata": {},
   "source": [
    "### Fitness\n",
    "\n",
    "The fitness value the genetic algorithm provides is the **only feedback** the engine gets to guide it toward a solution.   \n",
    "在这个问题中，我们的 fitness value 就是 target(Hello World!)  \n",
    "\n",
    "我们注意到，这其实是一种 “生成式” 的算法，不同于常见的有监督学习。  \n",
    "\n",
    "确定 fitness 后，其实就可以去不断 guess 去 “匹配” 我们的 target 了，不过这样完全随机肯定不是我们想要的。"
   ]
  },
  {
   "cell_type": "code",
   "execution_count": 268,
   "metadata": {},
   "outputs": [],
   "source": [
    "def get_fitness(guess):\n",
    "    # zip 是把两个列表组合在一起，这样返回的就是和目标值一样的字母数量\n",
    "    return sum(1 for expected, actual in zip(target, guess) if expected == actual)\n",
    "guess = generate_parent(len(target))"
   ]
  },
  {
   "cell_type": "code",
   "execution_count": 170,
   "metadata": {},
   "outputs": [
    {
     "data": {
      "text/plain": [
       "[('H', 'p'), ('e', 'i'), ('l', 'l'), ('l', 'G'), ('o', 'B')]"
      ]
     },
     "execution_count": 170,
     "metadata": {},
     "output_type": "execute_result"
    }
   ],
   "source": [
    "list(zip(target, guess))[:5]"
   ]
  },
  {
   "cell_type": "markdown",
   "metadata": {},
   "source": [
    "### Mutate\n",
    "\n",
    "突变。"
   ]
  },
  {
   "cell_type": "code",
   "execution_count": 269,
   "metadata": {},
   "outputs": [],
   "source": [
    "def mutate(parent):\n",
    "    # This fixes the problem with randint() which includes the endpoint; \n",
    "    # in Python this is usually not what you want.\n",
    "    # randrange 不包括 endpoint，也就是左边是闭区间，右边是开区间\n",
    "    index = random.randrange(0, len(parent))\n",
    "    # 可以写成继承\n",
    "    child_genes = list(parent)\n",
    "    new_gene, alternate = random.sample(gene_set, 2)\n",
    "    # 尽量保证每一次的突变有 “变化”\n",
    "    # 可以改成如果相等重新生成，不过测试了一下，会出现和 parent 一样的情况，现在这种不会\n",
    "    child_genes[index] = alternate if new_gene == child_genes[index] else new_gene\n",
    "    return ''.join(child_genes)"
   ]
  },
  {
   "cell_type": "markdown",
   "metadata": {},
   "source": [
    "### Display"
   ]
  },
  {
   "cell_type": "code",
   "execution_count": 270,
   "metadata": {},
   "outputs": [],
   "source": [
    "import datetime\n",
    "\n",
    "def display(guess):\n",
    "    time_diff = datetime.datetime.now() - start_time\n",
    "    fitness = get_fitness(guess)\n",
    "    print(\"%s %s %s\" % (guess, fitness, str(time_diff)))"
   ]
  },
  {
   "cell_type": "markdown",
   "metadata": {},
   "source": [
    "### Main"
   ]
  },
  {
   "cell_type": "code",
   "execution_count": 259,
   "metadata": {
    "scrolled": true
   },
   "outputs": [
    {
     "name": "stdout",
     "output_type": "stream",
     "text": [
      "AKiblEJMavsN 0 0:00:00.000255\n",
      "HKiblEJMavsN 1 0:00:00.001996\n",
      "HKillEJMavsN 2 0:00:00.002763\n",
      "HKillEWMavsN 3 0:00:00.003505\n",
      "HeillEWMavsN 4 0:00:00.004364\n",
      "Heill WMavsN 5 0:00:00.005042\n",
      "Helll WMavsN 6 0:00:00.007420\n",
      "Hello WMavsN 7 0:00:00.007545\n",
      "Hello WoavsN 8 0:00:00.009366\n",
      "Hello WoalsN 9 0:00:00.014835\n",
      "Hello WorlsN 10 0:00:00.029381\n",
      "Hello Worls! 11 0:00:00.034145\n",
      "Hello World! 12 0:00:00.034411\n",
      "Has spent 1549 steps.\n"
     ]
    }
   ],
   "source": [
    "# 到这里，程序其实并没有什么效果，还是很随机，没有 ”方向感“\n",
    "random.seed()\n",
    "start_time = datetime.datetime.now()\n",
    "best_parent = generate_parent(len(target))\n",
    "best_fitness = get_fitness(best_parent)\n",
    "display(best_parent)\n",
    "\n",
    "n = 0\n",
    "while 1:\n",
    "    # 关键在 ”突变“\n",
    "    child = mutate(best_parent)\n",
    "    child_fitness = get_fitness(child)\n",
    "    n += 1\n",
    "    if best_fitness >= child_fitness:\n",
    "        continue\n",
    "    display(child)\n",
    "    if child_fitness >= len(best_parent):\n",
    "        break\n",
    "    best_fitness = child_fitness\n",
    "    best_parent = child\n",
    "print(\"Has spent %s steps.\" % n)"
   ]
  },
  {
   "cell_type": "code",
   "execution_count": null,
   "metadata": {},
   "outputs": [],
   "source": [
    "# 当然，我们也可以完全随机（不突变）试试\n",
    "random.seed()\n",
    "start_time = datetime.datetime.now()\n",
    "best_parent = generate_parent(len(target))\n",
    "best_fitness = get_fitness(best_parent)\n",
    "display(best_parent)\n",
    "\n",
    "n = 0\n",
    "while 1:\n",
    "    # 注意下面这句代码，我们没有使用突变，每次重新生成\n",
    "    child = generate_parent(len(target))\n",
    "    child_fitness = get_fitness(child)\n",
    "    n += 1\n",
    "    if best_fitness >= child_fitness:\n",
    "        continue\n",
    "    display(child)\n",
    "    if child_fitness >= len(best_parent):\n",
    "        break\n",
    "    best_fitness = child_fitness\n",
    "    best_parent = child\n",
    "print(\"Has spent %s steps.\" % n)"
   ]
  },
  {
   "cell_type": "markdown",
   "metadata": {},
   "source": [
    "### Summarize\n",
    "\n",
    "不突变的情况下，基本匹配到 5 个字母就 GG（等了有将近 5 分钟，还是没到 6，难道 5 有什么特殊的意义么~）了……  \n",
    "看来，变化才是生存之道呀！"
   ]
  },
  {
   "cell_type": "markdown",
   "metadata": {},
   "source": [
    "## Extract  a reuseable engine\n",
    "\n",
    "副标题：论重构代码的重要性！  \n",
    "\n",
    "我们大概想一下，可以先生成，对结果进行评估；再突变，然后对突变的结果进行评估；如果结果没有变的更好则重新突变，直到达到最终结果为止。"
   ]
  },
  {
   "cell_type": "markdown",
   "metadata": {},
   "source": [
    "### Generate and Mutate"
   ]
  },
  {
   "cell_type": "code",
   "execution_count": 19,
   "metadata": {},
   "outputs": [],
   "source": [
    "import random\n",
    "\n",
    "def _generate_parent(length, gene_set):\n",
    "    genes = []\n",
    "    while len(genes) < length:\n",
    "        # 与目标长度的距离\n",
    "        sample_size = min(length - len(genes), len(gene_set))\n",
    "        # 扩展至目标长度\n",
    "        genes.extend(random.sample(gene_set, sample_size))\n",
    "    return ''.join(genes)\n",
    "\n",
    "def _mutate(parent, gene_set):\n",
    "    # This fixes the problem with randint() which includes the endpoint; \n",
    "    # in Python this is usually not what you want.\n",
    "    # randrange 不包括 endpoint，也就是左边是闭区间，右边是开区间\n",
    "    index = random.randrange(0, len(parent))\n",
    "    # 可以写成继承\n",
    "    child_genes = list(parent)\n",
    "    new_gene, alternate = random.sample(gene_set, 2)\n",
    "    # 尽量保证每一次的突变有 “变化”\n",
    "    # 可以改成如果相等重新生成，不过测试了一下，会出现和 parent 一样的情况，现在这种不会\n",
    "    child_genes[index] = alternate if new_gene == child_genes[index] else new_gene\n",
    "    return ''.join(child_genes)\n",
    "\n",
    "def get_best(get_fitness, target_len, optimal_fitness, gene_set, display):\n",
    "    random.seed()\n",
    "    best_parent = _generate_parent(target_len, gene_set)\n",
    "    best_fitness = get_fitness(best_parent)\n",
    "    display(best_parent)\n",
    "    \n",
    "    # 如果一下就生成 目标值，直接返回\n",
    "    if best_fitness >= optimal_fitness:\n",
    "        return best_parent\n",
    "\n",
    "    n = 0\n",
    "    while 1:\n",
    "        # 关键在 ”突变“\n",
    "        child = _mutate(best_parent, gene_set)\n",
    "        child_fitness = get_fitness(child)\n",
    "        n += 1\n",
    "        if best_fitness >= child_fitness:\n",
    "            continue\n",
    "        display(child)\n",
    "        if child_fitness >= optimal_fitness:\n",
    "            print(\"Has spent %s steps.\" % n)\n",
    "            return child\n",
    "        best_fitness = child_fitness\n",
    "        best_parent = child"
   ]
  },
  {
   "cell_type": "markdown",
   "metadata": {},
   "source": [
    "### Use Library"
   ]
  },
  {
   "cell_type": "code",
   "execution_count": 25,
   "metadata": {},
   "outputs": [],
   "source": [
    "def test(target):\n",
    "    guess_pwd(target)\n",
    "\n",
    "def guess_pwd(target):\n",
    "    gene_set = \" abcdefghijklmnopqrstuvwxyzABCDEFGHIJKLMNOPQRSTUVWXYZ!.\"\n",
    "    start_time = datetime.datetime.now()\n",
    "    \n",
    "    def fn_getfitness(genes):\n",
    "        return get_fitness(genes, target)\n",
    "    \n",
    "    def fn_display(genes):\n",
    "        display(genes, target, start_time)\n",
    "    \n",
    "    optimal_fitness = len(target)\n",
    "    get_best(fn_getfitness, len(target), optimal_fitness, gene_set, fn_display)"
   ]
  },
  {
   "cell_type": "markdown",
   "metadata": {},
   "source": [
    "### Display & Fitness"
   ]
  },
  {
   "cell_type": "code",
   "execution_count": 22,
   "metadata": {},
   "outputs": [],
   "source": [
    "def get_fitness(genes, target):\n",
    "    # zip 是把两个列表组合在一起，这样返回的就是和目标值一样的字母数量\n",
    "    return sum(1 for expected, actual in zip(target, genes) if expected == actual)\n",
    "\n",
    "import datetime\n",
    "def display(genes, target, start_time):\n",
    "    time_diff = datetime.datetime.now() - start_time\n",
    "    fitness = get_fitness(genes, target)\n",
    "    if fitness % 5 == 0:\n",
    "        print(\"%s %s %s\" % (genes, fitness, str(time_diff)))"
   ]
  },
  {
   "cell_type": "markdown",
   "metadata": {},
   "source": [
    "### Main"
   ]
  },
  {
   "cell_type": "code",
   "execution_count": 26,
   "metadata": {
    "scrolled": true
   },
   "outputs": [
    {
     "name": "stdout",
     "output_type": "stream",
     "text": [
      "wzXIK.OfhMbC 0 0:00:00.000773\n",
      "HelIK.OfhMd! 5 0:00:00.011632\n",
      "HellK Wohld! 10 0:00:00.020937\n",
      "Has spent 1352 steps.\n"
     ]
    }
   ],
   "source": [
    "target = \"Hello World!\"\n",
    "test(target)"
   ]
  },
  {
   "cell_type": "code",
   "execution_count": 27,
   "metadata": {},
   "outputs": [
    {
     "name": "stdout",
     "output_type": "stream",
     "text": [
      "DuZdUqMjCikhQcEILXrTgmbfwVlv.tzpeNWFGOxY 0 0:00:00.000447\n",
      "DuZdU MjCfkhrcEILXrTgmbfwVlv.tzpeNWFaOeY 5 0:00:00.009775\n",
      "DuZdU ajCfkhrfElLXrTgmbfwVlvrtzpeyWFaOeY 10 0:00:00.018749\n",
      "DuZdU ajCfkarfElLX agdbfwVlvrtzplyWFaOeY 15 0:00:00.034314\n",
      "DurdU ajCfkarfulLX agdbwwVlvrtuplyWFaOe. 20 0:00:00.057150\n",
      "Dur U ajCfkarfullX and wwnlvrtuplyWFaOe. 25 0:00:00.075262\n",
      "Dur U aj fkarfullX and wwnlertuply made. 30 0:00:00.099702\n",
      "Dur I aj fearfully and wwndertully made. 35 0:00:00.171501\n",
      "For I am fearfully and wonderfully made. 40 0:00:00.273485\n",
      "Has spent 8511 steps.\n"
     ]
    }
   ],
   "source": [
    "target = \"For I am fearfully and wonderfully made.\"\n",
    "test(target)"
   ]
  },
  {
   "cell_type": "markdown",
   "metadata": {},
   "source": [
    "## Python framework: `unittest`\n",
    "\n",
    "The `unittest` library automatically executes each function whose name **starts** with \"test\", as long as we call its `main` function.  \n",
    "\n",
    "`python -m unittest -b guess_test.py`  \n",
    "\n",
    "详见 `genetic.py, guess*.py` 代码~"
   ]
  },
  {
   "cell_type": "markdown",
   "metadata": {},
   "source": [
    "## Introduce a Chromosome object\n",
    "\n",
    "注意：`chromosome_genetic` 返回的是两个值了。  \n",
    "\n",
    "详见 `chromosome*.py` 代码~"
   ]
  },
  {
   "cell_type": "markdown",
   "metadata": {},
   "source": [
    "## Benchmarking  \n",
    "\n",
    "详见 `bench*.py` 代码~  \n",
    "也是最终版的代码。  \n",
    "\n",
    "注意：`bench_genetic.py` 中的 `Benchmark class` 中的 `staticmethod` 以及另外的 `classmethod`:  \n",
    "\n",
    ">- @classmethod means: when this method is called, we pass the class as the first argument instead of the instance of that class (as we normally do with methods). This means you can use the class and its properties inside that method rather than a particular instance.  \n",
    "- @staticmethod means: when this method is called, we don't pass an instance of the class to it (as we normally do with methods). This means you can put a function inside a class but you can't access the instance of that class (this is useful when your method does not use the instance).  \n",
    "\n",
    "\n",
    "\n",
    "参考至：[python - Meaning of @classmethod and @staticmethod for beginner? - Stack Overflow](https://stackoverflow.com/questions/12179271/meaning-of-classmethod-and-staticmethod-for-beginner/12179325#12179325)"
   ]
  },
  {
   "cell_type": "code",
   "execution_count": 31,
   "metadata": {},
   "outputs": [],
   "source": [
    "class Date(object):\n",
    "    \n",
    "    def __init__(self, day=0, month=0, year=0):\n",
    "        self.day = day\n",
    "        self.month = month\n",
    "        self.year = year\n",
    "    @classmethod\n",
    "    def from_string(cls, date_as_string):\n",
    "        day, month, year = map(int, date_as_string.split('-'))\n",
    "        date1 = cls(day, month, year)\n",
    "        return date1\n",
    "    @staticmethod\n",
    "    def is_date_valid(date_as_string):\n",
    "        day, month, year = map(int, date_as_string.split('-'))\n",
    "        return day <=31 and month <=12 and year <= 3999\n",
    "# 参考至：\n",
    "# https://stackoverflow.com/questions/12179271/meaning-of-classmethod-and-staticmethod-for-beginner"
   ]
  },
  {
   "cell_type": "code",
   "execution_count": 29,
   "metadata": {},
   "outputs": [
    {
     "data": {
      "text/plain": [
       "11"
      ]
     },
     "execution_count": 29,
     "metadata": {},
     "output_type": "execute_result"
    }
   ],
   "source": [
    "date2 = Date.from_string('11-09-2012')\n",
    "date2.day"
   ]
  },
  {
   "cell_type": "code",
   "execution_count": 34,
   "metadata": {},
   "outputs": [
    {
     "data": {
      "text/plain": [
       "True"
      ]
     },
     "execution_count": 34,
     "metadata": {},
     "output_type": "execute_result"
    }
   ],
   "source": [
    "is_date = Date.is_date_valid('11-09-2012')\n",
    "is_date"
   ]
  },
  {
   "cell_type": "markdown",
   "metadata": {},
   "source": [
    "# Note2: 莫烦 PYTHON\n",
    "\n",
    "这个系列的笔记来自[莫烦 Python](https://morvanzhou.github.io/)，一个做的蛮好的教程网站，都是用非常简洁明了的方式（应该也是作者努力的初衷）介绍相关的基础知识和小 trick，特别适合小白~  \n",
    "而我就是算法小白~~"
   ]
  },
  {
   "cell_type": "markdown",
   "metadata": {},
   "source": [
    "## 配对句子  \n",
    "\n",
    "[例子 配对句子 - 进化算法 Evolutionary Algorithm | 莫烦 Python](https://morvanzhou.github.io/tutorials/machine-learning/evolutionary-algorithm/2-02-genetic-algorithm-match-phrase/)  \n",
    "\n",
    "该例子和猜密码的例子其实是一样的，稍微有一点点变化，直接上源码。  \n",
    "PS: 我把代码敲了一遍，顺便把注释写完了~感谢[莫烦 Python](https://morvanzhou.github.io/)提供的这么好的教程~"
   ]
  },
  {
   "cell_type": "code",
   "execution_count": 237,
   "metadata": {},
   "outputs": [
    {
     "name": "stdout",
     "output_type": "stream",
     "text": [
      "Gen 1 :  w2YWzeN `r%\n",
      "Gen 2 :  wnY@Ge+ {U%\n",
      "Gen 3 :  G@Y@)e~ KO!\n",
      "Gen 4 :  wdF$aet Ir%\n",
      "Gen 5 :  u ] aet Ir%\n",
      "Gen 6 :  u ] aet Ir%\n",
      "Gen 7 :  u ] aet Ir%\n",
      "Gen 8 :  wnY GeT I2%\n",
      "Gen 9 :  no- b)t I2!\n",
      "Gen 10 :  $ fWGet I2!\n",
      "Gen 20 :  Yog Get IO!\n",
      "Gen 30 :  Yog Get IO!\n",
      "Gen 40 :  YoN Get It!\n",
      "Gen 50 :  Yo= Get It!\n",
      "Gen 60 :  Yo- Get It!\n",
      "Gen 70 :  Yob Get It!\n",
      "Gen 80 :  YoU Get It!\n",
      "Gen 90 :  YoY Get It!\n",
      "Gen 99 :  You Get It!\n"
     ]
    }
   ],
   "source": [
    "\"\"\"\n",
    "Visualize Genetic Algorithm to match the target phrase.\n",
    "\n",
    "More detail please visit MoFan's website: https://morvanzhou.github.io/tutorials/\n",
    "\"\"\"\n",
    "\n",
    "import numpy as np \n",
    "\n",
    "# 全局变量\n",
    "TARGET_PHRASE = \"You Get It!\" # target\n",
    "POP_SIZE = 300 # population size，有很多 population，我们才能在其中开始突变，交换什么的\n",
    "CROSS_RATE = 0.4 # 交换的概率\n",
    "MUTATION_RATE = 0.01 # 变异的概率\n",
    "N_GENERATIONS = 1000\n",
    "\n",
    "DNA_SIZE = len(TARGET_PHRASE)\n",
    "TARGET_ASCII = np.fromstring(TARGET_PHRASE, dtype=np.uint8) # string 转数字\n",
    "ASCII_BOUND = [32, 126] # 边界\n",
    "\n",
    "# 创建 GA 类\n",
    "class GA(object):\n",
    "    # 类属性\n",
    "    def __init__(self, DNA_size, DNA_bound, cross_rate, mutation_rate,  pop_size):\n",
    "        self.DNA_size = DNA_size\n",
    "        DNA_bound[1] += 1 # 每次增加 1，意思是随着进化边界越来越宽\n",
    "        self.DNA_bound = DNA_bound\n",
    "        self.cross_rate = cross_rate\n",
    "        self. mutae_rate = mutation_rate\n",
    "        self.pop_size = pop_size\n",
    "        \n",
    "        # np.random.randint(low, high, size, dtype='1')，默认的 dtype 是 np.int\n",
    "        self.pop = np.random.randint(*DNA_bound, size=(pop_size, DNA_size)).astype(np.int8)\n",
    "    \n",
    "    # 类方法\n",
    "    def translate_dna(self, DNA):\n",
    "        return DNA.tostring().decode('ascii') # 转成 string\n",
    "    \n",
    "    def get_fitness(self):\n",
    "        # 返回每一个 pop 和 TARGET 的匹配情况（Fitness，适应性）\n",
    "        match_count = (self.pop == TARGET_ASCII).sum(axis=1) # 行相加\n",
    "        return match_count\n",
    "    \n",
    "    def select(self):\n",
    "        fitness = self.get_fitness() + 1e-4 # 防止为 0，加一个很小的值\n",
    "        # Generates a random sample from a given 1-D array\n",
    "        # 从 arange(300) 中间根据概率 p 选择 pop_size 个，举例来说，如果 p 是 300 个 1/300 就是均匀选择\n",
    "        # 这个函数以后还用的比较多，比如 MCMC 采样时\n",
    "        idx = np.random.choice(np.arange(self.pop_size), size=self.pop_size, \n",
    "                               replace=True, p=fitness/fitness.sum())\n",
    "        return self.pop[idx]\n",
    "    \n",
    "    def crossover(self, parent, pop):\n",
    "        # np.random.rand() 随机数\n",
    "        if np.random.rand() < self.cross_rate:\n",
    "            # 返回一个 1*1 的矩阵\n",
    "            i_ = np.random.randint(0, self.pop_size, size=1) # or size=[1], size=[1,1]\n",
    "            # size len(TARGET) 的向量，决定哪些交换哪些交换\n",
    "            cross_points = np.random.randint(0, 2, self.DNA_size).astype(np.bool) \n",
    "            # 第 i_ 行（第 i_ 个 population），bool 为 True 的取出来\n",
    "            # 父辈交换\n",
    "            parent[cross_points] = pop[i_, cross_points]\n",
    "        return parent\n",
    "    \n",
    "    def mutate(self, child):\n",
    "        for point in range(self.DNA_size):\n",
    "            if np.random.rand() < self.mutae_rate:\n",
    "                child[point] = np.random.randint(*self.DNA_bound) # 变异一个 DNA， 在边界中选一个\n",
    "        return child\n",
    "    \n",
    "    def evolve(self):\n",
    "        # 返回出现较多的（适应性较高的），300 * 11；出现概率低的就慢慢消失了\n",
    "        pop = self.select()\n",
    "        pop_copy = pop.copy()\n",
    "        for parent in pop:\n",
    "            child = self.crossover(parent, pop_copy)\n",
    "            child = self.mutate(child)\n",
    "            parent[:] = child\n",
    "        self.pop = pop\n",
    "\n",
    "ga = GA(DNA_size=DNA_SIZE, DNA_bound=ASCII_BOUND, cross_rate=CROSS_RATE, \n",
    "       mutation_rate=MUTATION_RATE, pop_size=POP_SIZE)\n",
    "\n",
    "for generation in range(N_GENERATIONS):\n",
    "    fitness = ga.get_fitness()\n",
    "    # 选出最大的\n",
    "    best_DNA = ga.pop[np.argmax(fitness)]\n",
    "    best_phase = ga.translate_dna(best_DNA)\n",
    "    if generation < 10 or generation % 10 == 9:\n",
    "        print('Gen', generation+1, ': ', best_phase)\n",
    "    if best_phase == TARGET_PHRASE:\n",
    "        print('Gen', generation+1, ': ', best_phase)\n",
    "        break\n",
    "    ga.evolve()"
   ]
  },
  {
   "cell_type": "markdown",
   "metadata": {},
   "source": [
    "通过运行程序我们发现虽然每次都能找到句子，但其实并没有越来越快（或者说步数越来越少），每次都相当于重新开始~  \n",
    "`py` 程序可以参考莫烦大师 GitHub: [Evolutionary-Algorithm/Match Phrase.py at master · MorvanZhou/Evolutionary-Algorithm](https://github.com/MorvanZhou/Evolutionary-Algorithm/blob/master/tutorial-contents/Genetic%20Algorithm/Match%20Phrase.py)"
   ]
  },
  {
   "cell_type": "markdown",
   "metadata": {},
   "source": [
    "## 旅行商人问题\n",
    "\n",
    "关于旅行商人问题的细节可以看：[旅行推销员问题 - Wikiwand](https://www.wikiwand.com/zh-hans/%E6%97%85%E8%A1%8C%E6%8E%A8%E9%94%80%E5%91%98%E9%97%AE%E9%A2%98)，大意是：给定一系列城市和每对城市之间的距离，求解访问每一座城市一次并回到起始城市的最短回路。它是组合优化中的一个 NP 困难问题。  \n",
    "这里还涉及到另一个问题：[柯尼斯堡七桥问题 - Wikiwand](https://www.wikiwand.com/zh-hans/%E6%9F%AF%E5%B0%BC%E6%96%AF%E5%A0%A1%E4%B8%83%E6%A1%A5%E9%97%AE%E9%A2%98)  \n",
    "\n",
    "这类问题我喜欢归为 “生成” 问题，或 “演绎” 问题，类似于强化学习和 GAN；相反，有监督学习和无监督学习更像一种 “归纳” 问题。 \n",
    "前者是根据规则生成数据，后者是根据数据提取规则。  \n",
    "前者 “分析”，后者 “感知”。   \n",
    "\n",
    "这个问题比配对句子的例子稍微复杂一些，大概的思路如下：  \n",
    "\n",
    "- 确定 population，也就是每一个个体，在这个例子中就是每一条路径；而每条路径对应的节点就是个体的 DNA  \n",
    "- 确定 Fitness 和 Diversity，Fitness 肯定是距离最短，因为我们规定每个点都要走到，所以也就暂时不用管 Diversity 的问题。  \n",
    "- 变异和交换：博客里也提到了，特别需要注意的是变异和交换后依然是一条路径，其实这是人为地让它 Diversity 了。因为 population 们有可能不是完整的路径，也有可能是很多重复又不完整的路径。我们明白道理就好。  \n",
    "\n",
    "最后需要注意的是，这样求解的结果不一定一定是最优解，可能是近似解。"
   ]
  },
  {
   "cell_type": "code",
   "execution_count": 5,
   "metadata": {
    "scrolled": false
   },
   "outputs": [
    {
     "name": "stdout",
     "output_type": "stream",
     "text": [
      "Gen: 0 | best fit: 320.07\n"
     ]
    },
    {
     "data": {
      "image/png": "[encoded data removed]",
      "text/plain": [
       "<matplotlib.figure.Figure at 0x10e03dd30>"
      ]
     },
     "metadata": {},
     "output_type": "display_data"
    }
   ],
   "source": [
    "import matplotlib.pyplot as plt\n",
    "import numpy as np\n",
    "\n",
    "N_CITIES = 20  # DNA size\n",
    "CROSS_RATE = 0.1\n",
    "MUTATE_RATE = 0.02\n",
    "POP_SIZE = 500\n",
    "N_GENERATIONS = 500\n",
    "\n",
    "\n",
    "class GA(object):\n",
    "    def __init__(self, DNA_size, cross_rate, mutation_rate, pop_size, ):\n",
    "        self.DNA_size = DNA_size\n",
    "        self.cross_rate = cross_rate\n",
    "        self.mutate_rate = mutation_rate\n",
    "        self.pop_size = pop_size\n",
    "\n",
    "        self.pop = np.vstack([np.random.permutation(DNA_size) for _ in range(pop_size)])\n",
    "\n",
    "    def translateDNA(self, DNA, city_position):     # get cities' coord in order\n",
    "        line_x = np.empty_like(DNA, dtype=np.float64)\n",
    "        line_y = np.empty_like(DNA, dtype=np.float64)\n",
    "        for i, d in enumerate(DNA):\n",
    "            city_coord = city_position[d]\n",
    "            line_x[i, :] = city_coord[:, 0]\n",
    "            line_y[i, :] = city_coord[:, 1]\n",
    "        return line_x, line_y\n",
    "\n",
    "    def get_fitness(self, line_x, line_y):\n",
    "        total_distance = np.empty((line_x.shape[0],), dtype=np.float64)\n",
    "        for i, (xs, ys) in enumerate(zip(line_x, line_y)):\n",
    "            total_distance[i] = np.sum(np.sqrt(np.square(np.diff(xs)) + np.square(np.diff(ys))))\n",
    "        fitness = np.exp(self.DNA_size * 2 / total_distance)\n",
    "        return fitness, total_distance\n",
    "\n",
    "    def select(self, fitness):\n",
    "        idx = np.random.choice(np.arange(self.pop_size), size=self.pop_size, \n",
    "                               replace=True, p=fitness / fitness.sum())\n",
    "        return self.pop[idx]\n",
    "\n",
    "    def crossover(self, parent, pop):\n",
    "        if np.random.rand() < self.cross_rate:\n",
    "            # select another individual from pop\n",
    "            i_ = np.random.randint(0, self.pop_size, size=1)       \n",
    "            # choose crossover points\n",
    "            cross_points = np.random.randint(0, 2, self.DNA_size).astype(np.bool)   \n",
    "            keep_city = parent[~cross_points]\n",
    "            # find the city number\n",
    "            swap_city = pop[i_, np.isin(pop[i_].ravel(), keep_city, invert=True)]\n",
    "            parent[:] = np.concatenate((keep_city, swap_city))\n",
    "        return parent\n",
    "\n",
    "    def mutate(self, child):\n",
    "        for point in range(self.DNA_size):\n",
    "            if np.random.rand() < self.mutate_rate:\n",
    "                swap_point = np.random.randint(0, self.DNA_size)\n",
    "                swapA, swapB = child[point], child[swap_point]\n",
    "                child[point], child[swap_point] = swapB, swapA\n",
    "        return child\n",
    "\n",
    "    def evolve(self, fitness):\n",
    "        pop = self.select(fitness)\n",
    "        pop_copy = pop.copy()\n",
    "        for parent in pop:  # for every parent\n",
    "            child = self.crossover(parent, pop_copy)\n",
    "            child = self.mutate(child)\n",
    "            parent[:] = child\n",
    "        self.pop = pop\n",
    "\n",
    "\n",
    "class TravelSalesPerson(object):\n",
    "    def __init__(self, n_cities):\n",
    "        self.city_position = np.random.rand(n_cities, 2)\n",
    "        plt.ion()\n",
    "\n",
    "    def plotting(self, lx, ly, total_d):\n",
    "        plt.cla()\n",
    "        plt.scatter(self.city_position[:, 0].T, self.city_position[:, 1].T, s=100, c='k')\n",
    "        plt.plot(lx.T, ly.T, 'r-')\n",
    "        plt.text(-0.05, -0.05, \"Total distance=%.2f\" % total_d, fontdict={'size': 20, 'color': 'red'})\n",
    "        plt.xlim((-0.1, 1.1))\n",
    "        plt.ylim((-0.1, 1.1))\n",
    "        plt.pause(0.01)\n",
    "\n",
    "\n",
    "ga = GA(DNA_size=N_CITIES, cross_rate=CROSS_RATE, mutation_rate=MUTATE_RATE, pop_size=POP_SIZE)\n",
    "\n",
    "env = TravelSalesPerson(N_CITIES)\n",
    "for generation in range(N_GENERATIONS):\n",
    "    lx, ly = ga.translateDNA(ga.pop, env.city_position)\n",
    "    fitness, total_distance = ga.get_fitness(lx, ly)\n",
    "    ga.evolve(fitness)\n",
    "    best_idx = np.argmax(fitness)\n",
    "    if generation % 1000 == 0:\n",
    "        print('Gen:', generation, '| best fit: %.2f' % fitness[best_idx],)\n",
    "        env.plotting(lx[best_idx], ly[best_idx], total_distance[best_idx])\n",
    "\n",
    "plt.ioff()\n",
    "plt.show()"
   ]
  },
  {
   "cell_type": "code",
   "execution_count": null,
   "metadata": {},
   "outputs": [],
   "source": []
  },
  {
   "cell_type": "markdown",
   "metadata": {},
   "source": [
    "## 寻找附近路线"
   ]
  },
  {
   "cell_type": "code",
   "execution_count": null,
   "metadata": {},
   "outputs": [],
   "source": []
  },
  {
   "cell_type": "code",
   "execution_count": null,
   "metadata": {},
   "outputs": [],
   "source": []
  },
  {
   "cell_type": "code",
   "execution_count": null,
   "metadata": {},
   "outputs": [],
   "source": []
  },
  {
   "cell_type": "markdown",
   "metadata": {},
   "source": [
    "# 小结  \n",
    "\n",
    "我们不能否认很多网络教程的质量，但这个算法的学习还是让我明白了，如果你能事先在感性和直观上对她有一定的认识和理解，学习起来可能会更加有效。  \n",
    "\n",
    "先看森林再看树木，先抓轮廓再纠细节。共勉。  \n",
    "\n",
    "希望大家能够关注这些博客和他们的作者，多多支持一下~"
   ]
  },
  {
   "cell_type": "markdown",
   "metadata": {},
   "source": [
    "# References\n",
    "\n",
    "- [麻省理工学院公开课：人工智能_01 什么是人工智能（课程介绍）_网易公开课](http://open.163.com/movie/2017/9/Q/S/MCTMNN3UI_MCTMNR8QS.html)\n",
    "- [Introduction to Genetic Algorithms with Python - Hello World! - CodeProject](https://www.codeproject.com/Articles/1104747/Introduction-to-Genetic-Algorithms-with-Python-Hel)"
   ]
  },
  {
   "cell_type": "code",
   "execution_count": null,
   "metadata": {},
   "outputs": [],
   "source": []
  }
 ],
 "metadata": {
  "kernelspec": {
   "display_name": "Python 3",
   "language": "python",
   "name": "python3"
  },
  "language_info": {
   "codemirror_mode": {
    "name": "ipython",
    "version": 3
   },
   "file_extension": ".py",
   "mimetype": "text/x-python",
   "name": "python",
   "nbconvert_exporter": "python",
   "pygments_lexer": "ipython3",
   "version": "3.6.2"
  },
  "toc": {
   "colors": {
    "hover_highlight": "#DAA520",
    "running_highlight": "#FF0000",
    "selected_highlight": "#FFD700"
   },
   "moveMenuLeft": true,
   "nav_menu": {
    "height": "156px",
    "width": "252px"
   },
   "navigate_menu": true,
   "number_sections": true,
   "sideBar": true,
   "threshold": 4,
   "toc_cell": true,
   "toc_section_display": "block",
   "toc_window_display": true
  }
 },
 "nbformat": 4,
 "nbformat_minor": 2
}
