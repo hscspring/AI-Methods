{
 "cells": [
  {
   "cell_type": "markdown",
   "metadata": {
    "toc": "true"
   },
   "source": [
    "# Table of Contents\n",
    " <p><div class=\"lev1 toc-item\"><a href=\"#GANs-Demo\" data-toc-modified-id=\"GANs-Demo-1\"><span class=\"toc-item-num\">1&nbsp;&nbsp;</span>GANs Demo</a></div><div class=\"lev2 toc-item\"><a href=\"#原始数据的搜集\" data-toc-modified-id=\"原始数据的搜集-11\"><span class=\"toc-item-num\">1.1&nbsp;&nbsp;</span>原始数据的搜集</a></div><div class=\"lev2 toc-item\"><a href=\"#头像截取\" data-toc-modified-id=\"头像截取-12\"><span class=\"toc-item-num\">1.2&nbsp;&nbsp;</span>头像截取</a></div><div class=\"lev2 toc-item\"><a href=\"#训练\" data-toc-modified-id=\"训练-13\"><span class=\"toc-item-num\">1.3&nbsp;&nbsp;</span>训练</a></div>"
   ]
  },
  {
   "cell_type": "markdown",
   "metadata": {},
   "source": [
    "# GANs Demo\n",
    "\n",
    "来自 [GAN学习指南：从原理入门到制作生成Demo - 知乎专栏](https://zhuanlan.zhihu.com/p/24767059) 非常有意思的实现，缺点是没有解释源代码，我们尝试解释一下，让本文更加性感些。  \n",
    "爬虫的代码收下了，多谢作者【何之源】，请大家关注作者专栏。"
   ]
  },
  {
   "cell_type": "markdown",
   "metadata": {},
   "source": [
    "## 原始数据的搜集"
   ]
  },
  {
   "cell_type": "code",
   "execution_count": 1,
   "metadata": {
    "collapsed": true
   },
   "outputs": [],
   "source": [
    "import requests\n",
    "from bs4 import BeautifulSoup\n",
    "import os\n",
    "import traceback"
   ]
  },
  {
   "cell_type": "code",
   "execution_count": 37,
   "metadata": {
    "collapsed": true
   },
   "outputs": [],
   "source": [
    "def download(url, filename):\n",
    "    # 判断文件是否存在\n",
    "    if os.path.exists(filename):\n",
    "        print('file exists!')\n",
    "        return\n",
    "    try:\n",
    "        # 给 url 一个请求，返回 Response\n",
    "        # r.text：bytes；r.content：unicode；r.encoding：编码方式\n",
    "        r = requests.get(url, stream=True, timeout=60)\n",
    "        # r.raise_for_status() 会返回 None，因为 r Response 是 200；r.status_code：200\n",
    "        r.raise_for_status()\n",
    "        # 以下面的模式将文本流保存到文件\n",
    "        with open(filename, 'wb') as f:\n",
    "            # r.iter_content()：chunk size 是允许读进内存的 bytes，默认是 1\n",
    "            for chunk in r.iter_content(chunk_size=1024):\n",
    "                if chunk:\n",
    "                    f.write(chunk)\n",
    "                    f.flush()\n",
    "        return filename\n",
    "    # 手动停止，normally Control-C or Delete\n",
    "    except KeyboardInterrupt:\n",
    "        if os.path.exists(filename):\n",
    "            os.remove(filename)\n",
    "        raise KeyboardInterrupt\n",
    "    # 其他错误\n",
    "    except Exception:\n",
    "        # print_exception(sys.exc_type, sys.exc_value, sys.exc_traceback, limit, file) 的简写\n",
    "        # 打印错误信息\n",
    "        traceback.print_exc()\n",
    "        if os.path.exists(filename):\n",
    "            os.remove(filename)"
   ]
  },
  {
   "cell_type": "code",
   "execution_count": 115,
   "metadata": {
    "collapsed": false
   },
   "outputs": [],
   "source": [
    "# 如果没有 ims 目录就创建\n",
    "if os.path.exists('imgs') is False:\n",
    "    os.makedirs('imgs')"
   ]
  },
  {
   "cell_type": "code",
   "execution_count": null,
   "metadata": {
    "collapsed": true
   },
   "outputs": [],
   "source": [
    "# 中间 requests 可能有各种原因会断，看一下循环的位置，修改 start 即可\n",
    "start = 1\n",
    "end = 10\n",
    "for i in range(start, end+1):\n",
    "    # 正则：page 是数字\n",
    "    url = 'http://konachan.net/post?page=%d&tags=' % i\n",
    "    # bytes\n",
    "    html = requests.get(url).text\n",
    "    # 解析网页\n",
    "    soup = BeautifulSoup(html, 'html.parser')\n",
    "    for img in soup.find_all('img', \"preview\"):\n",
    "        target_url = 'http:' + img['src']\n",
    "        # target_url.split('/')[-1] 就是 “文件名.jpg”\n",
    "        # 自动将 文件名.jpg 存在 imgs 目录下面\n",
    "        filename = os.path.join('imgs', target_url.split('/')[-1])\n",
    "        download(target_url, filename)\n",
    "    print('%d / %d' % (i, end))"
   ]
  },
  {
   "cell_type": "markdown",
   "metadata": {},
   "source": [
    "## 头像截取"
   ]
  },
  {
   "cell_type": "code",
   "execution_count": 17,
   "metadata": {
    "collapsed": false
   },
   "outputs": [],
   "source": [
    "import cv2\n",
    "import sys\n",
    "import os.path\n",
    "from glob import glob"
   ]
  },
  {
   "cell_type": "code",
   "execution_count": 59,
   "metadata": {
    "collapsed": false
   },
   "outputs": [],
   "source": [
    "def detect(filename, cascade_file=\"lbpcascade_animeface.xml\"):\n",
    "    if not os.path.isfile(cascade_file):\n",
    "        raise RuntimeError(\"%s: not found\" % cascade_file)\n",
    "\n",
    "    cascade = cv2.CascadeClassifier(cascade_file)\n",
    "    # 获取图像矩阵：如（212,300,3）\n",
    "    image = cv2.imread(filename)\n",
    "    # 转为灰度矩阵：如（212,300）\n",
    "    # 或者直接加载为灰度：image = cv2.imread(filename, 0)\n",
    "    gray = cv2.cvtColor(image, cv2.COLOR_BGR2GRAY)\n",
    "    # 直方图均衡化\n",
    "    gray = cv2.equalizeHist(gray)\n",
    "    # \n",
    "    faces = cascade.detectMultiScale(gray,\n",
    "                                     # detector options\n",
    "                                     scaleFactor=1.1,\n",
    "                                     minNeighbors=5,\n",
    "                                     minSize=(48, 48))\n",
    "    for i, (x, y, w, h) in enumerate(faces):\n",
    "        face = image[y: y + h, x:x + w, :]\n",
    "        # 变为 96*96\n",
    "        face = cv2.resize(face, (96, 96))\n",
    "        # imgs/**.jpg 的 imgs/**\n",
    "        save_filename = '%s-%d.jpg' % (os.path.basename(filename).split('.')[0], i)\n",
    "        # 写入文件\n",
    "        cv2.imwrite(\"faces/\" + save_filename, face)\n",
    "\n",
    "\n",
    "if __name__ == '__main__':\n",
    "    if os.path.exists('faces') is False:\n",
    "        os.makedirs('faces')\n",
    "    # 返回 imgs/**.jpg 的 list\n",
    "    file_list = glob('imgs/*.jpg')\n",
    "    for filename in file_list:\n",
    "        detect(filename)"
   ]
  },
  {
   "cell_type": "code",
   "execution_count": 78,
   "metadata": {
    "collapsed": true
   },
   "outputs": [],
   "source": [
    "cascade = cv2.CascadeClassifier(\"lbpcascade_animeface.xml\")"
   ]
  },
  {
   "cell_type": "code",
   "execution_count": 86,
   "metadata": {
    "collapsed": true
   },
   "outputs": [],
   "source": [
    "image = cv2.imread('imgs/4ecae22fbd97a2458ec6849ac5a454cc.jpg')"
   ]
  },
  {
   "cell_type": "code",
   "execution_count": 87,
   "metadata": {
    "collapsed": false
   },
   "outputs": [
    {
     "data": {
      "text/plain": [
       "(186, 300, 3)"
      ]
     },
     "execution_count": 87,
     "metadata": {},
     "output_type": "execute_result"
    }
   ],
   "source": [
    "image.shape"
   ]
  },
  {
   "cell_type": "code",
   "execution_count": 88,
   "metadata": {
    "collapsed": true
   },
   "outputs": [],
   "source": [
    "gray = cv2.cvtColor(image, cv2.COLOR_BGR2GRAY)"
   ]
  },
  {
   "cell_type": "code",
   "execution_count": 89,
   "metadata": {
    "collapsed": false
   },
   "outputs": [
    {
     "data": {
      "text/plain": [
       "(186, 300)"
      ]
     },
     "execution_count": 89,
     "metadata": {},
     "output_type": "execute_result"
    }
   ],
   "source": [
    "gray.shape"
   ]
  },
  {
   "cell_type": "code",
   "execution_count": 90,
   "metadata": {
    "collapsed": true
   },
   "outputs": [],
   "source": [
    "gray = cv2.equalizeHist(gray)"
   ]
  },
  {
   "cell_type": "code",
   "execution_count": 91,
   "metadata": {
    "collapsed": true
   },
   "outputs": [],
   "source": [
    "faces = cascade.detectMultiScale(gray,\n",
    "                                 # detector options\n",
    "                                 scaleFactor=1.1,\n",
    "                                 minNeighbors=5,\n",
    "                                 minSize=(48, 48))"
   ]
  },
  {
   "cell_type": "code",
   "execution_count": 92,
   "metadata": {
    "collapsed": false,
    "scrolled": true
   },
   "outputs": [
    {
     "data": {
      "text/plain": [
       "array([[ 50,  62, 106, 106]], dtype=int32)"
      ]
     },
     "execution_count": 92,
     "metadata": {},
     "output_type": "execute_result"
    }
   ],
   "source": [
    "faces"
   ]
  },
  {
   "cell_type": "code",
   "execution_count": 93,
   "metadata": {
    "collapsed": false
   },
   "outputs": [
    {
     "name": "stdout",
     "output_type": "stream",
     "text": [
      "(106, 106, 3)\n",
      "(96, 96, 3)\n"
     ]
    }
   ],
   "source": [
    "for i, (x, y, w, h) in enumerate(faces):\n",
    "    face = image[y: y + h, x:x + w, :]\n",
    "    print face.shape\n",
    "    # 变为 96*96\n",
    "    face = cv2.resize(face, (96, 96))\n",
    "    print face.shape"
   ]
  },
  {
   "cell_type": "markdown",
   "metadata": {},
   "source": [
    "## 训练"
   ]
  },
  {
   "cell_type": "code",
   "execution_count": 4,
   "metadata": {
    "collapsed": false
   },
   "outputs": [
    {
     "name": "stdout",
     "output_type": "stream",
     "text": [
      "\u001b[0m\u001b[01;34mfaces\u001b[0m/\r\n"
     ]
    }
   ],
   "source": [
    "ls data"
   ]
  },
  {
   "cell_type": "code",
   "execution_count": 2,
   "metadata": {
    "collapsed": false
   },
   "outputs": [
    {
     "name": "stdout",
     "output_type": "stream",
     "text": [
      "/home/evil_rabbit/RL/GANs/DCGAN-tensorflow\n"
     ]
    }
   ],
   "source": [
    "cd DCGAN-tensorflow"
   ]
  },
  {
   "cell_type": "code",
   "execution_count": 5,
   "metadata": {
    "collapsed": true
   },
   "outputs": [],
   "source": [
    "import tensorflow as tf"
   ]
  },
  {
   "cell_type": "code",
   "execution_count": 10,
   "metadata": {
    "collapsed": false,
    "scrolled": false
   },
   "outputs": [
    {
     "name": "stdout",
     "output_type": "stream",
     "text": [
      "{'batch_size': 64,\n",
      " 'beta1': 0.5,\n",
      " 'checkpoint_dir': 'checkpoint',\n",
      " 'crop': True,\n",
      " 'dataset': 'faces',\n",
      " 'epoch': 300,\n",
      " 'input_fname_pattern': '*.jpg',\n",
      " 'input_height': 96,\n",
      " 'input_width': 96,\n",
      " 'learning_rate': 0.0002,\n",
      " 'output_height': 48,\n",
      " 'output_width': 48,\n",
      " 'sample_dir': 'samples',\n",
      " 'train': True,\n",
      " 'train_size': inf,\n",
      " 'visualize': False}\n",
      "2017-06-07 19:50:30.360530: W tensorflow/core/platform/cpu_feature_guard.cc:45] The TensorFlow library wasn't compiled to use SSE4.1 instructions, but these are available on your machine and could speed up CPU computations.\n",
      "2017-06-07 19:50:30.360568: W tensorflow/core/platform/cpu_feature_guard.cc:45] The TensorFlow library wasn't compiled to use SSE4.2 instructions, but these are available on your machine and could speed up CPU computations.\n",
      "2017-06-07 19:50:30.360593: W tensorflow/core/platform/cpu_feature_guard.cc:45] The TensorFlow library wasn't compiled to use AVX instructions, but these are available on your machine and could speed up CPU computations.\n",
      "2017-06-07 19:50:30.360616: W tensorflow/core/platform/cpu_feature_guard.cc:45] The TensorFlow library wasn't compiled to use AVX2 instructions, but these are available on your machine and could speed up CPU computations.\n",
      "2017-06-07 19:50:30.360633: W tensorflow/core/platform/cpu_feature_guard.cc:45] The TensorFlow library wasn't compiled to use FMA instructions, but these are available on your machine and could speed up CPU computations.\n",
      "---------\n",
      "Variables: name (type shape) [size]\n",
      "---------\n",
      "generator/g_h0_lin/Matrix:0 (float32_ref 100x4608) [460800, bytes: 1843200]\n",
      "generator/g_h0_lin/bias:0 (float32_ref 4608) [4608, bytes: 18432]\n",
      "generator/g_bn0/beta:0 (float32_ref 512) [512, bytes: 2048]\n",
      "generator/g_bn0/gamma:0 (float32_ref 512) [512, bytes: 2048]\n",
      "generator/g_h1/w:0 (float32_ref 5x5x256x512) [3276800, bytes: 13107200]\n",
      "generator/g_h1/biases:0 (float32_ref 256) [256, bytes: 1024]\n",
      "generator/g_bn1/beta:0 (float32_ref 256) [256, bytes: 1024]\n",
      "generator/g_bn1/gamma:0 (float32_ref 256) [256, bytes: 1024]\n",
      "generator/g_h2/w:0 (float32_ref 5x5x128x256) [819200, bytes: 3276800]\n",
      "generator/g_h2/biases:0 (float32_ref 128) [128, bytes: 512]\n",
      "generator/g_bn2/beta:0 (float32_ref 128) [128, bytes: 512]\n",
      "generator/g_bn2/gamma:0 (float32_ref 128) [128, bytes: 512]\n",
      "generator/g_h3/w:0 (float32_ref 5x5x64x128) [204800, bytes: 819200]\n",
      "generator/g_h3/biases:0 (float32_ref 64) [64, bytes: 256]\n",
      "generator/g_bn3/beta:0 (float32_ref 64) [64, bytes: 256]\n",
      "generator/g_bn3/gamma:0 (float32_ref 64) [64, bytes: 256]\n",
      "generator/g_h4/w:0 (float32_ref 5x5x3x64) [4800, bytes: 19200]\n",
      "generator/g_h4/biases:0 (float32_ref 3) [3, bytes: 12]\n",
      "discriminator/d_h0_conv/w:0 (float32_ref 5x5x3x64) [4800, bytes: 19200]\n",
      "discriminator/d_h0_conv/biases:0 (float32_ref 64) [64, bytes: 256]\n",
      "discriminator/d_h1_conv/w:0 (float32_ref 5x5x64x128) [204800, bytes: 819200]\n",
      "discriminator/d_h1_conv/biases:0 (float32_ref 128) [128, bytes: 512]\n",
      "discriminator/d_bn1/beta:0 (float32_ref 128) [128, bytes: 512]\n",
      "discriminator/d_bn1/gamma:0 (float32_ref 128) [128, bytes: 512]\n",
      "discriminator/d_h2_conv/w:0 (float32_ref 5x5x128x256) [819200, bytes: 3276800]\n",
      "discriminator/d_h2_conv/biases:0 (float32_ref 256) [256, bytes: 1024]\n",
      "discriminator/d_bn2/beta:0 (float32_ref 256) [256, bytes: 1024]\n",
      "discriminator/d_bn2/gamma:0 (float32_ref 256) [256, bytes: 1024]\n",
      "discriminator/d_h3_conv/w:0 (float32_ref 5x5x256x512) [3276800, bytes: 13107200]\n",
      "discriminator/d_h3_conv/biases:0 (float32_ref 512) [512, bytes: 2048]\n",
      "discriminator/d_bn3/beta:0 (float32_ref 512) [512, bytes: 2048]\n",
      "discriminator/d_bn3/gamma:0 (float32_ref 512) [512, bytes: 2048]\n",
      "discriminator/d_h3_lin/Matrix:0 (float32_ref 4608x1) [4608, bytes: 18432]\n",
      "discriminator/d_h3_lin/bias:0 (float32_ref 1) [1, bytes: 4]\n",
      "Total size of variables: 9086340\n",
      "Total bytes of variables: 36345360\n",
      " [*] Reading checkpoints...\n",
      " [*] Failed to find a checkpoint\n",
      " [!] Load failed...\n",
      "Epoch: [ 0] [   0/ 801] time: 27.8247, d_loss: 5.47826862, g_loss: 0.00482232\n",
      "Epoch: [ 0] [   1/ 801] time: 55.5203, d_loss: 4.82448816, g_loss: 0.01219672\n",
      "Epoch: [ 0] [   2/ 801] time: 75.5440, d_loss: 4.24784184, g_loss: 0.05072385\n",
      "Epoch: [ 0] [   3/ 801] time: 94.7055, d_loss: 4.71872807, g_loss: 0.01685253\n",
      "Epoch: [ 0] [   4/ 801] time: 116.3032, d_loss: 3.78446865, g_loss: 0.06070456\n",
      "^C\n"
     ]
    }
   ],
   "source": [
    "# 可以运行的\n",
    "!python main.py --input_height 96 --input_width 96 --output_height 48 --output_width 48 --dataset faces --crop --train --epoch 300 --input_fname_pattern \"*.jpg\""
   ]
  },
  {
   "cell_type": "markdown",
   "metadata": {
    "collapsed": true
   },
   "source": [
    "`python main.py --input_height 96 --input_width 96 --output_height 48 --output_width 48 --dataset faces --crop --train --epoch 300 --input_fname_pattern \"*.jpg\"`"
   ]
  },
  {
   "cell_type": "code",
   "execution_count": null,
   "metadata": {
    "collapsed": true
   },
   "outputs": [],
   "source": []
  }
 ],
 "metadata": {
  "kernelspec": {
   "display_name": "Python 2",
   "language": "python",
   "name": "python2"
  },
  "language_info": {
   "codemirror_mode": {
    "name": "ipython",
    "version": 2
   },
   "file_extension": ".py",
   "mimetype": "text/x-python",
   "name": "python",
   "nbconvert_exporter": "python",
   "pygments_lexer": "ipython2",
   "version": "2.7.12"
  },
  "latex_envs": {
   "LaTeX_envs_menu_present": true,
   "bibliofile": "biblio.bib",
   "cite_by": "apalike",
   "current_citInitial": 1,
   "eqLabelWithNumbers": true,
   "eqNumInitial": 1,
   "hotkeys": {
    "equation": "Ctrl-E",
    "itemize": "Ctrl-I"
   },
   "labels_anchors": false,
   "latex_user_defs": false,
   "report_style_numbering": false,
   "user_envs_cfg": false
  },
  "toc": {
   "colors": {
    "hover_highlight": "#DAA520",
    "running_highlight": "#FF0000",
    "selected_highlight": "#FFD700"
   },
   "moveMenuLeft": true,
   "nav_menu": {
    "height": "11.818182px",
    "width": "1.818182px"
   },
   "navigate_menu": true,
   "number_sections": true,
   "sideBar": true,
   "threshold": 4,
   "toc_cell": true,
   "toc_position": {
    "height": "485px",
    "left": "0px",
    "right": "980.739px",
    "top": "105px",
    "width": "212px"
   },
   "toc_section_display": "block",
   "toc_window_display": true
  }
 },
 "nbformat": 4,
 "nbformat_minor": 0
}
