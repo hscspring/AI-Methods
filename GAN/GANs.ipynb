{
 "cells": [
  {
   "cell_type": "markdown",
   "metadata": {
    "toc": "true"
   },
   "source": [
    "# Table of Contents\n",
    " <p><div class=\"lev1 toc-item\"><a href=\"#深入理解-GAN\" data-toc-modified-id=\"深入理解-GAN-1\"><span class=\"toc-item-num\">1&nbsp;&nbsp;</span>深入理解 GAN</a></div><div class=\"lev2 toc-item\"><a href=\"#Log-函数回顾\" data-toc-modified-id=\"Log-函数回顾-11\"><span class=\"toc-item-num\">1.1&nbsp;&nbsp;</span>Log 函数回顾</a></div><div class=\"lev2 toc-item\"><a href=\"#原理\" data-toc-modified-id=\"原理-12\"><span class=\"toc-item-num\">1.2&nbsp;&nbsp;</span>原理</a></div><div class=\"lev3 toc-item\"><a href=\"#网上的轮子\" data-toc-modified-id=\"网上的轮子-121\"><span class=\"toc-item-num\">1.2.1&nbsp;&nbsp;</span>网上的轮子</a></div><div class=\"lev2 toc-item\"><a href=\"#资源\" data-toc-modified-id=\"资源-13\"><span class=\"toc-item-num\">1.3&nbsp;&nbsp;</span>资源</a></div>"
   ]
  },
  {
   "cell_type": "markdown",
   "metadata": {},
   "source": [
    "# 深入理解 GAN"
   ]
  },
  {
   "cell_type": "markdown",
   "metadata": {},
   "source": [
    "真的很喜欢这个东西，主要是名字霸气！每次看到都热血沸腾，所以感觉再难也不怕！哟哟，开始吧。"
   ]
  },
  {
   "cell_type": "markdown",
   "metadata": {},
   "source": [
    "## Log 函数回顾"
   ]
  },
  {
   "cell_type": "code",
   "execution_count": 1,
   "metadata": {
    "collapsed": false
   },
   "outputs": [],
   "source": [
    "import numpy as np\n",
    "%matplotlib inline\n",
    "import matplotlib.pyplot as plt"
   ]
  },
  {
   "cell_type": "code",
   "execution_count": 13,
   "metadata": {
    "collapsed": true
   },
   "outputs": [],
   "source": [
    "x = np.linspace(1,100,100)"
   ]
  },
  {
   "cell_type": "code",
   "execution_count": 14,
   "metadata": {
    "collapsed": false
   },
   "outputs": [],
   "source": [
    "y = np.log(x)"
   ]
  },
  {
   "cell_type": "code",
   "execution_count": 16,
   "metadata": {
    "collapsed": false
   },
   "outputs": [
    {
     "data": {
      "text/plain": [
       "[<matplotlib.lines.Line2D at 0x7fda221812d0>]"
      ]
     },
     "execution_count": 16,
     "metadata": {},
     "output_type": "execute_result"
    },
    {
     "data": {
      "image/png": "[encoded data removed]",
      "text/plain": [
       "<matplotlib.figure.Figure at 0x7fda222fb7d0>"
      ]
     },
     "metadata": {},
     "output_type": "display_data"
    }
   ],
   "source": [
    "plt.plot(x,y)"
   ]
  },
  {
   "cell_type": "markdown",
   "metadata": {},
   "source": [
    "## 原理"
   ]
  },
  {
   "cell_type": "markdown",
   "metadata": {},
   "source": [
    "GANs 的原理概括如下：  \n",
    "\n",
    "- 动态博弈过程\n",
    "- 博弈双方：$D$（识别器）and $G$（生成器）\n",
    "  - $G$ 生成的 `data` 要尽可能像原始的 `data`（左边部分表示 $D$ 判断出 x 是真 x 的情况）\n",
    "  - $D$ 判断生成的 `data` 是否和原始 `data` 像（右边部分表示 $D$ 判别出由 $G$ 把噪音数据 z 给伪造出来的情况）\n",
    "- 核心原理：$$min_G max_D V(D, G) = E_{x Pdata(x)} [logD(x)] + E_{z Pz(z)} [log(1 - D(G(z)))]$$\n",
    "  - 判别网络的目标函数：$$J^{(D)} = -\\frac {1}{2} E_{x～Pdata(x)} [logD(x)] - \\frac {1}{2} E_{z～Pz(z)} [log(1 - D(G(z)))]$$\n",
    "  - 生成网络的目标函数：$$J^{(G)} = -J^{(D)}$$\n",
    "  - 为了避免生成模型和源数据拟合后无法继续学习，修改生成网络目标函数（用 G 自己的伪装成功率表示自己的目标函数，就算 D 完美后，G 依然可以继续被优化）：$$J^{(G)} = -\\frac {1}{2} E_z logD(G(z))$$\n",
    "- $G$ 希望 $D(G(z))$ 尽可能大，$G$ 以假乱真嘛，$V$ 变小；$D(x)$ 应该尽可能大，$D$ 火眼精金嘛，V 变大"
   ]
  },
  {
   "cell_type": "markdown",
   "metadata": {},
   "source": [
    "### 网上的轮子"
   ]
  },
  {
   "cell_type": "markdown",
   "metadata": {},
   "source": [
    "- [GAN学习指南：从原理入门到制作生成Demo - 知乎专栏](https://zhuanlan.zhihu.com/p/24767059)\n",
    "  - 简单、清晰\n",
    "- [GAN之父NIPS 2016演讲现场直击：全方位解读生成对抗网络的原理及未来（附PPT） | 机器之心](https://www.jiqizhixin.com/articles/22bc25c3-6e3c-4960-b86c-786813d0afac)"
   ]
  },
  {
   "cell_type": "markdown",
   "metadata": {
    "collapsed": true
   },
   "source": [
    "## 资源\n",
    "\n",
    "- [GitHub - zhangqianhui/AdversarialNetsPapers: The classical papers and codes about generative adversarial nets](https://github.com/zhangqianhui/AdversarialNetsPapers)"
   ]
  },
  {
   "cell_type": "code",
   "execution_count": null,
   "metadata": {
    "collapsed": true
   },
   "outputs": [],
   "source": []
  }
 ],
 "metadata": {
  "kernelspec": {
   "display_name": "Python 2",
   "language": "python",
   "name": "python2"
  },
  "language_info": {
   "codemirror_mode": {
    "name": "ipython",
    "version": 2
   },
   "file_extension": ".py",
   "mimetype": "text/x-python",
   "name": "python",
   "nbconvert_exporter": "python",
   "pygments_lexer": "ipython2",
   "version": "2.7.12"
  },
  "latex_envs": {
   "LaTeX_envs_menu_present": true,
   "bibliofile": "biblio.bib",
   "cite_by": "apalike",
   "current_citInitial": 1,
   "eqLabelWithNumbers": true,
   "eqNumInitial": 1,
   "hotkeys": {
    "equation": "Ctrl-E",
    "itemize": "Ctrl-I"
   },
   "labels_anchors": false,
   "latex_user_defs": false,
   "report_style_numbering": false,
   "user_envs_cfg": false
  },
  "toc": {
   "colors": {
    "hover_highlight": "#DAA520",
    "running_highlight": "#FF0000",
    "selected_highlight": "#FFD700"
   },
   "moveMenuLeft": true,
   "nav_menu": {
    "height": "30px",
    "width": "252px"
   },
   "navigate_menu": true,
   "number_sections": true,
   "sideBar": true,
   "threshold": 4,
   "toc_cell": true,
   "toc_section_display": "block",
   "toc_window_display": true
  }
 },
 "nbformat": 4,
 "nbformat_minor": 0
}
