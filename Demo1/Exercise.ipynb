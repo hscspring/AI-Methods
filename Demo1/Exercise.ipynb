{
 "cells": [
  {
   "cell_type": "code",
   "execution_count": 1,
   "metadata": {},
   "outputs": [],
   "source": [
    "import os\n",
    "\n",
    "import numpy as np\n",
    "import matplotlib.pyplot as plt\n",
    "import matplotlib.gridspec as gridspec\n",
    "\n",
    "import tensorflow as tf\n",
    "from tensorflow.examples.tutorials.mnist import input_data"
   ]
  },
  {
   "cell_type": "markdown",
   "metadata": {},
   "source": [
    "注意点：  \n",
    "\n",
    "- b 零初始值\n",
    "- w 初始化要用 tf，不要用 np"
   ]
  },
  {
   "cell_type": "code",
   "execution_count": 129,
   "metadata": {},
   "outputs": [
    {
     "name": "stdout",
     "output_type": "stream",
     "text": [
      "Extracting ./data/MNIST/train-images-idx3-ubyte.gz\n",
      "Extracting ./data/MNIST/train-labels-idx1-ubyte.gz\n",
      "Extracting ./data/MNIST/t10k-images-idx3-ubyte.gz\n",
      "Extracting ./data/MNIST/t10k-labels-idx1-ubyte.gz\n"
     ]
    }
   ],
   "source": [
    "# 读取数据集MNIST，并放在当前目录data文件夹下MNIST文件夹中，如果该地址没有数据，则下载数据至该文件夹\n",
    "# 一张图片有 28*28=784 个像素点，每个点用一个浮点数表示其亮度；\n",
    "mnist = input_data.read_data_sets(\"./data/MNIST/\", one_hot=True)"
   ]
  },
  {
   "cell_type": "code",
   "execution_count": 130,
   "metadata": {},
   "outputs": [],
   "source": [
    "#该函数用于输出生成图片\n",
    "\n",
    "def plot(samples):\n",
    "    fig = plt.figure(figsize=(4, 4))\n",
    "    gs = gridspec.GridSpec(4, 4)\n",
    "    gs.update(wspace=0.05, hspace=0.05)\n",
    "\n",
    "    for i, sample in enumerate(samples):\n",
    "        ax = plt.subplot(gs[i])\n",
    "        plt.axis('off')\n",
    "        ax.set_xticklabels([])\n",
    "        ax.set_yticklabels([])\n",
    "        ax.set_aspect('equal')\n",
    "        plt.imshow(sample.reshape(28, 28), cmap='Greys_r')\n",
    "\n",
    "    return fig"
   ]
  },
  {
   "cell_type": "code",
   "execution_count": 131,
   "metadata": {},
   "outputs": [],
   "source": [
    "batch_size = 128\n",
    "z_dim = 200"
   ]
  },
  {
   "cell_type": "code",
   "execution_count": 132,
   "metadata": {},
   "outputs": [],
   "source": [
    "def variable_init(size):\n",
    "    # He initialization: sqrt(2./dim of the previous layer)\n",
    "    # np.random.randn(layers_dims[l], layers_dims[l-1]) * np.sqrt(2./layers_dims[l-1])\n",
    "    in_dim = size[0]\n",
    "    return tf.random_normal(shape=size, stddev=np.sqrt(2./in_dim))"
   ]
  },
  {
   "cell_type": "code",
   "execution_count": 133,
   "metadata": {},
   "outputs": [],
   "source": [
    "# 定义并初始化变量\n",
    "\n",
    "X = tf.placeholder(tf.float32, shape=(None, 784))\n",
    "Z = tf.placeholder(tf.float32, shape=(None, z_dim))\n",
    "\n",
    "DW1 = tf.Variable(variable_init([784, 128]))\n",
    "Db1 = tf.Variable(tf.zeros(shape=[128]))\n",
    "DW2 = tf.Variable(variable_init([128, 1]))\n",
    "Db2 = tf.Variable(tf.zeros(shape=[1]))\n",
    "theta_D = [DW1, DW1, Db1, Db2]\n",
    "\n",
    "GW1 = tf.Variable(variable_init([z_dim, 128]))\n",
    "Gb1 = tf.Variable(tf.zeros(shape=[128]))\n",
    "GW2 = tf.Variable(variable_init([128, 784]))\n",
    "Gb2 = tf.Variable(tf.zeros(shape=[784]))\n",
    "theta_G = [GW1, GW2, Gb1, Gb2]"
   ]
  },
  {
   "cell_type": "code",
   "execution_count": 134,
   "metadata": {},
   "outputs": [],
   "source": [
    "# 定义随机噪声生成器\n",
    "# 函数 Z，生成 z\n",
    "def noise_maker(m, n):\n",
    "    return np.random.uniform(-1.0, 1.0, size=[m, n])"
   ]
  },
  {
   "cell_type": "code",
   "execution_count": 135,
   "metadata": {},
   "outputs": [],
   "source": [
    "# 定义数据生成器，将 z 变成 概率分布\n",
    "# 生成的结果为：是不是图片\n",
    "# 生成 N * 784 的结果\n",
    "\n",
    "def generator(z):\n",
    "    \n",
    "    # tanh, relu。。。都可以\n",
    "    Gh1 = tf.nn.relu(tf.matmul(z, GW1) + Gb1)\n",
    "    G_logit = tf.matmul(Gh1, GW2) + Gb2\n",
    "    # 这里用 sigmoid 是因为不需要加起来概率等于 1\n",
    "    G_prob = tf.nn.sigmoid(G_logit)\n",
    "    return G_prob"
   ]
  },
  {
   "cell_type": "code",
   "execution_count": 136,
   "metadata": {},
   "outputs": [],
   "source": [
    "# 定义判别器\n",
    "\n",
    "def discriminator(x):\n",
    "    \n",
    "    # tanh relu。。。\n",
    "    Dh1 = tf.nn.relu(tf.matmul(x, DW1) + Db1)\n",
    "    D_logit = tf.matmul(Dh1, DW2) + Db2\n",
    "#     D_prob = tf.nn.sigmoid(D_logit)\n",
    "    return D_logit # , D_prob"
   ]
  },
  {
   "cell_type": "code",
   "execution_count": 137,
   "metadata": {},
   "outputs": [],
   "source": [
    "# 定义损失函数\n",
    "\n",
    "D_real_logit = discriminator(X) # D_real_prob, \n",
    "D_fake_logit = discriminator(generator(Z)) # D_fake_prob, \n",
    "\n",
    "D_X = tf.concat([D_real_logit, D_fake_logit], 1)\n",
    "D_y = tf.concat([tf.ones_like(D_real_logit), tf.zeros_like(D_fake_logit)], 1)\n",
    "\n",
    "D_loss = tf.reduce_mean(tf.nn.sigmoid_cross_entropy_with_logits(logits=D_X, labels=D_y))\n",
    "G_loss = tf.reduce_mean(tf.nn.sigmoid_cross_entropy_with_logits(logits=D_fake_logit, labels=tf.ones_like(D_fake_logit)))\n",
    "\n",
    "D_opt = tf.train.AdamOptimizer().minimize(D_loss, var_list=theta_D)\n",
    "G_opt = tf.train.AdamOptimizer().minimize(G_loss, var_list=theta_G)"
   ]
  },
  {
   "cell_type": "code",
   "execution_count": 139,
   "metadata": {
    "scrolled": true
   },
   "outputs": [
    {
     "name": "stdout",
     "output_type": "stream",
     "text": [
      "Iter: 0  D_loss: 0.8844, G_loss: 6.359\n",
      "Iter: 2000  D_loss: 0.005452, G_loss: 8.601\n",
      "Iter: 4000  D_loss: 0.03211, G_loss: 5.053\n",
      "Iter: 6000  D_loss: 0.05437, G_loss: 6.873\n",
      "Iter: 8000  D_loss: 0.08955, G_loss: 4.662\n",
      "Iter: 10000  D_loss: 0.1231, G_loss: 3.741\n",
      "Iter: 12000  D_loss: 0.2174, G_loss: 2.919\n",
      "Iter: 14000  D_loss: 0.2096, G_loss: 3.576\n",
      "Iter: 16000  D_loss: 0.2404, G_loss: 2.987\n",
      "Iter: 18000  D_loss: 0.3235, G_loss: 2.675\n"
     ]
    }
   ],
   "source": [
    "sess = tf.Session()\n",
    "\n",
    "sess.run(tf.global_variables_initializer())\n",
    "\n",
    "if not os.path.exists('out_exercise/'):\n",
    "    os.makedirs('out_exercise/')\n",
    "\n",
    "i = 0\n",
    "for it in range(20000):\n",
    "    \n",
    "    if it % 2000 == 0:\n",
    "        # 16 幅图\n",
    "        samples = sess.run(generator(Z), feed_dict={Z: noise_maker(16, z_dim)})\n",
    "        fig = plot(samples)\n",
    "        plt.savefig('out_exercise/{}.png'.format(str(i).zfill(3)), bbox_inches='tight')\n",
    "        i += 1\n",
    "        plt.close(fig)\n",
    "    \n",
    "    X_mb, _ = mnist.train.next_batch(batch_size)\n",
    "    \n",
    "    _, D_loss_curr = sess.run([D_opt, D_loss], feed_dict={X: X_mb, Z: noise_maker(batch_size, z_dim)})\n",
    "    _, G_loss_curr = sess.run([G_opt, G_loss], feed_dict={Z: noise_maker(batch_size, z_dim)})\n",
    "\n",
    "#     sam,fakeprob,fakelogit = sess.run([generator(Z), D_fake_prob, D_fake_logit], \n",
    "#                                       feed_dict={X: X_mb, Z: noise_maker(batch_size, z_dim)})\n",
    "\n",
    "    \n",
    "    if it % 2000 == 0:\n",
    "        print('Iter: {}  D_loss: {:.4}, G_loss: {:.4}'.format(it, D_loss_curr, G_loss_curr))"
   ]
  },
  {
   "cell_type": "code",
   "execution_count": 140,
   "metadata": {},
   "outputs": [
    {
     "data": {
      "text/plain": [
       "(16, 784)"
      ]
     },
     "execution_count": 140,
     "metadata": {},
     "output_type": "execute_result"
    }
   ],
   "source": [
    "samples.shape"
   ]
  },
  {
   "cell_type": "code",
   "execution_count": 141,
   "metadata": {},
   "outputs": [
    {
     "data": {
      "image/png": "[encoded data removed]",
      "text/plain": [
       "<matplotlib.figure.Figure at 0x131085208>"
      ]
     },
     "execution_count": 141,
     "metadata": {},
     "output_type": "execute_result"
    }
   ],
   "source": [
    "plot(samples)"
   ]
  },
  {
   "cell_type": "code",
   "execution_count": null,
   "metadata": {},
   "outputs": [],
   "source": []
  }
 ],
 "metadata": {
  "kernelspec": {
   "display_name": "Python 3",
   "language": "python",
   "name": "python3"
  },
  "language_info": {
   "codemirror_mode": {
    "name": "ipython",
    "version": 3
   },
   "file_extension": ".py",
   "mimetype": "text/x-python",
   "name": "python",
   "nbconvert_exporter": "python",
   "pygments_lexer": "ipython3",
   "version": "3.6.2"
  },
  "toc": {
   "colors": {
    "hover_highlight": "#DAA520",
    "running_highlight": "#FF0000",
    "selected_highlight": "#FFD700"
   },
   "moveMenuLeft": true,
   "nav_menu": {
    "height": "12px",
    "width": "252px"
   },
   "navigate_menu": true,
   "number_sections": true,
   "sideBar": true,
   "threshold": 4,
   "toc_cell": false,
   "toc_section_display": "block",
   "toc_window_display": false
  }
 },
 "nbformat": 4,
 "nbformat_minor": 2
}
