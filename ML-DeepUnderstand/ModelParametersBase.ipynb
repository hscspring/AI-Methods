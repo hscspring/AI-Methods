{
 "cells": [
  {
   "cell_type": "code",
   "execution_count": 618,
   "metadata": {},
   "outputs": [],
   "source": [
    "import pandas as pd\n",
    "import numpy as np\n",
    "import matplotlib.pyplot as plt\n",
    "import seaborn as sns\n",
    "import datetime\n",
    "from tqdm import tqdm\n",
    "from sklearn.preprocessing import LabelEncoder\n",
    "from sklearn.feature_selection import SelectKBest\n",
    "from sklearn.feature_selection import chi2\n",
    "from sklearn.preprocessing import MinMaxScaler\n",
    "import xgboost as xgb\n",
    "import lightgbm as lgb\n",
    "from catboost import CatBoostRegressor\n",
    "import warnings\n",
    "from sklearn.model_selection import StratifiedKFold, KFold\n",
    "from sklearn.metrics import accuracy_score, f1_score, roc_auc_score, log_loss\n",
    "from optbinning import OptimalBinning\n",
    "from typing import List, Optional, Union\n",
    "import pnlp\n",
    "\n",
    "import category_encoders as ce\n",
    "warnings.filterwarnings('ignore')"
   ]
  },
  {
   "cell_type": "code",
   "execution_count": 2,
   "metadata": {},
   "outputs": [],
   "source": [
    "train_file = \"/Users/HaoShaochun/Yam/FinancialRiskControl/data/train.csv\"\n",
    "test_file = \"/Users/HaoShaochun/Yam/FinancialRiskControl/data/testA.csv\"\n",
    "\n",
    "data_train = pd.read_csv(train_file)\n",
    "data_test = pd.read_csv(test_file)"
   ]
  },
  {
   "cell_type": "markdown",
   "metadata": {},
   "source": [
    "## 预处理"
   ]
  },
  {
   "cell_type": "code",
   "execution_count": 270,
   "metadata": {},
   "outputs": [],
   "source": [
    "def drop_given_features(df: pd.DataFrame, feature_list: List[str]) -> pd.DataFrame:\n",
    "    return df.drop(columns=feature_list)\n",
    "\n",
    "def drop_uniquevalue_features(df: pd.DataFrame) -> pd.DataFrame:\n",
    "    need_drop_feas = [col for col in df.columns if df[col].nunique() <= 1]\n",
    "    return df.drop(columns=need_drop_feas)\n",
    "\n",
    "def convert_num_to_obj(x: Union[int, float]):\n",
    "    if pd.notna(x):\n",
    "        return str(int(x))\n",
    "    else:\n",
    "        return \"\"\n",
    "\n",
    "def deal_employmentLength(x):\n",
    "    if pd.notna(x):\n",
    "        if x == \"10+ years\":\n",
    "            return 10.0\n",
    "        elif x == \"< 1 year\":\n",
    "            return 0.5\n",
    "        else:\n",
    "            return float(x[0])\n",
    "    else:\n",
    "        return np.nan\n",
    "insignificant_feas = [\"id\", \"issueDate\", \"title\"]\n",
    "grade_dct = dict(zip(['A', 'B', 'C', 'D', 'E', 'F', 'G'], range(10, 80, 10)))"
   ]
  },
  {
   "cell_type": "code",
   "execution_count": 272,
   "metadata": {},
   "outputs": [],
   "source": [
    "data_train = drop_given_features(data_train, insignificant_feas)\n",
    "data_train = drop_uniquevalue_features(data_train)"
   ]
  },
  {
   "cell_type": "code",
   "execution_count": 299,
   "metadata": {},
   "outputs": [],
   "source": [
    "data_train['grade'] = data_train['grade'].map(grade_dct)\n",
    "data_train[\"subGrade\"] = \\\n",
    "data_train[\"subGrade\"].apply(lambda x: grade_dct.get(x[0]) + int(x[1]))"
   ]
  },
  {
   "cell_type": "code",
   "execution_count": 323,
   "metadata": {},
   "outputs": [],
   "source": [
    "data_train[\"employmentTitle\"] = \\\n",
    "data_train[\"employmentTitle\"].apply(convert_num_to_obj)"
   ]
  },
  {
   "cell_type": "code",
   "execution_count": 329,
   "metadata": {},
   "outputs": [],
   "source": [
    "data_train[\"employmentLength\"] = \\\n",
    "data_train[\"employmentLength\"].apply(deal_employmentLength)"
   ]
  },
  {
   "cell_type": "code",
   "execution_count": 338,
   "metadata": {},
   "outputs": [],
   "source": [
    "data_train[\"homeOwnership\"] = \\\n",
    "data_train[\"homeOwnership\"].apply(convert_num_to_obj)\n",
    "\n",
    "data_train[\"verificationStatus\"] = \\\n",
    "data_train[\"verificationStatus\"].apply(convert_num_to_obj)\n",
    "\n",
    "data_train[\"purpose\"] = \\\n",
    "data_train[\"purpose\"].apply(convert_num_to_obj)\n",
    "\n",
    "data_train[\"postCode\"] = \\\n",
    "data_train[\"postCode\"].apply(convert_num_to_obj)\n",
    "\n",
    "data_train[\"regionCode\"] = \\\n",
    "data_train[\"regionCode\"].apply(convert_num_to_obj)\n",
    "\n",
    "data_train[\"earliesCreditLine\"] = \\\n",
    "data_train[\"earliesCreditLine\"].apply(lambda x: int(x[-4:]))\n",
    "\n",
    "data_train[\"n11\"] = \\\n",
    "data_train[\"n11\"].apply(convert_num_to_obj)\n",
    "data_train[\"n12\"] = \\\n",
    "data_train[\"n12\"].apply(convert_num_to_obj)"
   ]
  },
  {
   "cell_type": "code",
   "execution_count": 464,
   "metadata": {},
   "outputs": [],
   "source": [
    "zero_one_feas = [\n",
    "    \"initialListStatus\", \"applicationType\", \n",
    "]\n",
    "num_not_bucket_feas = [\n",
    "    \"term\", \"grade\", \"subGrade\", \"employmentLength\", \n",
    "]\n",
    "num_need_bucket_feas = [\n",
    "    \"loanAmnt\", \"interestRate\", \"installment\", \"dti\", \n",
    "    \"delinquency_2years\",\n",
    "    \"ficoRangeLow\", \"ficoRangeHigh\", \n",
    "    \"openAcc\", \n",
    "    \"pubRec\", \"pubRecBankruptcies\",\n",
    "    \"revolBal\", \"revolUtil\", \"totalAcc\",\n",
    "    \"earliesCreditLine\", \n",
    "    \"n0\", \"n1\", \"n2\", \"n2.1\", \n",
    "    'n4', 'n5', 'n6', 'n7', 'n8', 'n9', 'n10', 'n13', 'n14'\n",
    "    \n",
    "]\n",
    "obj_not_bucket_feas = [\n",
    "    \"homeOwnership\", \"verificationStatus\", \"purpose\", \"n11\", \"n12\"\n",
    "]\n",
    "obj_need_bucket_feas = [\n",
    "    \"employmentTitle\", \"postCode\", \"regionCode\"\n",
    "]"
   ]
  },
  {
   "cell_type": "code",
   "execution_count": 468,
   "metadata": {},
   "outputs": [],
   "source": [
    "fea = \"initialListStatus\""
   ]
  },
  {
   "cell_type": "code",
   "execution_count": 469,
   "metadata": {},
   "outputs": [
    {
     "data": {
      "text/plain": [
       "count    800000.000000\n",
       "mean          0.416953\n",
       "std           0.493055\n",
       "min           0.000000\n",
       "25%           0.000000\n",
       "50%           0.000000\n",
       "75%           1.000000\n",
       "max           1.000000\n",
       "Name: initialListStatus, dtype: float64"
      ]
     },
     "execution_count": 469,
     "metadata": {},
     "output_type": "execute_result"
    }
   ],
   "source": [
    "data_train[fea].describe()"
   ]
  },
  {
   "cell_type": "code",
   "execution_count": 470,
   "metadata": {
    "scrolled": false
   },
   "outputs": [
    {
     "data": {
      "text/plain": [
       "0    466438\n",
       "1    333562\n",
       "Name: initialListStatus, dtype: int64"
      ]
     },
     "execution_count": 470,
     "metadata": {},
     "output_type": "execute_result"
    }
   ],
   "source": [
    "data_train[fea].value_counts()"
   ]
  },
  {
   "cell_type": "code",
   "execution_count": 384,
   "metadata": {
    "scrolled": true
   },
   "outputs": [
    {
     "data": {
      "image/png": "[encoded data removed]",
      "text/plain": [
       "<Figure size 1080x576 with 4 Axes>"
      ]
     },
     "metadata": {
      "needs_background": "light"
     },
     "output_type": "display_data"
    }
   ],
   "source": [
    "plot_feature_distribution(\n",
    "    data_train, \"openAcc\", hue=\"isDefault\")"
   ]
  },
  {
   "cell_type": "code",
   "execution_count": 346,
   "metadata": {},
   "outputs": [],
   "source": [
    "def plot_feature_distribution(df: pd.DataFrame, feature: str, hue: Optional[str] = None):\n",
    "    rows = 2\n",
    "    if hue:\n",
    "        hue = df[hue]\n",
    "        \n",
    "    fig, axs = plt.subplots(nrows=rows, ncols=2, figsize=(15, 4*rows))\n",
    "    \n",
    "    sns.histplot(x=df[feature], hue=hue, ax=axs[0, 0])\n",
    "    sns.kdeplot(x=df[feature], hue=hue, ax=axs[0, 1])\n",
    "    \n",
    "    sns.boxplot(x=hue, y=df[feature], hue=hue, ax=axs[1, 0])\n",
    "    sns.violinplot(x=hue, y=df[feature], hue=hue, ax=axs[1, 1])"
   ]
  },
  {
   "cell_type": "code",
   "execution_count": 662,
   "metadata": {},
   "outputs": [],
   "source": [
    "def plot_feature_relations(df: pd.DataFrame, x: str, y: str, hue: str):\n",
    "    if hue:\n",
    "        hue = df[hue]\n",
    "    fig, axs = plt.subplots(nrows=1, ncols=2, figsize=(15, 4))\n",
    "    sns.scatterplot(x=df[x], y=df[y], hue=hue, ax=axs[0])\n",
    "    sns.lineplot(x=df[x], y=df[y], hue=hue, ax=axs[1])"
   ]
  },
  {
   "cell_type": "code",
   "execution_count": 663,
   "metadata": {},
   "outputs": [
    {
     "data": {
      "image/png": "[encoded data removed]",
      "text/plain": [
       "<Figure size 1080x288 with 2 Axes>"
      ]
     },
     "metadata": {
      "needs_background": "light"
     },
     "output_type": "display_data"
    }
   ],
   "source": [
    "plot_feature_relations(data_train, \"annualIncome\", \"loanAmnt\", \"isDefault\")"
   ]
  },
  {
   "cell_type": "code",
   "execution_count": null,
   "metadata": {},
   "outputs": [],
   "source": []
  },
  {
   "cell_type": "code",
   "execution_count": null,
   "metadata": {},
   "outputs": [],
   "source": []
  },
  {
   "cell_type": "code",
   "execution_count": null,
   "metadata": {},
   "outputs": [],
   "source": []
  },
  {
   "cell_type": "markdown",
   "metadata": {},
   "source": [
    "## 分箱"
   ]
  },
  {
   "cell_type": "code",
   "execution_count": 472,
   "metadata": {},
   "outputs": [
    {
     "name": "stdout",
     "output_type": "stream",
     "text": [
      "['loanAmnt', 'interestRate', 'installment', 'dti', 'delinquency_2years', 'ficoRangeLow', 'ficoRangeHigh', 'openAcc', 'pubRec', 'pubRecBankruptcies', 'revolBal', 'revolUtil', 'totalAcc', 'earliesCreditLine', 'n0', 'n1', 'n2', 'n2.1', 'n4', 'n5', 'n6', 'n7', 'n8', 'n9', 'n10', 'n13', 'n14']\n"
     ]
    }
   ],
   "source": [
    "print(num_need_bucket_feas)"
   ]
  },
  {
   "cell_type": "code",
   "execution_count": 474,
   "metadata": {},
   "outputs": [],
   "source": [
    "for fea in num_need_bucket_feas:\n",
    "    optb = OptimalBinning(name=fea, dtype=\"numerical\", solver=\"cp\")\n",
    "    optb.fit(data_train[fea], data_train[\"isDefault\"])\n",
    "    data_train[fea] = optb.transform(data_train[fea])"
   ]
  },
  {
   "cell_type": "code",
   "execution_count": 478,
   "metadata": {},
   "outputs": [
    {
     "name": "stdout",
     "output_type": "stream",
     "text": [
      "['employmentTitle', 'postCode', 'regionCode']\n"
     ]
    }
   ],
   "source": [
    "print(obj_need_bucket_feas)"
   ]
  },
  {
   "cell_type": "code",
   "execution_count": 529,
   "metadata": {},
   "outputs": [],
   "source": [
    "def categorical_binning(\n",
    "    data: pd.DataFrame, fea: str, cat_cutoff: float):\n",
    "    optb = OptimalBinning(name=fea, dtype=\"categorical\", \n",
    "                      prebinning_method='quantile', \n",
    "                      solver=\"mip\", cat_cutoff=cat_cutoff)\n",
    "    optb.fit(data[fea], data[\"isDefault\"])\n",
    "    data[fea] = optb.transform(data[fea])\n",
    "    return data"
   ]
  },
  {
   "cell_type": "code",
   "execution_count": 530,
   "metadata": {},
   "outputs": [],
   "source": [
    "data_train = categorical_binning(data_train, \"employmentTitle\", 0.05)\n",
    "data_train = categorical_binning(data_train, \"postCode\", 0.01)\n",
    "data_train = categorical_binning(data_train, \"regionCode\", 0.1)"
   ]
  },
  {
   "cell_type": "code",
   "execution_count": 542,
   "metadata": {},
   "outputs": [
    {
     "name": "stdout",
     "output_type": "stream",
     "text": [
      "employmentLength 46799\n"
     ]
    }
   ],
   "source": [
    "for key,val in data_train.isnull().sum().to_dict().items():\n",
    "    if val > 0:\n",
    "        print(key, val)"
   ]
  },
  {
   "cell_type": "code",
   "execution_count": 544,
   "metadata": {},
   "outputs": [],
   "source": [
    "data_train[\"employmentLength\"] = \\\n",
    "data_train[\"employmentLength\"].fillna(\n",
    "    data_train[\"employmentLength\"].mean())"
   ]
  },
  {
   "cell_type": "code",
   "execution_count": 547,
   "metadata": {},
   "outputs": [
    {
     "data": {
      "text/plain": [
       "0"
      ]
     },
     "execution_count": 547,
     "metadata": {},
     "output_type": "execute_result"
    }
   ],
   "source": [
    "data_train.isna().sum().any().sum()"
   ]
  },
  {
   "cell_type": "markdown",
   "metadata": {},
   "source": [
    "## 类别编码"
   ]
  },
  {
   "cell_type": "code",
   "execution_count": 550,
   "metadata": {},
   "outputs": [
    {
     "name": "stdout",
     "output_type": "stream",
     "text": [
      "['homeOwnership', 'verificationStatus', 'purpose', 'n11', 'n12']\n"
     ]
    }
   ],
   "source": [
    "print(obj_not_bucket_feas)"
   ]
  },
  {
   "cell_type": "code",
   "execution_count": 551,
   "metadata": {},
   "outputs": [],
   "source": [
    "data_train = pd.get_dummies(\n",
    "    data_train, \n",
    "    columns=obj_not_bucket_feas, \n",
    "    drop_first=True)"
   ]
  },
  {
   "cell_type": "code",
   "execution_count": 554,
   "metadata": {},
   "outputs": [
    {
     "data": {
      "text/plain": [
       "(800000, 68)"
      ]
     },
     "execution_count": 554,
     "metadata": {},
     "output_type": "execute_result"
    }
   ],
   "source": [
    "data_train.shape"
   ]
  },
  {
   "cell_type": "markdown",
   "metadata": {},
   "source": [
    "## 汇总"
   ]
  },
  {
   "cell_type": "code",
   "execution_count": 605,
   "metadata": {},
   "outputs": [],
   "source": [
    "data_train = pd.read_csv(train_file)\n",
    "data_test = pd.read_csv(test_file)"
   ]
  },
  {
   "cell_type": "code",
   "execution_count": 606,
   "metadata": {},
   "outputs": [],
   "source": [
    "def process_data(\n",
    "    data: pd.DataFrame, \n",
    "    num_optbs: list = [], \n",
    "    obj_optbs: list = [], \n",
    "    training_data: bool = True):\n",
    "    \n",
    "    if training_data:\n",
    "        num_optbs = []\n",
    "        obj_optbs = []\n",
    "    else:\n",
    "        assert len(num_optbs) > 0\n",
    "        assert len(obj_optbs) > 0\n",
    "    \n",
    "    data = drop_given_features(data, insignificant_feas)\n",
    "    data = drop_uniquevalue_features(data)\n",
    "    data['grade'] = data['grade'].map(grade_dct)\n",
    "    data[\"subGrade\"] = \\\n",
    "    data[\"subGrade\"].apply(lambda x: grade_dct.get(x[0]) + int(x[1]))\n",
    "    data[\"employmentTitle\"] = \\\n",
    "    data[\"employmentTitle\"].apply(convert_num_to_obj)\n",
    "    data[\"employmentLength\"] = \\\n",
    "    data[\"employmentLength\"].apply(deal_employmentLength)\n",
    "    data[\"homeOwnership\"] = \\\n",
    "    data[\"homeOwnership\"].apply(convert_num_to_obj)\n",
    "\n",
    "    data[\"verificationStatus\"] = \\\n",
    "    data[\"verificationStatus\"].apply(convert_num_to_obj)\n",
    "\n",
    "    data[\"purpose\"] = \\\n",
    "    data[\"purpose\"].apply(convert_num_to_obj)\n",
    "\n",
    "    data[\"postCode\"] = \\\n",
    "    data[\"postCode\"].apply(convert_num_to_obj)\n",
    "\n",
    "    data[\"regionCode\"] = \\\n",
    "    data[\"regionCode\"].apply(convert_num_to_obj)\n",
    "\n",
    "    data[\"earliesCreditLine\"] = \\\n",
    "    data[\"earliesCreditLine\"].apply(lambda x: int(x[-4:]))\n",
    "\n",
    "    data[\"n11\"] = \\\n",
    "    data[\"n11\"].apply(convert_num_to_obj)\n",
    "    data[\"n12\"] = \\\n",
    "    data[\"n12\"].apply(convert_num_to_obj)\n",
    "\n",
    "    \n",
    "    for i, fea in enumerate(num_need_bucket_feas):\n",
    "        if training_data:\n",
    "            optb = OptimalBinning(name=fea, dtype=\"numerical\", solver=\"cp\")\n",
    "            optb.fit(data[fea], data[\"isDefault\"])\n",
    "            num_optbs.append(optb)\n",
    "        else:\n",
    "            optb = num_optbs[i]\n",
    "        data[fea] = optb.transform(data[fea])\n",
    "    \n",
    "    \n",
    "    cutoffs = [0.05, 0.01, 0.1]\n",
    "    for i, fea in enumerate(obj_need_bucket_feas):\n",
    "        cutoff = cutoffs[i]\n",
    "        if training_data:\n",
    "            optb = OptimalBinning(\n",
    "                name=fea, dtype=\"categorical\", prebinning_method='quantile', solver=\"mip\", cat_cutoff=cutoff)\n",
    "            optb.fit(data[fea], data[\"isDefault\"])\n",
    "            obj_optbs.append(optb)\n",
    "        else:\n",
    "            optb = obj_optbs[i]\n",
    "        data[fea] = optb.transform(data[fea])\n",
    "    \n",
    "    data[\"employmentLength\"] = \\\n",
    "    data[\"employmentLength\"].fillna(data[\"employmentLength\"].mean())\n",
    "    data = pd.get_dummies(data, columns=obj_not_bucket_feas, drop_first=True)\n",
    "    \n",
    "    if training_data:\n",
    "        return data, num_optbs, obj_optbs\n",
    "    else:\n",
    "        return data"
   ]
  },
  {
   "cell_type": "code",
   "execution_count": 607,
   "metadata": {},
   "outputs": [],
   "source": [
    "data_train, num_optbs, obj_optbs = process_data(data_train)"
   ]
  },
  {
   "cell_type": "code",
   "execution_count": 609,
   "metadata": {},
   "outputs": [],
   "source": [
    "data_test = process_data(data_test, num_optbs, obj_optbs, False)"
   ]
  },
  {
   "cell_type": "code",
   "execution_count": 608,
   "metadata": {
    "scrolled": true
   },
   "outputs": [
    {
     "data": {
      "text/plain": [
       "(800000, 68)"
      ]
     },
     "execution_count": 608,
     "metadata": {},
     "output_type": "execute_result"
    }
   ],
   "source": [
    "data_train.shape"
   ]
  },
  {
   "cell_type": "code",
   "execution_count": 610,
   "metadata": {},
   "outputs": [
    {
     "data": {
      "text/plain": [
       "(200000, 67)"
      ]
     },
     "execution_count": 610,
     "metadata": {},
     "output_type": "execute_result"
    }
   ],
   "source": [
    "data_test.shape"
   ]
  },
  {
   "cell_type": "markdown",
   "metadata": {},
   "source": [
    "## Base 建模"
   ]
  },
  {
   "cell_type": "code",
   "execution_count": 613,
   "metadata": {},
   "outputs": [],
   "source": [
    "features = [fea for fea in list(data_train.columns) if fea not in  [\"isDefault\", \"n11_4\", \"n12_4\"]]"
   ]
  },
  {
   "cell_type": "code",
   "execution_count": 614,
   "metadata": {},
   "outputs": [],
   "source": [
    "x_train = data_train[features]\n",
    "x_test = data_test[features]\n",
    "y_train = data_train['isDefault']"
   ]
  },
  {
   "cell_type": "code",
   "execution_count": 615,
   "metadata": {},
   "outputs": [],
   "source": [
    "def cv_model(clf, train_x, train_y, test_x, clf_name):\n",
    "    folds = 5\n",
    "    seed = 2020\n",
    "    kf = KFold(n_splits=folds, shuffle=True, random_state=seed)\n",
    "\n",
    "    train = np.zeros(train_x.shape[0])\n",
    "    test = np.zeros(test_x.shape[0])\n",
    "\n",
    "    cv_scores = []\n",
    "\n",
    "    for i, (train_index, valid_index) in enumerate(kf.split(train_x, train_y)):\n",
    "        print('************************************ {} ************************************'.format(str(i+1)))\n",
    "        trn_x, trn_y, val_x, val_y = train_x.iloc[train_index], train_y[train_index], train_x.iloc[valid_index], train_y[valid_index]\n",
    "\n",
    "        if clf_name == \"lgb\":\n",
    "            train_matrix = clf.Dataset(trn_x, label=trn_y)\n",
    "            valid_matrix = clf.Dataset(val_x, label=val_y)\n",
    "\n",
    "            params = {\n",
    "                'boosting_type': 'gbdt',\n",
    "                'objective': 'binary',\n",
    "                'metric': 'auc',\n",
    "                'min_child_weight': 5,\n",
    "                'num_leaves': 2 ** 5,\n",
    "                'lambda_l2': 10,\n",
    "                'feature_fraction': 0.8,\n",
    "                'bagging_fraction': 0.8,\n",
    "                'bagging_freq': 4,\n",
    "                'learning_rate': 0.1,\n",
    "                'seed': 2020,\n",
    "                'nthread': 28,\n",
    "                'n_jobs':24,\n",
    "                'silent': True,\n",
    "                'verbose': -1,\n",
    "            }\n",
    "\n",
    "            model = clf.train(params, train_matrix, 50000, valid_sets=[train_matrix, valid_matrix], verbose_eval=200,early_stopping_rounds=200)\n",
    "            val_pred = model.predict(val_x, num_iteration=model.best_iteration)\n",
    "            test_pred = model.predict(test_x, num_iteration=model.best_iteration)\n",
    "            \n",
    "            # print(list(sorted(zip(features, model.feature_importance(\"gain\")), key=lambda x: x[1], reverse=True))[:20])\n",
    "                \n",
    "        if clf_name == \"xgb\":\n",
    "            train_matrix = clf.DMatrix(trn_x , label=trn_y)\n",
    "            valid_matrix = clf.DMatrix(val_x , label=val_y)\n",
    "            \n",
    "            params = {'booster': 'gbtree',\n",
    "                      'objective': 'binary:logistic',\n",
    "                      'eval_metric': 'auc',\n",
    "                      'gamma': 1,\n",
    "                      'min_child_weight': 1.5,\n",
    "                      'max_depth': 5,\n",
    "                      'lambda': 10,\n",
    "                      'subsample': 0.7,\n",
    "                      'colsample_bytree': 0.7,\n",
    "                      'colsample_bylevel': 0.7,\n",
    "                      'eta': 0.04,\n",
    "                      'tree_method': 'exact',\n",
    "                      'seed': 2020,\n",
    "                      'nthread': 36,\n",
    "                      \"silent\": True,\n",
    "                      }\n",
    "            \n",
    "            watchlist = [(train_matrix, 'train'),(valid_matrix, 'eval')]\n",
    "            \n",
    "            model = clf.train(params, train_matrix, num_boost_round=50000, evals=watchlist, verbose_eval=200, early_stopping_rounds=200)\n",
    "            val_pred  = model.predict(valid_matrix, ntree_limit=model.best_ntree_limit)\n",
    "            test_pred = model.predict(test_x , ntree_limit=model.best_ntree_limit)\n",
    "                 \n",
    "        if clf_name == \"cat\":\n",
    "            params = {'learning_rate': 0.05, 'depth': 5, 'l2_leaf_reg': 10, 'bootstrap_type': 'Bernoulli',\n",
    "                      'od_type': 'Iter', 'od_wait': 50, 'random_seed': 11, 'allow_writing_files': False}\n",
    "            \n",
    "            model = clf(iterations=20000, **params)\n",
    "            model.fit(trn_x, trn_y, eval_set=(val_x, val_y),\n",
    "                      cat_features=[], use_best_model=True, verbose=500)\n",
    "            \n",
    "            val_pred  = model.predict(val_x)\n",
    "            test_pred = model.predict(test_x)\n",
    "            \n",
    "        train[valid_index] = val_pred\n",
    "        test = test_pred / kf.n_splits\n",
    "        cv_scores.append(roc_auc_score(val_y, val_pred))\n",
    "        \n",
    "        print(cv_scores)\n",
    "        \n",
    "    print(\"%s_scotrainre_list:\" % clf_name, cv_scores)\n",
    "    print(\"%s_score_mean:\" % clf_name, np.mean(cv_scores))\n",
    "    print(\"%s_score_std:\" % clf_name, np.std(cv_scores))\n",
    "    return train, test"
   ]
  },
  {
   "cell_type": "code",
   "execution_count": 616,
   "metadata": {},
   "outputs": [],
   "source": [
    "def lgb_model(x_train, y_train, x_test):\n",
    "    lgb_train, lgb_test = cv_model(lgb, x_train, y_train, x_test, \"lgb\")\n",
    "    return lgb_train, lgb_test\n",
    "\n",
    "def xgb_model(x_train, y_train, x_test):\n",
    "    xgb_train, xgb_test = cv_model(xgb, x_train, y_train, x_test, \"xgb\")\n",
    "    return xgb_train, xgb_test\n",
    "\n",
    "def cat_model(x_train, y_train, x_test):\n",
    "    cat_train, cat_test = cv_model(CatBoostRegressor, x_train, y_train, x_test, \"cat\")"
   ]
  },
  {
   "cell_type": "code",
   "execution_count": 617,
   "metadata": {},
   "outputs": [
    {
     "name": "stdout",
     "output_type": "stream",
     "text": [
      "************************************ 1 ************************************\n",
      "[LightGBM] [Warning] num_threads is set with n_jobs=24, nthread=28 will be ignored. Current value: num_threads=24\n",
      "[LightGBM] [Warning] Unknown parameter: silent\n",
      "Training until validation scores don't improve for 200 rounds\n",
      "[200]\ttraining's auc: 0.735135\tvalid_1's auc: 0.725531\n",
      "[400]\ttraining's auc: 0.745193\tvalid_1's auc: 0.726157\n",
      "[600]\ttraining's auc: 0.754403\tvalid_1's auc: 0.726198\n",
      "Early stopping, best iteration is:\n",
      "[484]\ttraining's auc: 0.749219\tvalid_1's auc: 0.726315\n",
      "[0.7263147866629363]\n",
      "************************************ 2 ************************************\n",
      "[LightGBM] [Warning] num_threads is set with n_jobs=24, nthread=28 will be ignored. Current value: num_threads=24\n",
      "[LightGBM] [Warning] Unknown parameter: silent\n",
      "Training until validation scores don't improve for 200 rounds\n",
      "[200]\ttraining's auc: 0.736408\tvalid_1's auc: 0.721384\n",
      "[400]\ttraining's auc: 0.74638\tvalid_1's auc: 0.722207\n",
      "[600]\ttraining's auc: 0.754811\tvalid_1's auc: 0.72232\n",
      "Early stopping, best iteration is:\n",
      "[547]\ttraining's auc: 0.75281\tvalid_1's auc: 0.722358\n",
      "[0.7263147866629363, 0.7223579657659758]\n",
      "************************************ 3 ************************************\n",
      "[LightGBM] [Warning] num_threads is set with n_jobs=24, nthread=28 will be ignored. Current value: num_threads=24\n",
      "[LightGBM] [Warning] Unknown parameter: silent\n",
      "Training until validation scores don't improve for 200 rounds\n",
      "[200]\ttraining's auc: 0.735421\tvalid_1's auc: 0.726674\n",
      "[400]\ttraining's auc: 0.745299\tvalid_1's auc: 0.727319\n",
      "[600]\ttraining's auc: 0.754078\tvalid_1's auc: 0.727303\n",
      "Early stopping, best iteration is:\n",
      "[421]\ttraining's auc: 0.746212\tvalid_1's auc: 0.727382\n",
      "[0.7263147866629363, 0.7223579657659758, 0.7273818054395178]\n",
      "************************************ 4 ************************************\n",
      "[LightGBM] [Warning] num_threads is set with n_jobs=24, nthread=28 will be ignored. Current value: num_threads=24\n",
      "[LightGBM] [Warning] Unknown parameter: silent\n",
      "Training until validation scores don't improve for 200 rounds\n",
      "[200]\ttraining's auc: 0.735718\tvalid_1's auc: 0.725204\n",
      "[400]\ttraining's auc: 0.745619\tvalid_1's auc: 0.726024\n",
      "[600]\ttraining's auc: 0.754187\tvalid_1's auc: 0.726371\n",
      "[800]\ttraining's auc: 0.762447\tvalid_1's auc: 0.726182\n",
      "Early stopping, best iteration is:\n",
      "[602]\ttraining's auc: 0.754276\tvalid_1's auc: 0.726383\n",
      "[0.7263147866629363, 0.7223579657659758, 0.7273818054395178, 0.7263834421999343]\n",
      "************************************ 5 ************************************\n",
      "[LightGBM] [Warning] num_threads is set with n_jobs=24, nthread=28 will be ignored. Current value: num_threads=24\n",
      "[LightGBM] [Warning] Unknown parameter: silent\n",
      "Training until validation scores don't improve for 200 rounds\n",
      "[200]\ttraining's auc: 0.735634\tvalid_1's auc: 0.72401\n",
      "[400]\ttraining's auc: 0.745386\tvalid_1's auc: 0.724863\n",
      "[600]\ttraining's auc: 0.754062\tvalid_1's auc: 0.725002\n",
      "Early stopping, best iteration is:\n",
      "[592]\ttraining's auc: 0.753793\tvalid_1's auc: 0.72502\n",
      "[0.7263147866629363, 0.7223579657659758, 0.7273818054395178, 0.7263834421999343, 0.7250195235561995]\n",
      "lgb_scotrainre_list: [0.7263147866629363, 0.7223579657659758, 0.7273818054395178, 0.7263834421999343, 0.7250195235561995]\n",
      "lgb_score_mean: 0.7254915047249126\n",
      "lgb_score_std: 0.0017371479517448002\n"
     ]
    }
   ],
   "source": [
    "lgb_train, lgb_test = lgb_model(x_train, y_train, x_test)"
   ]
  },
  {
   "cell_type": "code",
   "execution_count": 623,
   "metadata": {},
   "outputs": [],
   "source": [
    "test_out_file = \"/Users/HaoShaochun/Yam/FinancialRiskControl/data/testA_result.csv\"\n",
    "\n",
    "data_pred = pd.read_csv(test_file)\n",
    "\n",
    "out = [\"id,isDefault\"]\n",
    "ids = list(data_pred.id)\n",
    "for i in range(len(lgb_test)):\n",
    "    line = str(ids[i]) + \",\" + str(lgb_test[i])\n",
    "    out.append(line)\n",
    "\n",
    "pnlp.write_file(test_out_file, out)"
   ]
  },
  {
   "cell_type": "code",
   "execution_count": 648,
   "metadata": {},
   "outputs": [],
   "source": [
    "# 成绩 0.7191"
   ]
  },
  {
   "cell_type": "code",
   "execution_count": null,
   "metadata": {},
   "outputs": [],
   "source": []
  },
  {
   "cell_type": "code",
   "execution_count": null,
   "metadata": {},
   "outputs": [],
   "source": []
  },
  {
   "cell_type": "code",
   "execution_count": null,
   "metadata": {},
   "outputs": [],
   "source": []
  },
  {
   "cell_type": "code",
   "execution_count": null,
   "metadata": {},
   "outputs": [],
   "source": []
  }
 ],
 "metadata": {
  "kernelspec": {
   "display_name": "Python 3",
   "language": "python",
   "name": "python3"
  },
  "language_info": {
   "codemirror_mode": {
    "name": "ipython",
    "version": 3
   },
   "file_extension": ".py",
   "mimetype": "text/x-python",
   "name": "python",
   "nbconvert_exporter": "python",
   "pygments_lexer": "ipython3",
   "version": "3.7.4"
  },
  "latex_envs": {
   "LaTeX_envs_menu_present": true,
   "autoclose": false,
   "autocomplete": true,
   "bibliofile": "biblio.bib",
   "cite_by": "apalike",
   "current_citInitial": 1,
   "eqLabelWithNumbers": true,
   "eqNumInitial": 1,
   "hotkeys": {
    "equation": "Ctrl-E",
    "itemize": "Ctrl-I"
   },
   "labels_anchors": false,
   "latex_user_defs": false,
   "report_style_numbering": false,
   "user_envs_cfg": false
  },
  "toc": {
   "base_numbering": 1,
   "nav_menu": {},
   "number_sections": true,
   "sideBar": true,
   "skip_h1_title": false,
   "title_cell": "Table of Contents",
   "title_sidebar": "Contents",
   "toc_cell": false,
   "toc_position": {},
   "toc_section_display": true,
   "toc_window_display": false
  }
 },
 "nbformat": 4,
 "nbformat_minor": 2
}
