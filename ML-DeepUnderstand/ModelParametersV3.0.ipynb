{
 "cells": [
  {
   "cell_type": "code",
   "execution_count": 7,
   "metadata": {},
   "outputs": [],
   "source": [
    "import pandas as pd\n",
    "from sklearn.metrics import log_loss, roc_auc_score\n",
    "from sklearn.model_selection import train_test_split\n",
    "from sklearn.preprocessing import LabelEncoder, MinMaxScaler\n",
    "\n",
    "from deepctr.models import *\n",
    "from deepctr.feature_column import SparseFeat, DenseFeat, get_feature_names"
   ]
  },
  {
   "cell_type": "markdown",
   "metadata": {},
   "source": [
    "深度学习版本"
   ]
  },
  {
   "cell_type": "code",
   "execution_count": 275,
   "metadata": {},
   "outputs": [],
   "source": [
    "train_file = \"/Users/HaoShaochun/Yam/FinancialRiskControl/data/train.csv\"\n",
    "test_file = \"/Users/HaoShaochun/Yam/FinancialRiskControl/data/testA.csv\"\n",
    "\n",
    "data_train = pd.read_csv(train_file)\n",
    "data_test = pd.read_csv(test_file)"
   ]
  },
  {
   "cell_type": "code",
   "execution_count": 276,
   "metadata": {},
   "outputs": [],
   "source": [
    "data = pd.concat([data_train, data_test], axis=0, ignore_index=True)"
   ]
  },
  {
   "cell_type": "markdown",
   "metadata": {},
   "source": [
    "## 数据预处理"
   ]
  },
  {
   "cell_type": "code",
   "execution_count": 277,
   "metadata": {},
   "outputs": [],
   "source": [
    "zero_one_feas = [\n",
    "    \"initialListStatus\", \"applicationType\", \n",
    "]\n",
    "\n",
    "num_not_bucket_feas = [\n",
    "    \"annualIncome\",\n",
    "    \"term\", \"employmentLength\", \n",
    "    \"loanAmnt\", \"interestRate\", \"installment\", \"dti\", \n",
    "    \"delinquency_2years\",\n",
    "    \"ficoRangeLow\", \"ficoRangeHigh\", \n",
    "    \"openAcc\", \n",
    "    \"pubRec\", \"pubRecBankruptcies\",\n",
    "    \"revolBal\", \"revolUtil\", \"totalAcc\",\n",
    "    \"earliesCreditLine\", \n",
    "    \"grade\", \"subGrade\"\n",
    "]\n",
    "\n",
    "num_need_bucket_feas = [\n",
    "    \n",
    "]\n",
    "\n",
    "obj_not_bucket_feas = [\n",
    "    \"homeOwnership\", \"verificationStatus\", \"purpose\", \"n11\", \"n12\",\n",
    "    \"regionCode\", \n",
    "    \"n0\", \"n1\", \"n2\", \n",
    "    'n4', 'n5', 'n6', 'n7', 'n8', 'n9', 'n10', 'n13', 'n14',\n",
    "]\n",
    "\n",
    "obj_need_bucket_feas = [\n",
    "    \"employmentTitle\", \"postCode\", \"title\"\n",
    "]"
   ]
  },
  {
   "cell_type": "code",
   "execution_count": 278,
   "metadata": {},
   "outputs": [],
   "source": [
    "def is_float(x):\n",
    "    return bool(int(x) - x)\n",
    "\n",
    "def all_data_is_float(df: pd.DataFrame, feature: str):\n",
    "    uniq = df[feature].unique()\n",
    "    for i in uniq:\n",
    "        if pd.isna(i):\n",
    "            continue\n",
    "        if is_float(i):\n",
    "            return True\n",
    "    return False\n",
    "\n",
    "def drop_given_features(df: pd.DataFrame, feature_list: List[str]) -> pd.DataFrame:\n",
    "    return df.drop(columns=feature_list)\n",
    "\n",
    "def drop_uniquevalue_features(df: pd.DataFrame) -> pd.DataFrame:\n",
    "    need_drop_feas = [col for col in df.columns if df[col].nunique() <= 1]\n",
    "    return df.drop(columns=need_drop_feas)\n",
    "\n",
    "def convert_num_to_obj(x: Union[int, float]):\n",
    "    if pd.isna(x):\n",
    "        return x\n",
    "    else:\n",
    "        return str(int(x))\n",
    "\n",
    "def convert_float_to_int(x: float):\n",
    "    if pd.isna(x):\n",
    "        return np.nan\n",
    "    else:\n",
    "        return int(x)\n",
    "\n",
    "def deal_employmentLength(x):\n",
    "    if pd.notna(x):\n",
    "        if x == \"10+ years\":\n",
    "            return 10\n",
    "        elif x == \"< 1 year\":\n",
    "            return 0\n",
    "        else:\n",
    "            return int(x[0])\n",
    "    else:\n",
    "        return np.nan\n",
    "    \n",
    "insignificant_feas = [\"n2.1\", \"n2.2\", \"n2.3\", \"issueDate\"]\n",
    "grade_dct = dict(zip(['A', 'B', 'C', 'D', 'E', 'F', 'G'], range(10, 80, 10)))"
   ]
  },
  {
   "cell_type": "code",
   "execution_count": 279,
   "metadata": {},
   "outputs": [],
   "source": [
    "data = drop_uniquevalue_features(data)\n",
    "data = drop_given_features(data, insignificant_feas)\n",
    "\n",
    "data['grade'] = data['grade'].map(grade_dct)\n",
    "data[\"subGrade\"] = data[\"subGrade\"].apply(lambda x: grade_dct.get(x[0]) + int(x[1]))\n",
    "data[\"employmentLength\"] = data[\"employmentLength\"].apply(deal_employmentLength)\n",
    "data[\"earliesCreditLine\"] = data[\"earliesCreditLine\"].apply(lambda x: int(x[-4:]))"
   ]
  },
  {
   "cell_type": "code",
   "execution_count": 281,
   "metadata": {},
   "outputs": [],
   "source": [
    "ave_feas = [\"dti\", \"revolUtil\"]\n",
    "ave_int_feas = [\"employmentLength\", \"pubRecBankruptcies\"]\n",
    "mode_feas = [\"employmentTitle\", \"postCode\", \"title\"]\n",
    "\n",
    "data[ave_feas] = data[ave_feas].fillna(data[ave_feas].mean())\n",
    "data[ave_int_feas] = data[ave_int_feas].fillna(data[ave_int_feas].mean().apply(int))\n",
    "for fea in mode_feas:\n",
    "    data[fea] = data[fea].fillna(data[fea].mode()[0])\n",
    "\n",
    "n_feas =[\"n0\", \"n1\", \"n2\", 'n4', 'n5', 'n6', 'n7', 'n8', 'n9', 'n10', 'n11', 'n12', 'n13', 'n14']\n",
    "for fea in n_feas:\n",
    "    data[fea] = data[fea].fillna(-1.0)"
   ]
  },
  {
   "cell_type": "code",
   "execution_count": 282,
   "metadata": {},
   "outputs": [],
   "source": [
    "features = [fea for fea in data.columns if fea not in [\"isDefault\"]]"
   ]
  },
  {
   "cell_type": "code",
   "execution_count": 283,
   "metadata": {},
   "outputs": [],
   "source": [
    "for fea in features:\n",
    "    c_min = data[fea].min()\n",
    "    c_max = data[fea].max()\n",
    "    if all_data_is_float(data, fea):\n",
    "        if c_min > np.finfo(np.float16).min and c_max < np.finfo(np.float16).max:\n",
    "            data[fea] = data[fea].astype(np.float16)\n",
    "        elif c_min > np.finfo(np.float32).min and c_max < np.finfo(np.float32).max:\n",
    "            data[fea] = data[fea].astype(np.float32)\n",
    "        else:\n",
    "            data[fea] = data[fea].astype(np.float64)\n",
    "    else:\n",
    "        if c_min > np.iinfo(np.int8).min and c_max < np.iinfo(np.int8).max:\n",
    "            data[fea] = data[fea].astype(np.int8)\n",
    "        elif c_min > np.iinfo(np.int16).min and c_max < np.iinfo(np.int16).max:\n",
    "            data[fea] = data[fea].astype(np.int16)\n",
    "        elif c_min > np.iinfo(np.int32).min and c_max < np.iinfo(np.int32).max:\n",
    "            data[fea] = data[fea].astype(np.int32)\n",
    "        elif c_min > np.iinfo(np.int64).min and c_max < np.iinfo(np.int64).max:\n",
    "            data[fea] = data[fea].astype(np.int64) "
   ]
  },
  {
   "cell_type": "code",
   "execution_count": 284,
   "metadata": {},
   "outputs": [],
   "source": [
    "for i, fea in enumerate(obj_need_bucket_feas):\n",
    "    data[fea+'_cnts'] = data.groupby([fea])['id'].transform('count')\n",
    "    data[fea+'_rank'] = data.groupby([fea])['id'].rank(ascending=False).astype(int)\n",
    "    data = data.drop(columns=[fea])\n",
    "    obj_not_bucket_feas.append(fea + '_cnts')\n",
    "    obj_not_bucket_feas.append(fea + '_rank')"
   ]
  },
  {
   "cell_type": "code",
   "execution_count": 285,
   "metadata": {},
   "outputs": [],
   "source": [
    "sparse_features = obj_not_bucket_feas\n",
    "dense_features = num_not_bucket_feas + zero_one_feas"
   ]
  },
  {
   "cell_type": "code",
   "execution_count": 286,
   "metadata": {},
   "outputs": [
    {
     "data": {
      "text/plain": [
       "{'id', 'isDefault'}"
      ]
     },
     "execution_count": 286,
     "metadata": {},
     "output_type": "execute_result"
    }
   ],
   "source": [
    "set(data.columns) - set(sparse_features + dense_features)"
   ]
  },
  {
   "cell_type": "code",
   "execution_count": 287,
   "metadata": {
    "scrolled": true
   },
   "outputs": [
    {
     "data": {
      "text/plain": [
       "set()"
      ]
     },
     "execution_count": 287,
     "metadata": {},
     "output_type": "execute_result"
    }
   ],
   "source": [
    "set(sparse_features + dense_features) - set(data.columns)"
   ]
  },
  {
   "cell_type": "code",
   "execution_count": 288,
   "metadata": {},
   "outputs": [],
   "source": [
    "label = \"isDefault\""
   ]
  },
  {
   "cell_type": "code",
   "execution_count": 289,
   "metadata": {},
   "outputs": [],
   "source": [
    "for feat in sparse_features:\n",
    "    lbe = LabelEncoder()\n",
    "    data[feat] = lbe.fit_transform(data[feat])\n",
    "mms = MinMaxScaler(feature_range=(0, 1))\n",
    "data[dense_features] = mms.fit_transform(data[dense_features])"
   ]
  },
  {
   "cell_type": "code",
   "execution_count": 292,
   "metadata": {},
   "outputs": [],
   "source": [
    "fixlen_feature_columns = [SparseFeat(feat, vocabulary_size=data[feat].nunique(), embedding_dim=4)\n",
    "                       for i,feat in enumerate(sparse_features)] + [DenseFeat(feat, 1,)\n",
    "                       for feat in dense_features]\n",
    "\n",
    "dnn_feature_columns = fixlen_feature_columns\n",
    "linear_feature_columns = fixlen_feature_columns\n",
    "\n",
    "feature_names = get_feature_names(linear_feature_columns + dnn_feature_columns)"
   ]
  },
  {
   "cell_type": "code",
   "execution_count": 295,
   "metadata": {},
   "outputs": [],
   "source": [
    "train = data[data[label].notnull()].reset_index(drop=True)\n",
    "test = data[data[label].isnull()].reset_index(drop=True)"
   ]
  },
  {
   "cell_type": "code",
   "execution_count": 296,
   "metadata": {},
   "outputs": [],
   "source": [
    "train_model_input = {name:train[name] for name in feature_names}\n",
    "test_model_input = {name:test[name] for name in feature_names}"
   ]
  },
  {
   "cell_type": "code",
   "execution_count": 315,
   "metadata": {},
   "outputs": [
    {
     "name": "stdout",
     "output_type": "stream",
     "text": [
      "Epoch 1/30\n",
      "2500/2500 - 46s - loss: 0.4570 - binary_crossentropy: 0.4541 - val_loss: 0.4538 - val_binary_crossentropy: 0.4494\n",
      "Epoch 2/30\n",
      "2500/2500 - 46s - loss: 0.3579 - binary_crossentropy: 0.3455 - val_loss: 0.5262 - val_binary_crossentropy: 0.5060\n",
      "Epoch 3/30\n",
      "2500/2500 - 49s - loss: 0.2312 - binary_crossentropy: 0.2110 - val_loss: 1.1081 - val_binary_crossentropy: 1.0879\n",
      "Epoch 4/30\n",
      "2500/2500 - 51s - loss: 0.1475 - binary_crossentropy: 0.1288 - val_loss: 1.3713 - val_binary_crossentropy: 1.3536\n",
      "Epoch 5/30\n",
      "2500/2500 - 50s - loss: 0.1123 - binary_crossentropy: 0.0963 - val_loss: 1.5539 - val_binary_crossentropy: 1.5388\n",
      "Epoch 6/30\n",
      "2500/2500 - 50s - loss: 0.1002 - binary_crossentropy: 0.0863 - val_loss: 1.5111 - val_binary_crossentropy: 1.4968\n",
      "Epoch 7/30\n",
      "2500/2500 - 52s - loss: 0.1104 - binary_crossentropy: 0.0963 - val_loss: 1.5207 - val_binary_crossentropy: 1.5046\n",
      "Epoch 8/30\n",
      "2500/2500 - 51s - loss: 0.1247 - binary_crossentropy: 0.1084 - val_loss: 1.6139 - val_binary_crossentropy: 1.5952\n",
      "Epoch 9/30\n",
      "2500/2500 - 51s - loss: 0.1216 - binary_crossentropy: 0.1033 - val_loss: 1.7055 - val_binary_crossentropy: 1.6860\n",
      "Epoch 10/30\n",
      "2500/2500 - 52s - loss: 0.1026 - binary_crossentropy: 0.0840 - val_loss: 1.6464 - val_binary_crossentropy: 1.6274\n",
      "Epoch 11/30\n",
      "2500/2500 - 52s - loss: 0.0912 - binary_crossentropy: 0.0732 - val_loss: 1.8077 - val_binary_crossentropy: 1.7895\n",
      "Epoch 12/30\n",
      "2500/2500 - 51s - loss: 0.0864 - binary_crossentropy: 0.0692 - val_loss: 1.7663 - val_binary_crossentropy: 1.7487\n",
      "Epoch 13/30\n",
      "2500/2500 - 54s - loss: 0.0870 - binary_crossentropy: 0.0704 - val_loss: 1.7800 - val_binary_crossentropy: 1.7630\n",
      "Epoch 14/30\n",
      "2500/2500 - 52s - loss: 0.0847 - binary_crossentropy: 0.0685 - val_loss: 1.6945 - val_binary_crossentropy: 1.6778\n",
      "Epoch 15/30\n",
      "2500/2500 - 57s - loss: 0.0853 - binary_crossentropy: 0.0693 - val_loss: 1.6799 - val_binary_crossentropy: 1.6632\n",
      "Epoch 16/30\n",
      "2500/2500 - 59s - loss: 0.0906 - binary_crossentropy: 0.0743 - val_loss: 1.5808 - val_binary_crossentropy: 1.5635\n",
      "Epoch 17/30\n",
      "2500/2500 - 55s - loss: 0.0929 - binary_crossentropy: 0.0761 - val_loss: 1.8469 - val_binary_crossentropy: 1.8293\n",
      "Epoch 18/30\n",
      "2500/2500 - 47s - loss: 0.0872 - binary_crossentropy: 0.0703 - val_loss: 1.8093 - val_binary_crossentropy: 1.7920\n",
      "Epoch 19/30\n",
      "2500/2500 - 48s - loss: 0.0795 - binary_crossentropy: 0.0632 - val_loss: 1.8881 - val_binary_crossentropy: 1.8716\n",
      "Epoch 20/30\n",
      "2500/2500 - 48s - loss: 0.0756 - binary_crossentropy: 0.0603 - val_loss: 1.7284 - val_binary_crossentropy: 1.7127\n",
      "Epoch 21/30\n",
      "2500/2500 - 44s - loss: 0.0760 - binary_crossentropy: 0.0611 - val_loss: 1.9216 - val_binary_crossentropy: 1.9061\n",
      "Epoch 22/30\n",
      "2500/2500 - 48s - loss: 0.0768 - binary_crossentropy: 0.0620 - val_loss: 1.9307 - val_binary_crossentropy: 1.9151\n",
      "Epoch 23/30\n",
      "2500/2500 - 48s - loss: 0.0762 - binary_crossentropy: 0.0612 - val_loss: 1.8465 - val_binary_crossentropy: 1.8307\n",
      "Epoch 24/30\n",
      "2500/2500 - 45s - loss: 0.0772 - binary_crossentropy: 0.0620 - val_loss: 1.8779 - val_binary_crossentropy: 1.8618\n",
      "Epoch 25/30\n",
      "2500/2500 - 44s - loss: 0.0775 - binary_crossentropy: 0.0620 - val_loss: 1.8455 - val_binary_crossentropy: 1.8293\n",
      "Epoch 26/30\n",
      "2500/2500 - 45s - loss: 0.0776 - binary_crossentropy: 0.0620 - val_loss: 1.8100 - val_binary_crossentropy: 1.7937\n",
      "Epoch 27/30\n",
      "2500/2500 - 45s - loss: 0.0755 - binary_crossentropy: 0.0597 - val_loss: 1.8826 - val_binary_crossentropy: 1.8662\n",
      "Epoch 28/30\n",
      "2500/2500 - 45s - loss: 0.0739 - binary_crossentropy: 0.0581 - val_loss: 1.7035 - val_binary_crossentropy: 1.6870\n",
      "Epoch 29/30\n",
      "2500/2500 - 45s - loss: 0.0729 - binary_crossentropy: 0.0569 - val_loss: 1.8065 - val_binary_crossentropy: 1.7899\n",
      "Epoch 30/30\n",
      "2500/2500 - 47s - loss: 0.0731 - binary_crossentropy: 0.0570 - val_loss: 1.7710 - val_binary_crossentropy: 1.7543\n"
     ]
    }
   ],
   "source": [
    "model = DeepFM(linear_feature_columns, dnn_feature_columns, task='binary')\n",
    "model.compile(\"adam\", \"binary_crossentropy\",\n",
    "              metrics=['binary_crossentropy'], )\n",
    "\n",
    "history = model.fit(train_model_input, train[label].values,\n",
    "                    batch_size=256, epochs=30, verbose=2, validation_split=0.2, )"
   ]
  },
  {
   "cell_type": "code",
   "execution_count": 316,
   "metadata": {},
   "outputs": [],
   "source": [
    "pred_ans = model.predict(test_model_input, batch_size=256)"
   ]
  },
  {
   "cell_type": "code",
   "execution_count": 338,
   "metadata": {},
   "outputs": [],
   "source": [
    "test_out_file = \"/Users/HaoShaochun/Yam/FinancialRiskControl/data/testA_result_DL_V1.0.csv\"\n",
    "\n",
    "test['isDefault'] = pred_ans.reshape(-1)\n",
    "test[['id','isDefault']].to_csv(test_out_file, index=False, float_format=\"%.10f\")"
   ]
  },
  {
   "cell_type": "code",
   "execution_count": 323,
   "metadata": {},
   "outputs": [],
   "source": [
    "np.set_printoptions(suppress=True)"
   ]
  },
  {
   "cell_type": "code",
   "execution_count": null,
   "metadata": {},
   "outputs": [],
   "source": []
  },
  {
   "cell_type": "code",
   "execution_count": null,
   "metadata": {},
   "outputs": [],
   "source": []
  },
  {
   "cell_type": "code",
   "execution_count": null,
   "metadata": {},
   "outputs": [],
   "source": []
  },
  {
   "cell_type": "code",
   "execution_count": null,
   "metadata": {},
   "outputs": [],
   "source": []
  },
  {
   "cell_type": "code",
   "execution_count": null,
   "metadata": {},
   "outputs": [],
   "source": []
  },
  {
   "cell_type": "code",
   "execution_count": null,
   "metadata": {},
   "outputs": [],
   "source": []
  },
  {
   "cell_type": "code",
   "execution_count": null,
   "metadata": {},
   "outputs": [],
   "source": []
  }
 ],
 "metadata": {
  "kernelspec": {
   "display_name": "Python 3",
   "language": "python",
   "name": "python3"
  },
  "language_info": {
   "codemirror_mode": {
    "name": "ipython",
    "version": 3
   },
   "file_extension": ".py",
   "mimetype": "text/x-python",
   "name": "python",
   "nbconvert_exporter": "python",
   "pygments_lexer": "ipython3",
   "version": "3.7.4"
  },
  "latex_envs": {
   "LaTeX_envs_menu_present": true,
   "autoclose": false,
   "autocomplete": true,
   "bibliofile": "biblio.bib",
   "cite_by": "apalike",
   "current_citInitial": 1,
   "eqLabelWithNumbers": true,
   "eqNumInitial": 1,
   "hotkeys": {
    "equation": "Ctrl-E",
    "itemize": "Ctrl-I"
   },
   "labels_anchors": false,
   "latex_user_defs": false,
   "report_style_numbering": false,
   "user_envs_cfg": false
  },
  "toc": {
   "base_numbering": 1,
   "nav_menu": {},
   "number_sections": true,
   "sideBar": true,
   "skip_h1_title": false,
   "title_cell": "Table of Contents",
   "title_sidebar": "Contents",
   "toc_cell": false,
   "toc_position": {},
   "toc_section_display": true,
   "toc_window_display": false
  }
 },
 "nbformat": 4,
 "nbformat_minor": 2
}
