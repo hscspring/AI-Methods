{
 "cells": [
  {
   "cell_type": "code",
   "execution_count": 1,
   "metadata": {},
   "outputs": [],
   "source": [
    "import pandas as pd\n",
    "import numpy as np\n",
    "import matplotlib.pyplot as plt\n",
    "import seaborn as sns\n",
    "import datetime\n",
    "from tqdm import tqdm\n",
    "from sklearn.preprocessing import LabelEncoder\n",
    "from sklearn.feature_selection import SelectKBest\n",
    "from sklearn.feature_selection import chi2\n",
    "from sklearn.preprocessing import MinMaxScaler\n",
    "import xgboost as xgb\n",
    "import lightgbm as lgb\n",
    "from catboost import CatBoostRegressor\n",
    "import warnings\n",
    "from sklearn.model_selection import StratifiedKFold, KFold\n",
    "from sklearn.metrics import accuracy_score, f1_score, roc_auc_score, log_loss\n",
    "\n",
    "import category_encoders as ce\n",
    "warnings.filterwarnings('ignore')"
   ]
  },
  {
   "cell_type": "code",
   "execution_count": 2,
   "metadata": {},
   "outputs": [],
   "source": [
    "train_file = \"/Users/HaoShaochun/Yam/FinancialRiskControl/data/train.csv\"\n",
    "test_file = \"/Users/HaoShaochun/Yam/FinancialRiskControl/data/testA.csv\""
   ]
  },
  {
   "cell_type": "markdown",
   "metadata": {},
   "source": [
    "**所有特征**\n",
    "\n",
    "类别数据：\n",
    "\n",
    "- grade 贷款等级\n",
    "- subGrade 贷款等级之子级\n",
    "- employmentLength 就业年限（年）\n",
    "- issueDate 贷款发放的月份\n",
    "- earliesCreditLine 借款人最早报告的信用额度开立的月份\n",
    "\n",
    "\n",
    "数值数据：\n",
    "\n",
    "- id\n",
    "- loanAmnt 贷款金额\n",
    "- interestRate 贷款利率\n",
    "- installment 分期付款金额\n",
    "- employmentTitle 就业职称\n",
    "- annualIncome 年收入\n",
    "- postCode 借款人在贷款申请中提供的邮政编码的前3位数字\n",
    "- regionCode 地区编码\n",
    "- purpose 借款人在贷款申请时的贷款用途类别\n",
    "- dti 债务收入比\n",
    "- delinquency_2years 借款人过去2年信用档案中逾期30天以上的违约事件数\n",
    "- ficoRangeLow 借款人在贷款发放时的fico所属的下限范围\n",
    "- ficoRangeHigh 借款人在贷款发放时的fico所属的上限范围\n",
    "- openAcc 借款人信用档案中未结信用额度的数量\n",
    "- pubRec 贬损公共记录的数量\n",
    "- pubRecBankruptcies 公开记录清除的数量\n",
    "- revolBal 信贷周转余额合计\n",
    "- revolUtil 循环额度利用率，或借款人使用的相对于所有可用循环信贷的信贷金额\n",
    "- totalAcc 借款人信用档案中当前的信用额度总数\n",
    "- title 借款人提供的贷款名称\n",
    "- n 系列：n0 n1 n2 n2.1 n4 n5 n6 n7 n8 n9 n10 n13 n14\n",
    "\n",
    "\n",
    "- term 贷款期限\n",
    "- homeOwnership 借款人在登记时提供的房屋所有权状况\n",
    "- verificationStatus 验证状态\n",
    "- initialListStatus 贷款的初始列表状态\n",
    "- applicationType 表明贷款是个人申请还是与两个共同借款人的联合申请\n",
    "- n 系列：n11 n12"
   ]
  },
  {
   "cell_type": "code",
   "execution_count": 3,
   "metadata": {},
   "outputs": [],
   "source": [
    "data_train = pd.read_csv(train_file)\n",
    "data_test = pd.read_csv(test_file)"
   ]
  },
  {
   "cell_type": "markdown",
   "metadata": {},
   "source": [
    "## 数据预处理"
   ]
  },
  {
   "cell_type": "markdown",
   "metadata": {},
   "source": [
    "### 删除唯一值"
   ]
  },
  {
   "cell_type": "code",
   "execution_count": 4,
   "metadata": {},
   "outputs": [],
   "source": [
    "# 删除唯一值的特征\n",
    "uniq_value_feas = [col for col in data_train.columns if data_train[col].nunique() <= 1]\n",
    "data_train = data_train.drop(columns=uniq_value_feas)"
   ]
  },
  {
   "cell_type": "code",
   "execution_count": 5,
   "metadata": {},
   "outputs": [],
   "source": [
    "# 删除每个样本一个唯一值的特征\n",
    "uniq_feavalue_feas = [\"id\"]\n",
    "data_train = data_train.drop(columns=uniq_feavalue_feas)"
   ]
  },
  {
   "cell_type": "markdown",
   "metadata": {},
   "source": [
    "### 填充缺失值"
   ]
  },
  {
   "cell_type": "code",
   "execution_count": 6,
   "metadata": {},
   "outputs": [],
   "source": [
    "# 获取缺失值\n",
    "def get_missing_feas(data):\n",
    "    missing = data.isnull().sum()\n",
    "    missing = missing[missing > 0]\n",
    "    return missing.to_dict()"
   ]
  },
  {
   "cell_type": "code",
   "execution_count": 7,
   "metadata": {},
   "outputs": [
    {
     "data": {
      "text/plain": [
       "{'employmentTitle': 1,\n",
       " 'employmentLength': 46799,\n",
       " 'postCode': 1,\n",
       " 'dti': 239,\n",
       " 'pubRecBankruptcies': 405,\n",
       " 'revolUtil': 531,\n",
       " 'title': 1,\n",
       " 'n0': 40270,\n",
       " 'n1': 40270,\n",
       " 'n2': 40270,\n",
       " 'n2.1': 40270,\n",
       " 'n4': 33239,\n",
       " 'n5': 40270,\n",
       " 'n6': 40270,\n",
       " 'n7': 40270,\n",
       " 'n8': 40271,\n",
       " 'n9': 40270,\n",
       " 'n10': 33239,\n",
       " 'n11': 69752,\n",
       " 'n12': 40270,\n",
       " 'n13': 40270,\n",
       " 'n14': 40270}"
      ]
     },
     "execution_count": 7,
     "metadata": {},
     "output_type": "execute_result"
    }
   ],
   "source": [
    "train_missing = get_missing_feas(data_train)\n",
    "train_missing"
   ]
  },
  {
   "cell_type": "code",
   "execution_count": 8,
   "metadata": {},
   "outputs": [
    {
     "data": {
      "text/plain": [
       "{'employmentLength': 11742,\n",
       " 'dti': 61,\n",
       " 'pubRecBankruptcies': 116,\n",
       " 'revolUtil': 127,\n",
       " 'n0': 10111,\n",
       " 'n1': 10111,\n",
       " 'n2': 10111,\n",
       " 'n2.1': 10111,\n",
       " 'n2.2': 10111,\n",
       " 'n2.3': 10111,\n",
       " 'n4': 8394,\n",
       " 'n5': 10111,\n",
       " 'n6': 10111,\n",
       " 'n7': 10111,\n",
       " 'n8': 10111,\n",
       " 'n9': 10111,\n",
       " 'n10': 8394,\n",
       " 'n11': 17575,\n",
       " 'n12': 10111,\n",
       " 'n13': 10111,\n",
       " 'n14': 10111}"
      ]
     },
     "execution_count": 8,
     "metadata": {},
     "output_type": "execute_result"
    }
   ],
   "source": [
    "test_missing = get_missing_feas(data_test)\n",
    "test_missing"
   ]
  },
  {
   "cell_type": "markdown",
   "metadata": {},
   "source": [
    "对比发现，训练集比测试集多了 3 个可以用众数填充的特征，而且就缺少了 1 个样本。\n",
    "\n",
    "测试集比训练集多了 3 个 n 系列指标，显然这俩指标没啥意义。"
   ]
  },
  {
   "cell_type": "markdown",
   "metadata": {},
   "source": [
    "众数填充：\n",
    "\n",
    "- employmentTitle：就业职称\n",
    "- postCode：借款人在贷款申请中提供的邮政编码的前3位数字\n",
    "- title：借款人提供的贷款名称\n",
    "\n",
    "这三个指标都只缺了一个样本，可以考虑直接删掉。"
   ]
  },
  {
   "cell_type": "code",
   "execution_count": 9,
   "metadata": {},
   "outputs": [],
   "source": [
    "mode_feas = [\"employmentTitle\", \"postCode\", \"title\"]\n",
    "data_train = data_train.dropna(subset=mode_feas)\n",
    "data_train = data_train.reset_index(drop=True)"
   ]
  },
  {
   "cell_type": "markdown",
   "metadata": {},
   "source": [
    "加权平均：\n",
    "\n",
    "- dti：债务收入比\n",
    "- revolUtil：循环额度利用率，或借款人使用的相对于所有可用循环信贷的信贷金额\n",
    "\n",
    "加权平均后取整：\n",
    "\n",
    "- pubRecBankruptcies：公开记录清除的数量\n",
    "- n 系列\n",
    "\n",
    "因为 n 系列虽然是 float 型，但其实都是整数，自然我们也取整数比较好\n",
    "\n",
    "最纠结的是 employmentLength（就业年限），这个我的理解是取平均值比较好，如果是分桶的话，那就取样本最多的桶。\n",
    "\n",
    "另外要注意，直接在 DataFrame 上取平均其实是加权平均，也可以直接对唯一值取平均，我们这里统一采用加权平均，即出现次数就是权重。"
   ]
  },
  {
   "cell_type": "code",
   "execution_count": 10,
   "metadata": {
    "scrolled": true
   },
   "outputs": [],
   "source": [
    "# data_train.employmentLength.unique()"
   ]
  },
  {
   "cell_type": "code",
   "execution_count": 11,
   "metadata": {},
   "outputs": [],
   "source": [
    "# 平均\n",
    "ave_feas = [\"dti\", \"revolUtil\"]\n",
    "data_train[ave_feas] = data_train[ave_feas].fillna(data_train[ave_feas].mean())"
   ]
  },
  {
   "cell_type": "code",
   "execution_count": 12,
   "metadata": {},
   "outputs": [],
   "source": [
    "# 平均后取整\n",
    "ave_floor_feas = [\"pubRecBankruptcies\"] + [f for f in train_missing if f.startswith(\"n\")]\n",
    "data_train[ave_floor_feas] = data_train[ave_floor_feas].fillna(data_train[ave_floor_feas].mean().apply(int))"
   ]
  },
  {
   "cell_type": "code",
   "execution_count": 13,
   "metadata": {},
   "outputs": [],
   "source": [
    "# 处理后取平均\n",
    "def deal_employmentLength(x):\n",
    "    if x == \"10+ years\":\n",
    "        return 10.0\n",
    "    elif x == \"< 1 year\":\n",
    "        return 0.5\n",
    "    else:\n",
    "        return float(x[0])\n",
    "\n",
    "ave_elength = int(data_train[\"employmentLength\"].dropna().apply(deal_employmentLength).mean())\n",
    "data_train[\"employmentLength\"] = data_train[\"employmentLength\"].fillna(str(ave_elength) + \" years\")\n",
    "data_train[\"employmentLength\"] = data_train[\"employmentLength\"].apply(deal_employmentLength)\n",
    "\n",
    "\n",
    "# def employmentLength_to_int(s):\n",
    "#     if pd.isnull(s):\n",
    "#         return s\n",
    "#     else:\n",
    "#         return np.int8(s.split()[0])\n",
    "# data['employmentLength'].replace(to_replace='10+ years', value='10 years', inplace=True)\n",
    "# data['employmentLength'].replace('< 1 year', '0 years', inplace=True)\n",
    "# data['employmentLength'] = data['employmentLength'].apply(employmentLength_to_int)"
   ]
  },
  {
   "cell_type": "markdown",
   "metadata": {},
   "source": [
    "### 时间特征处理"
   ]
  },
  {
   "cell_type": "markdown",
   "metadata": {},
   "source": [
    "- issueDate 贷款发放的月份\n",
    "- earliesCreditLine 借款人最早报告的信用额度开立的月份\n",
    "\n",
    "第一个显然处理成 年+月 两个指标比较好\n",
    "第二个用 年 就可以了，这个可以通过看唯一值的范围确定\n",
    "\n"
   ]
  },
  {
   "cell_type": "code",
   "execution_count": 14,
   "metadata": {},
   "outputs": [],
   "source": [
    "data_train[\"earliesCreditLine\"] = data_train[\"earliesCreditLine\"].apply(lambda x: int(x[-4:]))"
   ]
  },
  {
   "cell_type": "code",
   "execution_count": 15,
   "metadata": {},
   "outputs": [],
   "source": [
    "data_train[\"issueYear\"] = data_train[\"issueDate\"].apply(lambda x: int(x[:4]))\n",
    "data_train[\"issueMonth\"] = data_train[\"issueDate\"].apply(lambda x: int(x[5:7]))\n",
    "data_train = data_train.drop(columns=[\"issueDate\"])\n",
    "\n",
    "# data['issueDate'] = pd.to_datetime(data['issueDate'],format='%Y-%m-%d')\n",
    "# startdate = datetime.datetime.strptime('2007-06-01', '%Y-%m-%d')\n",
    "# data['issueDateDT'] = data['issueDate'].apply(lambda x: x-startdate).dt.days"
   ]
  },
  {
   "cell_type": "markdown",
   "metadata": {},
   "source": [
    "### 对象类型特征转换数值"
   ]
  },
  {
   "cell_type": "code",
   "execution_count": 16,
   "metadata": {},
   "outputs": [],
   "source": [
    "# 处理非离散数字的类别特征\n",
    "grade_dct = dict(zip(['A', 'B', 'C', 'D', 'E', 'F', 'G'], range(10, 80, 10)))\n",
    "data_train['grade'] = data_train['grade'].map(grade_dct)"
   ]
  },
  {
   "cell_type": "code",
   "execution_count": 17,
   "metadata": {},
   "outputs": [],
   "source": [
    "def deal_sub_grade(x):\n",
    "    return grade_dct.get(x[0]) + int(x[1])\n",
    "data_train[\"subGrade\"] = data_train[\"subGrade\"].apply(deal_sub_grade)"
   ]
  },
  {
   "cell_type": "code",
   "execution_count": 18,
   "metadata": {},
   "outputs": [],
   "source": [
    "# 处理离散数字的类别（实际特征\n",
    "numerical_discrate_feas = [\n",
    "    \"employmentTitle\", \"homeOwnership\", \"verificationStatus\", \n",
    "    \"purpose\", \"postCode\", \"regionCode\", \"title\"]\n",
    "# - employmentTitle: 就业职称\n",
    "# - homeOwnership 借款人在登记时提供的房屋所有权状况\n",
    "# - verificationStatus 验证状态\n",
    "# - purpose 借款人在贷款申请时的贷款用途类别\n",
    "# - postCode 借款人在贷款申请中提供的邮政编码的前3位数字\n",
    "# - regionCode 地区编码\n",
    "# - title 借款人提供的贷款名称\n",
    "\n",
    "# 0-1 编码\n",
    "# - initialListStatus 贷款的初始列表状态\n",
    "# - applicationType 表明贷款是个人申请还是与两个共同借款人的联合申请"
   ]
  },
  {
   "cell_type": "code",
   "execution_count": 19,
   "metadata": {
    "scrolled": true
   },
   "outputs": [
    {
     "name": "stdout",
     "output_type": "stream",
     "text": [
      "employmentTitle 248681\n",
      "homeOwnership 6\n",
      "verificationStatus 3\n",
      "purpose 14\n",
      "postCode 932\n",
      "regionCode 51\n",
      "title 39644\n"
     ]
    }
   ],
   "source": [
    "for fea in numerical_discrate_feas:\n",
    "    print(fea, data_train[fea].nunique())"
   ]
  },
  {
   "cell_type": "markdown",
   "metadata": {},
   "source": [
    "显然，对其中多个（不是特别多）类别的可以 OneHot 编码（或其他类型编码）。特别多的类别则考虑分桶。\n",
    "\n",
    "这里可以根据实际情况进行判断，比如 purpose 虽然有十几个值，但这种特征适合进行 OneHot 编码（因为分桶不太合适），而 postCode 或 employmentTitle 这种完全可以分桶，这也很 make sense，因为它们本身的意义就是可以聚类的。"
   ]
  },
  {
   "cell_type": "code",
   "execution_count": 20,
   "metadata": {},
   "outputs": [],
   "source": [
    "data_train = pd.get_dummies(\n",
    "    data_train, \n",
    "    columns=['homeOwnership', 'verificationStatus', 'purpose'], \n",
    "    drop_first=True)"
   ]
  },
  {
   "cell_type": "code",
   "execution_count": 21,
   "metadata": {},
   "outputs": [],
   "source": [
    "need_buckets_discret_feas = [\n",
    "    \"employmentTitle\", \"postCode\", \"regionCode\", \"title\"\n",
    "]"
   ]
  },
  {
   "cell_type": "markdown",
   "metadata": {},
   "source": [
    "## 异常值处理"
   ]
  },
  {
   "cell_type": "markdown",
   "metadata": {},
   "source": [
    "### 均方差"
   ]
  },
  {
   "cell_type": "code",
   "execution_count": 22,
   "metadata": {},
   "outputs": [],
   "source": [
    "def find_outliers_by_3segama(data, fea):\n",
    "    data_std = np.std(data[fea])\n",
    "    data_mean = np.mean(data[fea])\n",
    "    outliers_cut_off = data_std * 3\n",
    "    lower_rule = data_mean - outliers_cut_off\n",
    "    upper_rule = data_mean + outliers_cut_off\n",
    "    data[fea+'_outliers'] = data[fea].apply(lambda x:str('异常值') if x > upper_rule or x < lower_rule else '正常值')\n",
    "    return data"
   ]
  },
  {
   "cell_type": "code",
   "execution_count": 23,
   "metadata": {},
   "outputs": [
    {
     "data": {
      "text/plain": [
       "['loanAmnt',\n",
       " 'interestRate',\n",
       " 'installment',\n",
       " 'annualIncome',\n",
       " 'dti',\n",
       " 'revolBal',\n",
       " 'revolUtil',\n",
       " 'totalAcc',\n",
       " 'n6',\n",
       " 'n8']"
      ]
     },
     "execution_count": 23,
     "metadata": {},
     "output_type": "execute_result"
    }
   ],
   "source": [
    "anomaly_feas = [fea for fea in data_train.columns \n",
    "                if data_train[fea].nunique() > 100\n",
    "               and fea not in numerical_discrate_feas]\n",
    "anomaly_feas"
   ]
  },
  {
   "cell_type": "code",
   "execution_count": 24,
   "metadata": {},
   "outputs": [
    {
     "name": "stdout",
     "output_type": "stream",
     "text": [
      "正常值    799997\n",
      "Name: loanAmnt_outliers, dtype: int64\n",
      "loanAmnt_outliers\n",
      "正常值    159610\n",
      "Name: isDefault, dtype: int64\n",
      "**********\n",
      "\n",
      "正常值    794256\n",
      "异常值      5741\n",
      "Name: interestRate_outliers, dtype: int64\n",
      "interestRate_outliers\n",
      "异常值      2916\n",
      "正常值    156694\n",
      "Name: isDefault, dtype: int64\n",
      "**********\n",
      "\n",
      "正常值    792043\n",
      "异常值      7954\n",
      "Name: installment_outliers, dtype: int64\n",
      "installment_outliers\n",
      "异常值      2152\n",
      "正常值    157458\n",
      "Name: isDefault, dtype: int64\n",
      "**********\n",
      "\n",
      "正常值    793970\n",
      "异常值      6027\n",
      "Name: annualIncome_outliers, dtype: int64\n",
      "annualIncome_outliers\n",
      "异常值       756\n",
      "正常值    158854\n",
      "Name: isDefault, dtype: int64\n",
      "**********\n",
      "\n",
      "正常值    798439\n",
      "异常值      1558\n",
      "Name: dti_outliers, dtype: int64\n",
      "dti_outliers\n",
      "异常值       466\n",
      "正常值    159144\n",
      "Name: isDefault, dtype: int64\n",
      "**********\n",
      "\n",
      "正常值    789999\n",
      "异常值      9998\n",
      "Name: revolBal_outliers, dtype: int64\n",
      "revolBal_outliers\n",
      "异常值      1359\n",
      "正常值    158251\n",
      "Name: isDefault, dtype: int64\n",
      "**********\n",
      "\n",
      "正常值    799945\n",
      "异常值        52\n",
      "Name: revolUtil_outliers, dtype: int64\n",
      "revolUtil_outliers\n",
      "异常值        23\n",
      "正常值    159587\n",
      "Name: isDefault, dtype: int64\n",
      "**********\n",
      "\n",
      "正常值    791660\n",
      "异常值      8337\n",
      "Name: totalAcc_outliers, dtype: int64\n",
      "totalAcc_outliers\n",
      "异常值      1668\n",
      "正常值    157942\n",
      "Name: isDefault, dtype: int64\n",
      "**********\n",
      "\n",
      "正常值    786003\n",
      "异常值     13994\n",
      "Name: n6_outliers, dtype: int64\n",
      "n6_outliers\n",
      "异常值      3182\n",
      "正常值    156428\n",
      "Name: isDefault, dtype: int64\n",
      "**********\n",
      "\n",
      "正常值    789622\n",
      "异常值     10375\n",
      "Name: n8_outliers, dtype: int64\n",
      "n8_outliers\n",
      "异常值      2131\n",
      "正常值    157479\n",
      "Name: isDefault, dtype: int64\n",
      "**********\n",
      "\n"
     ]
    }
   ],
   "source": [
    "for fea in anomaly_feas:\n",
    "    data_train = find_outliers_by_3segama(data_train, fea)\n",
    "    print(data_train[fea+'_outliers'].value_counts())\n",
    "    print(data_train.groupby(fea+'_outliers')['isDefault'].sum())\n",
    "    print('*'*10 + \"\\n\")"
   ]
  },
  {
   "cell_type": "markdown",
   "metadata": {},
   "source": [
    "### 箱型图"
   ]
  },
  {
   "cell_type": "code",
   "execution_count": 25,
   "metadata": {
    "scrolled": false
   },
   "outputs": [
    {
     "data": {
      "image/png": "[encoded data removed]",
      "text/plain": [
       "<Figure size 864x2880 with 10 Axes>"
      ]
     },
     "metadata": {
      "needs_background": "light"
     },
     "output_type": "display_data"
    }
   ],
   "source": [
    "rows = len(anomaly_feas)\n",
    "fig, axes = plt.subplots(nrows=rows, ncols=1, figsize=(12, 4*rows))\n",
    "for i, fea in enumerate(anomaly_feas):\n",
    "#     axes[i].set_title(fea)\n",
    "    sns.boxplot(x=\"isDefault\", y=fea, data=data_train, ax=axes[i])"
   ]
  },
  {
   "cell_type": "markdown",
   "metadata": {},
   "source": [
    "### LOF"
   ]
  },
  {
   "cell_type": "code",
   "execution_count": 26,
   "metadata": {},
   "outputs": [],
   "source": [
    "from sklearn.neighbors import LocalOutlierFactor\n",
    "clf = LocalOutlierFactor(n_neighbors=2)\n",
    "yhat = clf.fit_predict(data_train[anomaly_feas])"
   ]
  },
  {
   "cell_type": "code",
   "execution_count": 27,
   "metadata": {
    "scrolled": true
   },
   "outputs": [
    {
     "data": {
      "text/plain": [
       "124699"
      ]
     },
     "execution_count": 27,
     "metadata": {},
     "output_type": "execute_result"
    }
   ],
   "source": [
    "sum(yhat == -1)"
   ]
  },
  {
   "cell_type": "markdown",
   "metadata": {},
   "source": [
    "### 处理\n",
    "\n",
    "结合 3sigma 和 LOF，取二者的并集删除样本。"
   ]
  },
  {
   "cell_type": "code",
   "execution_count": 28,
   "metadata": {},
   "outputs": [
    {
     "data": {
      "text/plain": [
       "((799997, 73), (799997,))"
      ]
     },
     "execution_count": 28,
     "metadata": {},
     "output_type": "execute_result"
    }
   ],
   "source": [
    "data_train.shape, yhat.shape"
   ]
  },
  {
   "cell_type": "code",
   "execution_count": 29,
   "metadata": {},
   "outputs": [],
   "source": [
    "# 根据 LOF 删除异常值\n",
    "lof_drop_index = []\n",
    "for idx, yi in enumerate(yhat):\n",
    "    if yi == -1:\n",
    "        lof_drop_index.append(idx)"
   ]
  },
  {
   "cell_type": "code",
   "execution_count": 30,
   "metadata": {},
   "outputs": [],
   "source": [
    "data_train = data_train.drop(lof_drop_index)"
   ]
  },
  {
   "cell_type": "code",
   "execution_count": 31,
   "metadata": {},
   "outputs": [
    {
     "data": {
      "text/plain": [
       "(675298, 73)"
      ]
     },
     "execution_count": 31,
     "metadata": {},
     "output_type": "execute_result"
    }
   ],
   "source": [
    "data_train.shape"
   ]
  },
  {
   "cell_type": "code",
   "execution_count": 32,
   "metadata": {},
   "outputs": [],
   "source": [
    "# 根据 3sigma 删除异常值\n",
    "for fea in anomaly_feas:\n",
    "    data_train = data_train[data_train[fea+'_outliers']=='正常值']"
   ]
  },
  {
   "cell_type": "code",
   "execution_count": 33,
   "metadata": {},
   "outputs": [],
   "source": [
    "data_train = data_train.reset_index(drop=True)"
   ]
  },
  {
   "cell_type": "code",
   "execution_count": 34,
   "metadata": {},
   "outputs": [
    {
     "data": {
      "text/plain": [
       "(631315, 73)"
      ]
     },
     "execution_count": 34,
     "metadata": {},
     "output_type": "execute_result"
    }
   ],
   "source": [
    "data_train.shape"
   ]
  },
  {
   "cell_type": "code",
   "execution_count": 35,
   "metadata": {},
   "outputs": [],
   "source": [
    "need_drop_outlier_cols = [fea for fea in \n",
    "                          data_train.columns if \"_outliers\" in fea]"
   ]
  },
  {
   "cell_type": "code",
   "execution_count": 36,
   "metadata": {},
   "outputs": [],
   "source": [
    "data_train = data_train.drop(columns=need_drop_outlier_cols)"
   ]
  },
  {
   "cell_type": "code",
   "execution_count": 37,
   "metadata": {},
   "outputs": [
    {
     "data": {
      "text/plain": [
       "(631315, 63)"
      ]
     },
     "execution_count": 37,
     "metadata": {},
     "output_type": "execute_result"
    }
   ],
   "source": [
    "data_train.shape"
   ]
  },
  {
   "cell_type": "markdown",
   "metadata": {},
   "source": [
    "## 数据分箱"
   ]
  },
  {
   "cell_type": "code",
   "execution_count": 38,
   "metadata": {},
   "outputs": [],
   "source": [
    "from optbinning import OptimalBinning"
   ]
  },
  {
   "cell_type": "code",
   "execution_count": 39,
   "metadata": {
    "scrolled": true
   },
   "outputs": [
    {
     "data": {
      "text/plain": [
       "['employmentTitle', 'postCode', 'regionCode', 'title']"
      ]
     },
     "execution_count": 39,
     "metadata": {},
     "output_type": "execute_result"
    }
   ],
   "source": [
    "need_buckets_discret_feas"
   ]
  },
  {
   "cell_type": "code",
   "execution_count": 40,
   "metadata": {},
   "outputs": [],
   "source": [
    "def categorical_binning(data: pd.DataFrame, fea: str, cat_cutoff: float):\n",
    "    optb = OptimalBinning(name=fea, dtype=\"categorical\", \n",
    "                      prebinning_method='quantile', \n",
    "                      solver=\"mip\", cat_cutoff=cat_cutoff)\n",
    "    optb.fit(data[fea], data[\"isDefault\"])\n",
    "    data[fea] = optb.transform(data[fea])\n",
    "    return data"
   ]
  },
  {
   "cell_type": "code",
   "execution_count": 101,
   "metadata": {},
   "outputs": [],
   "source": [
    "data_train = categorical_binning(data_train, \"employmentTitle\", 0.05)\n",
    "data_train = categorical_binning(data_train, \"postCode\", 0.01)\n",
    "data_train = categorical_binning(data_train, \"regionCode\", 0.1)\n",
    "data_train = categorical_binning(data_train, \"title\", 0.1)"
   ]
  },
  {
   "cell_type": "code",
   "execution_count": 42,
   "metadata": {},
   "outputs": [],
   "source": [
    "need_buckets_continous_feas = [\n",
    "    'loanAmnt', 'interestRate', 'installment', 'annualIncome', 'dti', 'revolBal', 'revolUtil',\n",
    "    'delinquency_2years', 'ficoRangeLow', 'ficoRangeHigh'\n",
    "]"
   ]
  },
  {
   "cell_type": "code",
   "execution_count": 43,
   "metadata": {},
   "outputs": [],
   "source": [
    "for fea in need_buckets_continous_feas:\n",
    "    optb = OptimalBinning(name=fea, dtype=\"numerical\", solver=\"cp\")\n",
    "    optb.fit(data_train[fea], data_train[\"isDefault\"])\n",
    "    data_train[fea] = optb.transform(data_train[fea])"
   ]
  },
  {
   "cell_type": "markdown",
   "metadata": {},
   "source": [
    "## 特征交互"
   ]
  },
  {
   "cell_type": "code",
   "execution_count": 49,
   "metadata": {},
   "outputs": [],
   "source": [
    "for col in ['grade', 'subGrade']: \n",
    "    temp_dict = data_train.groupby([col])['isDefault'].agg(['mean']).reset_index().rename(\n",
    "        columns={'mean': col + '_target_mean'})\n",
    "    temp_dict.index = temp_dict[col].values\n",
    "    temp_dict = temp_dict[col + '_target_mean'].to_dict()\n",
    "\n",
    "    data_train[col + '_target_mean'] = data_train[col].map(temp_dict)"
   ]
  },
  {
   "cell_type": "code",
   "execution_count": 51,
   "metadata": {},
   "outputs": [],
   "source": [
    "for item in ['n0','n1','n2','n2.1','n4','n5','n6','n7','n8','n9','n10','n11','n12','n13','n14']:\n",
    "    data_train['grade_to_mean_' + item] = \\\n",
    "        data_train['grade'] / data_train.groupby([item])['grade'].transform('mean')\n",
    "    data_train['grade_to_std_' + item] = \\\n",
    "        data_train['grade'] / data_train.groupby([item])['grade'].transform('std')"
   ]
  },
  {
   "cell_type": "markdown",
   "metadata": {},
   "source": [
    "## 特征筛选"
   ]
  },
  {
   "cell_type": "code",
   "execution_count": 160,
   "metadata": {},
   "outputs": [],
   "source": [
    "data_train = data_train.replace([np.inf, -np.inf], np.nan)\n",
    "data_train = data_train.dropna()"
   ]
  },
  {
   "cell_type": "code",
   "execution_count": 161,
   "metadata": {},
   "outputs": [],
   "source": [
    "need_filter = []\n",
    "donot_need_filter = []\n",
    "for fea in data_train.columns:\n",
    "    uiq = data_train[fea].nunique()\n",
    "    if uiq == 1 or fea == \"isDefault\":\n",
    "        continue\n",
    "    elif 1 < uiq <= 4:\n",
    "        donot_need_filter.append(fea)\n",
    "    else:\n",
    "        need_filter.append(fea)"
   ]
  },
  {
   "cell_type": "code",
   "execution_count": 162,
   "metadata": {},
   "outputs": [],
   "source": [
    "data_train_filter = data_train[need_filter]"
   ]
  },
  {
   "cell_type": "markdown",
   "metadata": {},
   "source": [
    "### 方差选择法"
   ]
  },
  {
   "cell_type": "code",
   "execution_count": 181,
   "metadata": {},
   "outputs": [],
   "source": [
    "from sklearn.feature_selection import VarianceThreshold"
   ]
  },
  {
   "cell_type": "code",
   "execution_count": null,
   "metadata": {},
   "outputs": [],
   "source": [
    "vt = VarianceThreshold(threshold=0.1)\n",
    "X = vt.fit_transform(data_train, data_train.isDefault)"
   ]
  },
  {
   "cell_type": "markdown",
   "metadata": {},
   "source": [
    "### 相关系数法"
   ]
  },
  {
   "cell_type": "code",
   "execution_count": 176,
   "metadata": {},
   "outputs": [],
   "source": [
    "from sklearn.feature_selection import SelectKBest\n",
    "from scipy.stats import pearsonr\n",
    "sk = SelectKBest(k=5)\n",
    "X = sk.fit_transform(data_train_filter, data_train.isDefault)"
   ]
  },
  {
   "cell_type": "code",
   "execution_count": 177,
   "metadata": {
    "scrolled": true
   },
   "outputs": [
    {
     "data": {
      "text/plain": [
       "(631294, 5)"
      ]
     },
     "execution_count": 177,
     "metadata": {},
     "output_type": "execute_result"
    }
   ],
   "source": [
    "X.shape"
   ]
  },
  {
   "cell_type": "markdown",
   "metadata": {},
   "source": [
    "### 卡方检验"
   ]
  },
  {
   "cell_type": "code",
   "execution_count": null,
   "metadata": {},
   "outputs": [],
   "source": [
    "from sklearn.feature_selection import SelectKBest\n",
    "from sklearn.feature_selection import chi2\n",
    "#参数k为选择的特征个数\n",
    "\n",
    "sk = SelectKBest(chi2, k=5)\n",
    "X = sk.fit_transform(data_train_filter, data_train.isDefault)"
   ]
  },
  {
   "cell_type": "markdown",
   "metadata": {},
   "source": [
    "### 互信息"
   ]
  },
  {
   "cell_type": "code",
   "execution_count": null,
   "metadata": {},
   "outputs": [],
   "source": [
    "from sklearn.feature_selection import SelectKBest\n",
    "from minepy import MINE\n",
    "\n",
    "def mic(x, y):\n",
    "    m = MINE()\n",
    "    m.compute_score(x, y)\n",
    "    return (m.mic(), 0.5)\n",
    "sk = SelectKBest(\n",
    "    lambda X, Y: array(map(lambda x:mic(x, Y), X.T)).T, k=2)\n",
    "X = sk.fit_transform(data_train_filter, \n",
    "                     data_train.isDefault)"
   ]
  },
  {
   "cell_type": "markdown",
   "metadata": {},
   "source": [
    "### RFE"
   ]
  },
  {
   "cell_type": "code",
   "execution_count": null,
   "metadata": {},
   "outputs": [],
   "source": [
    "from sklearn.feature_selection import RFE\n",
    "from sklearn.linear_model import LogisticRegression\n",
    "\n",
    "\n",
    "rfe = RFE(estimator=LogisticRegression(), \n",
    "          n_features_to_select=2)\n",
    "X = rfe.fit_transform(data_train_filter, data_train.isDefault)"
   ]
  },
  {
   "cell_type": "markdown",
   "metadata": {},
   "source": [
    "### 基于惩罚项"
   ]
  },
  {
   "cell_type": "code",
   "execution_count": null,
   "metadata": {},
   "outputs": [],
   "source": [
    "from sklearn.feature_selection import SelectFromModel\n",
    "from sklearn.linear_model import LogisticRegression\n",
    "\n",
    "sf = SelectFromModel(\n",
    "    LogisticRegression(penalty=\"l1\", C=0.1)\n",
    ")\n",
    "X = sf.fit_transform(data_train_filter, data_train.isDefault)"
   ]
  },
  {
   "cell_type": "markdown",
   "metadata": {},
   "source": [
    "### 基于树模型"
   ]
  },
  {
   "cell_type": "code",
   "execution_count": null,
   "metadata": {},
   "outputs": [],
   "source": [
    "from sklearn.feature_selection import SelectFromModel\n",
    "from sklearn.ensemble import GradientBoostingClassifier\n",
    "\n",
    "sf = SelectFromModel(\n",
    "    GradientBoostingClassifier())\n",
    "X = sf.fit_transform(data_train_filter, data_train.isDefault)"
   ]
  },
  {
   "cell_type": "code",
   "execution_count": null,
   "metadata": {},
   "outputs": [],
   "source": []
  },
  {
   "cell_type": "code",
   "execution_count": null,
   "metadata": {},
   "outputs": [],
   "source": []
  }
 ],
 "metadata": {
  "kernelspec": {
   "display_name": "Python 3",
   "language": "python",
   "name": "python3"
  },
  "language_info": {
   "codemirror_mode": {
    "name": "ipython",
    "version": 3
   },
   "file_extension": ".py",
   "mimetype": "text/x-python",
   "name": "python",
   "nbconvert_exporter": "python",
   "pygments_lexer": "ipython3",
   "version": "3.7.4"
  },
  "latex_envs": {
   "LaTeX_envs_menu_present": true,
   "autoclose": false,
   "autocomplete": true,
   "bibliofile": "biblio.bib",
   "cite_by": "apalike",
   "current_citInitial": 1,
   "eqLabelWithNumbers": true,
   "eqNumInitial": 1,
   "hotkeys": {
    "equation": "Ctrl-E",
    "itemize": "Ctrl-I"
   },
   "labels_anchors": false,
   "latex_user_defs": false,
   "report_style_numbering": false,
   "user_envs_cfg": false
  },
  "toc": {
   "base_numbering": 1,
   "nav_menu": {},
   "number_sections": true,
   "sideBar": true,
   "skip_h1_title": false,
   "title_cell": "Table of Contents",
   "title_sidebar": "Contents",
   "toc_cell": false,
   "toc_position": {},
   "toc_section_display": true,
   "toc_window_display": true
  }
 },
 "nbformat": 4,
 "nbformat_minor": 2
}
