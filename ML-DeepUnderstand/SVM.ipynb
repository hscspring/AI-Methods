{
 "cells": [
  {
   "cell_type": "code",
   "execution_count": 1,
   "metadata": {},
   "outputs": [
    {
     "name": "stdout",
     "output_type": "stream",
     "text": [
      "2020-09-11T08:10:12+08:00\n",
      "\n",
      "CPython 3.7.4\n",
      "IPython 7.4.0\n",
      "\n",
      "compiler   : Clang 11.0.0 (clang-1100.0.33.8)\n",
      "system     : Darwin\n",
      "release    : 18.7.0\n",
      "machine    : x86_64\n",
      "processor  : i386\n",
      "CPU cores  : 4\n",
      "interpreter: 64bit\n"
     ]
    }
   ],
   "source": [
    "%load_ext watermark\n",
    "%watermark"
   ]
  },
  {
   "cell_type": "code",
   "execution_count": 2,
   "metadata": {},
   "outputs": [],
   "source": [
    "from sklearn.datasets import make_moons, make_circles, make_classification\n",
    "from sklearn.model_selection import train_test_split\n",
    "import numpy as np\n",
    "from matplotlib import pyplot as plt"
   ]
  },
  {
   "cell_type": "code",
   "execution_count": 3,
   "metadata": {},
   "outputs": [],
   "source": [
    "X, y = make_moons(n_samples=100, shuffle=True, noise=0.1, random_state=42)\n",
    "# X, y = make_circles(shuffle=True, factor=0.5)\n",
    "y = np.array([1 if i == 1 else -1 for i in y])"
   ]
  },
  {
   "cell_type": "code",
   "execution_count": 4,
   "metadata": {},
   "outputs": [
    {
     "data": {
      "text/plain": [
       "((70, 2), (70,))"
      ]
     },
     "execution_count": 4,
     "metadata": {},
     "output_type": "execute_result"
    }
   ],
   "source": [
    "X_train, X_test, y_train, y_test = train_test_split(X, y, test_size=0.3)\n",
    "X_train.shape, y_train.shape"
   ]
  },
  {
   "cell_type": "code",
   "execution_count": 5,
   "metadata": {
    "scrolled": true
   },
   "outputs": [
    {
     "data": {
      "image/png": "[encoded data removed]",
      "text/plain": [
       "<Figure size 576x288 with 1 Axes>"
      ]
     },
     "metadata": {
      "needs_background": "light"
     },
     "output_type": "display_data"
    }
   ],
   "source": [
    "fig, ax = plt.subplots(nrows=1, ncols=1, figsize=(8, 4))\n",
    "ax.scatter(X_train[:, 0], X_train[:, 1], c=y_train,  edgecolors='k');"
   ]
  },
  {
   "cell_type": "code",
   "execution_count": 6,
   "metadata": {},
   "outputs": [],
   "source": [
    "class SVM:\n",
    "    \n",
    "    def __init__(self, \n",
    "                 C: int = 1,\n",
    "                 kernel: str = 'rbf', \n",
    "                 sigma: float = 0.1,\n",
    "                 digree: int = 3,\n",
    "                 epsion: float = 0.001,\n",
    "                 max_iter: int = 100):\n",
    "        self.C = C\n",
    "        self.kernel = self.choose_kernel(kernel)\n",
    "        self.sigma = sigma\n",
    "        self.digree = digree\n",
    "        self.epsion = epsion\n",
    "        self.max_iter = max_iter\n",
    "    \n",
    "    def choose_kernel(self, kernel: str):\n",
    "        if kernel == \"linear\":\n",
    "            return self.linear_kernel\n",
    "        elif kernel == \"rbf\":\n",
    "            return self.rbf_kernel\n",
    "        elif kernel == \"poly\":\n",
    "            return self.poly_kernel\n",
    "        else:\n",
    "            raise NotImplemented\n",
    "    \n",
    "    def linear_kernel(self, xi: np.array, xj: np.array):\n",
    "        return xi.dot(xj)\n",
    "    \n",
    "    def poly_kernel(self, xi: np.array, xj: np.array):\n",
    "        return (xi.dot(xj) + 1) ** self.digree\n",
    "    \n",
    "    def rbf_kernel(self, xi: np.array, xj: np.array):\n",
    "        return np.exp(-np.linalg.norm(xi - xj, ord=2)/(2 * self.sigma ** 2))\n",
    "    \n",
    "    def gx(self, i: int):\n",
    "        return sum(\n",
    "            [self.alpha[j] * self.y[j] * self.kernel(self.X[j], self.X[i]) for j in range(self.n)]\n",
    "        ) + self.b\n",
    "    \n",
    "    def error(self, i: int):\n",
    "        return self.gx(i) - self.y[i]\n",
    "    \n",
    "    def satisfy_kkt(self, i: int):\n",
    "        alpha = self.alpha[i]\n",
    "        ygx = self.y[i] * self.gx(i)\n",
    "#         if np.abs(alpha - 0) < self.epsion:\n",
    "        if alpha == 0:\n",
    "            return ygx >= 1\n",
    "#         elif np.abs(alpha - self.C) < self.epsion:\n",
    "        elif alpha == self.C:\n",
    "            return ygx <= 1\n",
    "#         elif -self.epsion < alpha < self.C + self.epsion:\n",
    "        elif 0 < alpha < self.C:\n",
    "            return np.abs(ygx - 1) < self.epsion\n",
    "        return False\n",
    "    \n",
    "    def init_args(self, features: np.array, labels: np.array):\n",
    "        self.X = features\n",
    "        self.y = labels\n",
    "        self.n, self.dim = features.shape\n",
    "        self.b = 0.0\n",
    "        self.alpha = np.zeros(self.n)\n",
    "        self.E = [self.error(i) for i in range(self.n)]\n",
    "        self.svi = []\n",
    "        self.cannot = []\n",
    "    \n",
    "    def init_alpha1(self):\n",
    "        bound_points = [i for i in range(self.n) if 0 < self.alpha[i] < self.C]\n",
    "        other_points = [i for i in range(self.n) if i not in bound_points]\n",
    "        for i in bound_points + other_points:\n",
    "            if i in self.svi:\n",
    "                continue\n",
    "            if i in self.cannot:\n",
    "                continue\n",
    "            if self.satisfy_kkt(i):\n",
    "                continue\n",
    "            return i\n",
    "    \n",
    "    def clip(self, alpha: float, low: float, high: float):\n",
    "        if alpha < low:\n",
    "            return low\n",
    "        elif alpha > high:\n",
    "            return high\n",
    "        return alpha\n",
    "    \n",
    "    def fit(self, X, y):\n",
    "        self.init_args(X, y)\n",
    "        it = 0\n",
    "        \n",
    "        while it < self.max_iter:\n",
    "            it += 1\n",
    "            \n",
    "            i1 = self.init_alpha1()\n",
    "            if i1 == None:\n",
    "                break\n",
    "            E1 = self.error(i1)\n",
    "            if E1 > 0:\n",
    "                with_out_svi = min([e for i,e in enumerate(self.E) if i not in self.svi])\n",
    "#                 with_out_svi = min(self.E)\n",
    "            else:\n",
    "                with_out_svi = max([e for i,e in enumerate(self.E) if i not in self.svi])\n",
    "#                 with_out_svi = max(self.E)\n",
    "            i2 = self.E.index(with_out_svi)\n",
    "            \n",
    "            chosen = [i1, i2]\n",
    "            bound_points = [i for i in range(self.n) if 0 < self.alpha[i] < self.C and i not in chosen]\n",
    "            bound_points = chosen + bound_points\n",
    "            other_points = [i for i in range(self.n) if i not in bound_points]\n",
    "            for i2 in bound_points + other_points:\n",
    "                if i2 == i1:\n",
    "                    continue\n",
    "                if i2 in self.svi:\n",
    "                    continue\n",
    "            \n",
    "                if self.y[i1] == self.y[i2]:\n",
    "                    L = max(0, self.alpha[i1] + self.alpha[i2] - self.C)\n",
    "                    H = min(self.C, self.alpha[i1] + self.alpha[i2])\n",
    "                else:\n",
    "                    L = max(0, self.alpha[i2] - self.alpha[i1])\n",
    "                    H = min(self.C, self.C + self.alpha[i2] - self.alpha[i1])\n",
    "\n",
    "                E1 = self.E[i1]\n",
    "                E2 = self.E[i2]\n",
    "                err = E1 - E2\n",
    "                K11 = self.kernel(self.X[i1], self.X[i1])\n",
    "                K22 = self.kernel(self.X[i2], self.X[i2])\n",
    "                K12 = self.kernel(self.X[i1], self.X[i2])\n",
    "                eta = K11 + K22 - 2*K12\n",
    "                alpha2_new_unclipped = self.alpha[i2] + self.y[i2] * err / eta\n",
    "                alpha2_new = self.clip(alpha2_new_unclipped, L, H)\n",
    "\n",
    "                alpha1_new = self.alpha[i1] + self.y[i1] * self.y[i2] * (\n",
    "                    self.alpha[i2] - alpha2_new)\n",
    "\n",
    "                b1_new = (-E1 \n",
    "                          - self.y[i1]*K11*(alpha1_new - self.alpha[i1])\n",
    "                          - self.y[i2]*K12*(alpha2_new - self.alpha[i2])\n",
    "                          + self.b)\n",
    "                b2_new = (-E2 \n",
    "                          - self.y[i1]*K12*(alpha1_new - self.alpha[i1])\n",
    "                          - self.y[i2]*K22*(alpha2_new - self.alpha[i2])\n",
    "                          + self.b)\n",
    "\n",
    "                if 0 < alpha1_new < self.C and 0 < alpha2_new < self.C:\n",
    "                    b_new = b1_new\n",
    "                else:\n",
    "                    b_new = (b1_new + b2_new) / 2\n",
    "\n",
    "                if np.abs(alpha2_new - self.alpha[i2]) > self.epsion:\n",
    "                    self.svi.append(i1)\n",
    "                    self.svi.append(i2)\n",
    "                    self.b = b_new\n",
    "                    self.alpha[i1] = alpha1_new\n",
    "                    self.alpha[i2] = alpha2_new\n",
    "                    self.E[i1] = self.error(i1)\n",
    "                    self.E[i2] = self.error(i2)\n",
    "                    break\n",
    "            if i1 not in self.svi:\n",
    "                self.cannot.append(i1)\n",
    "        \n",
    "        print(self.alpha)\n",
    "        print(self.svi)\n",
    "        print(self.cannot)\n",
    "#         for i in range(self.n):\n",
    "#             satis = self.satisfy_kkt(i)\n",
    "#             print(i, satis)\n",
    "        \n",
    "\n",
    "    def predict_single(self, x):\n",
    "        res = sum(\n",
    "            [self.alpha[j] * self.y[j] * self.kernel(self.X[j], x) for j in self.svi]\n",
    "        ) + self.b\n",
    "        return np.sign(res)\n",
    "    \n",
    "    def predict(self, X):\n",
    "        res = []\n",
    "        for i in range(len(X)):\n",
    "            pred = self.predict_single(X[i])\n",
    "            res.append(pred)\n",
    "        return np.array(res)\n",
    "    \n",
    "    def score(self, X, y):\n",
    "        preds = self.predict(X)\n",
    "        return sum(preds == y) / len(y)"
   ]
  },
  {
   "cell_type": "code",
   "execution_count": 7,
   "metadata": {},
   "outputs": [],
   "source": [
    "svm = SVM()"
   ]
  },
  {
   "cell_type": "code",
   "execution_count": 8,
   "metadata": {
    "scrolled": false
   },
   "outputs": [
    {
     "name": "stdout",
     "output_type": "stream",
     "text": [
      "[1. 1. 1. 1. 1. 1. 1. 1. 1. 1. 1. 1. 1. 1. 1. 1. 1. 1. 1. 1. 1. 1. 1. 1.\n",
      " 1. 1. 1. 1. 1. 1. 1. 1. 1. 1. 1. 1. 1. 1. 1. 1. 1. 1. 1. 1. 1. 1. 1. 1.\n",
      " 1. 1. 1. 1. 1. 1. 1. 1. 1. 1. 1. 1. 1. 0. 0. 0. 1. 1. 0. 0. 0. 1.]\n",
      "[0, 2, 1, 3, 4, 5, 6, 10, 7, 11, 8, 12, 9, 15, 13, 17, 14, 20, 16, 21, 18, 22, 19, 23, 24, 25, 26, 27, 28, 30, 29, 33, 31, 34, 32, 35, 36, 37, 38, 39, 40, 41, 42, 44, 43, 46, 45, 47, 48, 50, 49, 52, 51, 56, 53, 58, 54, 60, 55, 64, 57, 65, 59, 69]\n",
      "[61, 62, 63, 66, 67, 68]\n"
     ]
    }
   ],
   "source": [
    "svm.fit(X_train, y_train)"
   ]
  },
  {
   "cell_type": "code",
   "execution_count": 9,
   "metadata": {
    "scrolled": true
   },
   "outputs": [
    {
     "data": {
      "text/plain": [
       "1.0"
      ]
     },
     "execution_count": 9,
     "metadata": {},
     "output_type": "execute_result"
    }
   ],
   "source": [
    "svm.score(X_test, y_test)"
   ]
  },
  {
   "cell_type": "code",
   "execution_count": null,
   "metadata": {},
   "outputs": [],
   "source": []
  }
 ],
 "metadata": {
  "kernelspec": {
   "display_name": "Python 3",
   "language": "python",
   "name": "python3"
  },
  "language_info": {
   "codemirror_mode": {
    "name": "ipython",
    "version": 3
   },
   "file_extension": ".py",
   "mimetype": "text/x-python",
   "name": "python",
   "nbconvert_exporter": "python",
   "pygments_lexer": "ipython3",
   "version": "3.7.4"
  },
  "latex_envs": {
   "LaTeX_envs_menu_present": true,
   "autoclose": false,
   "autocomplete": true,
   "bibliofile": "biblio.bib",
   "cite_by": "apalike",
   "current_citInitial": 1,
   "eqLabelWithNumbers": true,
   "eqNumInitial": 1,
   "hotkeys": {
    "equation": "Ctrl-E",
    "itemize": "Ctrl-I"
   },
   "labels_anchors": false,
   "latex_user_defs": false,
   "report_style_numbering": false,
   "user_envs_cfg": false
  },
  "toc": {
   "base_numbering": 1,
   "nav_menu": {},
   "number_sections": true,
   "sideBar": true,
   "skip_h1_title": false,
   "title_cell": "Table of Contents",
   "title_sidebar": "Contents",
   "toc_cell": false,
   "toc_position": {},
   "toc_section_display": true,
   "toc_window_display": false
  }
 },
 "nbformat": 4,
 "nbformat_minor": 2
}
