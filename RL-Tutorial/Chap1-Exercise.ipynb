{
 "cells": [
  {
   "cell_type": "markdown",
   "metadata": {
    "toc": "true"
   },
   "source": [
    "# Table of Contents\n",
    " <p><div class=\"lev1 toc-item\"><a href=\"#greedy\" data-toc-modified-id=\"greedy-1\"><span class=\"toc-item-num\">1&nbsp;&nbsp;</span>greedy</a></div><div class=\"lev1 toc-item\"><a href=\"#epson-greedy\" data-toc-modified-id=\"epson-greedy-2\"><span class=\"toc-item-num\">2&nbsp;&nbsp;</span>epson-greedy</a></div><div class=\"lev1 toc-item\"><a href=\"#optimistic-exploration-greedy\" data-toc-modified-id=\"optimistic-exploration-greedy-3\"><span class=\"toc-item-num\">3&nbsp;&nbsp;</span>optimistic exploration greedy</a></div><div class=\"lev1 toc-item\"><a href=\"#upper-confidence-bound\" data-toc-modified-id=\"upper-confidence-bound-4\"><span class=\"toc-item-num\">4&nbsp;&nbsp;</span>upper-confidence bound</a></div><div class=\"lev1 toc-item\"><a href=\"#gradient\" data-toc-modified-id=\"gradient-5\"><span class=\"toc-item-num\">5&nbsp;&nbsp;</span>gradient</a></div><div class=\"lev1 toc-item\"><a href=\"#All-Together\" data-toc-modified-id=\"All-Together-6\"><span class=\"toc-item-num\">6&nbsp;&nbsp;</span>All Together</a></div>"
   ]
  },
  {
   "cell_type": "code",
   "execution_count": 667,
   "metadata": {},
   "outputs": [],
   "source": [
    "import tensorflow as tf\n",
    "import numpy as np\n",
    "import random\n",
    "import matplotlib.pyplot as plt\n",
    "%matplotlib inline"
   ]
  },
  {
   "cell_type": "code",
   "execution_count": 253,
   "metadata": {},
   "outputs": [],
   "source": [
    "# 假设老虎机标准差为 1/2 倍均值\n",
    "# 假设所获得的奖励符合高斯分布\n",
    "BANDITS = [0.10, -0.20, 1.0, -5.0, 5.0, -20.0, 10.0, 3.0, -2.0, -1.0]\n",
    "def bandit_reward(bandit):\n",
    "    # 所有 bandits 的期望\n",
    "    mu = BANDITS[bandit]\n",
    "    sigma = np.abs(mu)/2.0\n",
    "    return np.random.normal(mu, sigma, 10)"
   ]
  },
  {
   "cell_type": "code",
   "execution_count": 254,
   "metadata": {},
   "outputs": [],
   "source": [
    "# 每次拉老虎机，随机从奖励结果中取一个\n",
    "def pull_bandit(bandit):\n",
    "    banditreward = bandit_reward(bandit)\n",
    "    choose = np.random.randint(0,len(BANDITS)-1)\n",
    "    return banditreward[choose]"
   ]
  },
  {
   "cell_type": "code",
   "execution_count": 255,
   "metadata": {},
   "outputs": [
    {
     "name": "stdout",
     "output_type": "stream",
     "text": [
      "Actual reward: 0.1; Estimated reward: 0.09796116798626889\n",
      "Actual reward: -0.2; Estimated reward: -0.20212861914465624\n",
      "Actual reward: 1.0; Estimated reward: 1.0073434318381687\n",
      "Actual reward: -5.0; Estimated reward: -4.944275196351961\n",
      "Actual reward: 5.0; Estimated reward: 5.044439253974279\n",
      "Actual reward: -20.0; Estimated reward: -19.83753643354374\n",
      "Actual reward: 10.0; Estimated reward: 9.93844320243506\n",
      "Actual reward: 3.0; Estimated reward: 2.9231116309948253\n",
      "Actual reward: -2.0; Estimated reward: -2.016187174943\n",
      "Actual reward: -1.0; Estimated reward: -0.9936313263386887\n"
     ]
    }
   ],
   "source": [
    "# 验证一下, 可以发现基本能够达到期望值\n",
    "for i, rew in enumerate(BANDITS):\n",
    "    result = []\n",
    "    # 重复 1000 次\n",
    "    for j in range(1000):\n",
    "        result.append(pull_bandit(i))\n",
    "    print(\"Actual reward: %s; Estimated reward: %s\" % (rew, np.average(result)))"
   ]
  },
  {
   "cell_type": "markdown",
   "metadata": {},
   "source": [
    "# greedy"
   ]
  },
  {
   "cell_type": "code",
   "execution_count": 287,
   "metadata": {
    "scrolled": true
   },
   "outputs": [
    {
     "name": "stdout",
     "output_type": "stream",
     "text": [
      "获得的总收益：8047，你选择的老虎机期望收益：5.0...\n",
      "\n",
      "你估计的 Q_table: [0.1, -0.3, 1.0, -4.0, 8.3, -16.0, 8.2, 3.7, -1.9, -0.2], 你选择额的最大 Q: 8.3, 5 号老虎机。\n",
      "实际中的 Q_table: [0.1, -0.2, 1.0, -5.0, 5.0, -20.0, 10.0, 3.0, -2.0, -1.0]\n",
      "\n",
      "You haven't chosen the best bandit....\n"
     ]
    }
   ],
   "source": [
    "# 贪心算法\n",
    "\n",
    "total_reward = 0\n",
    "try_reward = []\n",
    "trial = 3\n",
    "ite = 0\n",
    "total_iter = 1000\n",
    "while ite < total_iter:\n",
    "    # 各 三次 实验求平均，然后以贪心算法选择最大的 Q\n",
    "    if ite < trial * len(BANDITS):\n",
    "        for i in range(len(BANDITS)):\n",
    "            ite += 1\n",
    "            reward = round(pull_bandit(i),1)\n",
    "            try_reward.append(reward)\n",
    "            total_reward += reward\n",
    "    else:\n",
    "        Q_table = np.average(np.array(try_reward).reshape(trial, len(BANDITS)), axis=0)\n",
    "        # 保留两位小数\n",
    "        Q_table = list(np.around(Q_table, decimals=1))\n",
    "        Q = max(Q_table)\n",
    "        index = Q_table.index(Q)\n",
    "        ite += 1\n",
    "        total_reward += Q\n",
    "\n",
    "assert sum(try_reward) + Q*(total_iter - trial * len(BANDITS)) - total_reward < 1.0\n",
    "print(\"获得的总收益：%d，你选择的老虎机期望收益：%s...\\n\" % (total_reward, BANDITS[index]))\n",
    "print(\"你估计的 Q_table: %s, 你选择额的最大 Q: %s, %s 号老虎机。\" % (Q_table, Q, index+1))\n",
    "print(\"实际中的 Q_table: %s\\n\" % BANDITS)\n",
    "if index == BANDITS.index(max(BANDITS)):\n",
    "    print(\"You have chosen the best bandit!\")\n",
    "else:\n",
    "    print(\"You haven't chosen the best bandit....\")"
   ]
  },
  {
   "cell_type": "markdown",
   "metadata": {},
   "source": [
    "贪心算法小结：  \n",
    "\n",
    "注意这个结果是和 bandits 的期望以及标准差相关的。  \n",
    "\n",
    "- BANDITS 期望一定时：如果标准差很小，那么选择基本会限定在最高的几个老虎机上，如果标准差非常大，则有可能选择到其他的老虎机。\n",
    "- BANDITS 标准差一定时：期望相差越大，越容易选到最高的几个老虎机上，期望相差越小，则可能选到其他老虎机。"
   ]
  },
  {
   "cell_type": "markdown",
   "metadata": {},
   "source": [
    "# epson-greedy"
   ]
  },
  {
   "cell_type": "code",
   "execution_count": 674,
   "metadata": {
    "scrolled": false
   },
   "outputs": [],
   "source": [
    "# epson-贪心算法1：上来就探索\n",
    "\n",
    "def epson_greedy(epson):\n",
    "    total_reward = 0\n",
    "    is_best = 0\n",
    "    epson_num = 0\n",
    "    try_reward = []\n",
    "    ite = 0\n",
    "    total_iter = 1000\n",
    "    Q_table = [0] * len(BANDITS)\n",
    "    while ite < total_iter:\n",
    "        if random.random() < epson:\n",
    "            ite += 1\n",
    "            epson_num += 1\n",
    "            choose = np.random.randint(0,len(BANDITS))\n",
    "            rew = pull_bandit(choose)\n",
    "            total_reward += rew\n",
    "            # 更新的值保留两位小数，方便看结果\n",
    "            Q_table[choose] = round(rew, 2)\n",
    "            Q = max(Q_table)\n",
    "            index = Q_table.index(Q)\n",
    "        # 保留两位小数\n",
    "        else:\n",
    "            ite += 1\n",
    "            Q = max(Q_table)\n",
    "            index = Q_table.index(Q)\n",
    "            total_reward += Q        \n",
    "\n",
    "    print(\"共探索了 %s 次.\" % epson_num)\n",
    "    print(\"获得的总收益：%d，你选择的老虎机期望收益：%s...\\n\" % (total_reward, BANDITS[index]))\n",
    "    print(\"你估计的 Q_table: %s, 你选择额的最大 Q: %s, %s 号老虎机。\" % (Q_table, Q, index+1))\n",
    "    print(\"实际中的 Q_table: %s\\n\" % BANDITS)\n",
    "    if index == BANDITS.index(max(BANDITS)):\n",
    "        print(\"You have chosen the best bandit!\")\n",
    "        is_best = 1\n",
    "    else:\n",
    "        print(\"You haven't chosen the best bandit....\")\n",
    "        is_best = 0\n",
    "        \n",
    "    return total_reward, is_best"
   ]
  },
  {
   "cell_type": "code",
   "execution_count": 675,
   "metadata": {
    "scrolled": true
   },
   "outputs": [
    {
     "name": "stdout",
     "output_type": "stream",
     "text": [
      "共探索了 96 次.\n",
      "获得的总收益：9815，你选择的老虎机期望收益：10.0...\n",
      "\n",
      "你估计的 Q_table: [0.11, -0.17, 1.13, -7.44, 5.52, -39.23, 18.85, 3.26, -2.3, -1.1], 你选择额的最大 Q: 18.85, 7 号老虎机。\n",
      "实际中的 Q_table: [0.1, -0.2, 1.0, -5.0, 5.0, -20.0, 10.0, 3.0, -2.0, -1.0]\n",
      "\n",
      "You have chosen the best bandit!\n"
     ]
    },
    {
     "data": {
      "text/plain": [
       "(9815.84295988971, 1)"
      ]
     },
     "execution_count": 675,
     "metadata": {},
     "output_type": "execute_result"
    }
   ],
   "source": [
    "# epson = 0.1，10% 的概率在探索新的老虎机\n",
    "epson_greedy(0.1)"
   ]
  },
  {
   "cell_type": "code",
   "execution_count": 735,
   "metadata": {},
   "outputs": [],
   "source": [
    "# epson-贪心算法2：先确定一个 Q table 再探索，结合了贪心算法\n",
    "\n",
    "def epson_greedy2(epson):\n",
    "    total_reward = 0\n",
    "    is_best = 0\n",
    "    epson_num = 0\n",
    "    try_reward = []\n",
    "    trial = 3\n",
    "    ite = 0\n",
    "    total_iter = 1000\n",
    "    Q_table = [0] * len(BANDITS)\n",
    "    while ite < total_iter:\n",
    "        \n",
    "        # 先三次实验确定 Q_table，再探索\n",
    "        if ite < trial * len(BANDITS):\n",
    "            for i in range(len(BANDITS)):\n",
    "                ite += 1\n",
    "                reward = round(pull_bandit(i),1)\n",
    "                try_reward.append(reward)\n",
    "                total_reward += reward\n",
    "        \n",
    "        else:\n",
    "            Q_table = np.average(np.array(try_reward).reshape(trial, len(BANDITS)), axis=0)\n",
    "            Q_table = list(np.around(Q_table, decimals=1))\n",
    "            # epson 概率选择下一个要拉的老虎机，1-epson 选目前奖励最高的 \n",
    "            # 如果是非静态的 bandit，可以把 Q_table 中每台 bandit 的 reward 存成 list，然后\n",
    "            # 用 Q_{n+1} = \\sum_{i=1}^n \\alpha (1-\\alpha)^{n-i} R_i + (1-\\alpha)^{n} Q_1 计算即可\n",
    "            # alpha 为超参数，R_i 为存储的所有 Reward，Q1 为第一次的 Reward\n",
    "            if random.random() < epson:\n",
    "                epson_num += 1\n",
    "                choose = np.random.randint(0,len(BANDITS))\n",
    "                rew = pull_bandit(choose)\n",
    "                total_reward += rew\n",
    "                # 更新的值保留两位小数，方便看结果\n",
    "                Q_table[choose] = round(rew, 2)\n",
    "            else:\n",
    "                ite += 1\n",
    "                Q = max(Q_table)\n",
    "                index = Q_table.index(Q)\n",
    "                total_reward += Q\n",
    "\n",
    "    print(\"共探索了 %s 次.\" % epson_num)\n",
    "    print(\"获得的总收益：%d，你选择的老虎机期望收益：%s...\\n\" % (total_reward, BANDITS[index]))\n",
    "    # 如果你选的 Q（两位小数）没有在 Q_table，说明最后一次的 Q_table 是 Q_table_new，最大的 Q 是探索出来的\n",
    "    # 实际中不需要 新建一个 Qtable，这里为了看起来更加直观\n",
    "    print(\"你估计的 Q_table: %s, 你选择额的最大 Q: %s, %s 号老虎机。\" % (Q_table, Q, index+1))\n",
    "    print(\"实际中的 Q_table: %s\\n\" % BANDITS)\n",
    "    if index == BANDITS.index(max(BANDITS)):\n",
    "        print(\"You have chosen the best bandit!\")\n",
    "        is_best = 1\n",
    "    else:\n",
    "        print(\"You haven't chosen the best bandit....\")\n",
    "        is_best = 0\n",
    "    return total_reward, is_best"
   ]
  },
  {
   "cell_type": "code",
   "execution_count": 737,
   "metadata": {},
   "outputs": [
    {
     "name": "stdout",
     "output_type": "stream",
     "text": [
      "共探索了 99 次.\n",
      "获得的总收益：14300，你选择的老虎机期望收益：10.0...\n",
      "\n",
      "你估计的 Q_table: [0.1, -0.2, 1.0, -3.8, 3.0, -20.0, 14.9, 4.9, -2.6, -0.9], 你选择额的最大 Q: 14.9, 7 号老虎机。\n",
      "实际中的 Q_table: [0.1, -0.2, 1.0, -5.0, 5.0, -20.0, 10.0, 3.0, -2.0, -1.0]\n",
      "\n",
      "You have chosen the best bandit!\n"
     ]
    },
    {
     "data": {
      "text/plain": [
       "(14300.636224221827, 1)"
      ]
     },
     "execution_count": 737,
     "metadata": {},
     "output_type": "execute_result"
    }
   ],
   "source": [
    "# epson = 0.1，10% 的概率在探索新的老虎机\n",
    "epson_greedy2(0.1)"
   ]
  },
  {
   "cell_type": "markdown",
   "metadata": {},
   "source": [
    "epson-贪心小结：  \n",
    "\n",
    "- 获得最高的收益时，不一定就是选择了期望收益最大的老虎机。相反也是。当然大部分的情况下，最高的收益对应的是选择了期望最大的老虎机。\n",
    "- 对 BANDITS 值没有那么敏感。"
   ]
  },
  {
   "cell_type": "markdown",
   "metadata": {},
   "source": [
    "# optimistic exploration greedy"
   ]
  },
  {
   "cell_type": "code",
   "execution_count": 596,
   "metadata": {},
   "outputs": [],
   "source": [
    "# optimistic exploration：直到 “失望” 前，一直探索，然后贪心\n",
    "\n",
    "def opt_greedy(init_q):\n",
    "    total_reward = 0\n",
    "    is_best = 0\n",
    "    epson_num = 0\n",
    "    try_reward = []\n",
    "    trial_num = 0\n",
    "    ite = 0\n",
    "    total_iter = 1000\n",
    "    Q_table = [init_q] * len(BANDITS)\n",
    "    indexes = range(0, len(BANDITS))\n",
    "    while ite < total_iter: \n",
    "        # 当 最大值 是初始乐观值时，一直保持探索（不死心……）\n",
    "        if max(Q_table) == init_q:\n",
    "            trial_num += 1\n",
    "            ite += 1\n",
    "            choose = indexes[np.random.randint(0, len(indexes))]\n",
    "            reward = round(pull_bandit(choose), 1)\n",
    "            total_reward += reward\n",
    "            \n",
    "            # 更新 Q table\n",
    "            Q_table[choose] = round((Q_table[choose] + reward)/2, 1)\n",
    "            # 更新 indexes\n",
    "            indexes = [i for i in range(len(Q_table)) if Q_table[i]==init_q]\n",
    "            \n",
    "        else:\n",
    "            ite += 1\n",
    "            choose = Q_table.index(max(Q_table))\n",
    "            reward = round(pull_bandit(choose), 1)\n",
    "            total_reward += reward\n",
    "            \n",
    "    print(\"尝试次数：%s\" % trial_num)\n",
    "    print(\"获得的总收益：%d，你选择的老虎机期望收益：%s...\\n\" % (total_reward, BANDITS[choose]))\n",
    "    print(\"你估计的 Q_table: %s, 你选择额的最大 Q: %s, %s 号老虎机。\" % (Q_table, max(Q_table), choose+1))\n",
    "    print(\"实际中的 Q_table: %s\\n\" % BANDITS)\n",
    "    if choose == BANDITS.index(max(BANDITS)):\n",
    "        print(\"You have chosen the best bandit!\")\n",
    "        is_best = 1\n",
    "    else:\n",
    "        print(\"You haven't chosen the best bandit....\")\n",
    "        is_best = 0\n",
    "        \n",
    "    return total_reward, is_best"
   ]
  },
  {
   "cell_type": "code",
   "execution_count": 597,
   "metadata": {
    "scrolled": true
   },
   "outputs": [
    {
     "name": "stdout",
     "output_type": "stream",
     "text": [
      "尝试次数：10\n",
      "获得的总收益：10080，你选择的老虎机期望收益：10.0...\n",
      "\n",
      "你估计的 Q_table: [5.0, 5.0, 5.5, 0.8, 6.3, -7.4, 13.0, 5.2, 3.4, 4.8], 你选择额的最大 Q: 13.0, 7 号老虎机。\n",
      "实际中的 Q_table: [0.1, -0.2, 1.0, -5.0, 5.0, -20.0, 10.0, 3.0, -2.0, -1.0]\n",
      "\n",
      "You have chosen the best bandit!\n"
     ]
    },
    {
     "data": {
      "text/plain": [
       "(10080.3, 1)"
      ]
     },
     "execution_count": 597,
     "metadata": {},
     "output_type": "execute_result"
    }
   ],
   "source": [
    "opt_greedy(10)"
   ]
  },
  {
   "cell_type": "markdown",
   "metadata": {},
   "source": [
    "optimistic exploration 小结：  \n",
    "\n",
    "- 非常重要：结果与 BANDITS **数据分布**关系极大，当分布方差极大时，很容易收敛到绝对值比较小的期望上。\n",
    "  - 这点很容易理解，因为方差大（比如 2 倍均值），所以期望大的老虎机总会获得到一个很大的负值 Q，取平均就会导致 Q 变小，结果就再也没有机会选到这台老虎机。\n",
    "- 相对来说，上面的这种情况在 epson-贪心 和 贪心算法上就会好很多。"
   ]
  },
  {
   "cell_type": "markdown",
   "metadata": {},
   "source": [
    "# upper-confidence bound"
   ]
  },
  {
   "cell_type": "code",
   "execution_count": 633,
   "metadata": {},
   "outputs": [],
   "source": [
    "# upper-confidence bound\n",
    "\n",
    "def ucb(c):\n",
    "    total_reward = 0\n",
    "    is_best = 0\n",
    "    try_reward = []\n",
    "    ite = 0\n",
    "    total_iter = 1000\n",
    "    Q_table_choose = [0] * len(BANDITS)\n",
    "    Q_table_true = [0] * len(BANDITS)\n",
    "    N_table = [0] * len(BANDITS)\n",
    "    while ite < total_iter:\n",
    "        ite += 1\n",
    "        # 控制探索次数\n",
    "        # 也可以用 epson 来控制，epson 满足条件时探索，其他时间贪心\n",
    "        if ite <= 100:\n",
    "            choose = np.random.randint(0,len(BANDITS))\n",
    "            rew = pull_bandit(choose)\n",
    "            total_reward += rew\n",
    "            N_table[choose] += 1\n",
    "            Q_table_choose[choose] = round(rew, 2) + c * np.sqrt(np.log(ite)/N_table[choose])\n",
    "            Q_table_true[choose] = round(rew, 2)\n",
    "            index = Q_table_choose.index(max(Q_table_choose))\n",
    "            Q = Q_table_true[index]\n",
    "        else:\n",
    "            total_reward += Q\n",
    "\n",
    "    print(\"获得的总收益：%d，你选择的老虎机期望收益：%s...\\n\" % (total_reward, BANDITS[index]))\n",
    "    print(\"你估计的 Q_table: %s, 你选择额的最大 Q: %s, %s 号老虎机。\" % (Q_table, Q, index+1))\n",
    "    print(\"实际中的 Q_table: %s\\n\" % BANDITS)\n",
    "    if index == BANDITS.index(max(BANDITS)):\n",
    "        print(\"You have chosen the best bandit!\")\n",
    "        is_best = 1\n",
    "    else:\n",
    "        print(\"You haven't chosen the best bandit....\")\n",
    "        is_best = 0\n",
    "        \n",
    "    return total_reward, is_best"
   ]
  },
  {
   "cell_type": "code",
   "execution_count": 626,
   "metadata": {
    "scrolled": true
   },
   "outputs": [
    {
     "name": "stdout",
     "output_type": "stream",
     "text": [
      "获得的总收益：17448，你选择的老虎机期望收益：10.0...\n",
      "\n",
      "你估计的 Q_table: [0.1, -0.3, 1.0, -4.0, 8.3, -16.0, 8.2, 3.7, -1.9, -0.2], 你选择额的最大 Q: 19.49, 7 号老虎机。\n",
      "实际中的 Q_table: [0.1, -0.2, 1.0, -5.0, 5.0, -20.0, 10.0, 3.0, -2.0, -1.0]\n",
      "\n",
      "You have chosen the best bandit!\n"
     ]
    },
    {
     "data": {
      "text/plain": [
       "(17448.197086410153, 1)"
      ]
     },
     "execution_count": 626,
     "metadata": {},
     "output_type": "execute_result"
    }
   ],
   "source": [
    "ucb(0.1)"
   ]
  },
  {
   "cell_type": "markdown",
   "metadata": {},
   "source": [
    "# gradient"
   ]
  },
  {
   "cell_type": "code",
   "execution_count": 480,
   "metadata": {},
   "outputs": [],
   "source": [
    "def softmax(xlist):\n",
    "    ex = np.exp(xlist - np.max(xlist))\n",
    "    return ex/np.sum(ex, axis=0)"
   ]
  },
  {
   "cell_type": "code",
   "execution_count": 728,
   "metadata": {
    "scrolled": true
   },
   "outputs": [],
   "source": [
    "# gradient\n",
    "# 不是特别确定理解是否有误\n",
    "def gradient(alpha):\n",
    "    is_best = 0\n",
    "    H_table = np.random.rand(len(BANDITS))\n",
    "    pi = softmax(H_table)\n",
    "    ite = 0\n",
    "    total_iter = 1000\n",
    "    ht = 0\n",
    "    total_reward = 0\n",
    "    while ite < total_iter:\n",
    "        ite += 1\n",
    "        # 随机投掷，看 pi 分布下哪个最高就选择哪个\n",
    "        throw = np.random.multinomial(100, pi)\n",
    "        choose = list(throw).index(max(throw))\n",
    "        rew = pull_bandit(choose)\n",
    "        total_reward += rew\n",
    "        if rew > 0:\n",
    "            htnext = ht + alpha * rew * (1 - pi[choose])\n",
    "        else:\n",
    "            htnext = ht - alpha * rew * pi[choose]\n",
    "        H_table[choose] = htnext\n",
    "        ht = htnext\n",
    "        pi = softmax(H_table)\n",
    "    \n",
    "    print(\"获得的总收益：%d，你选择的老虎机期望收益：%s...\\n\" % (total_reward, BANDITS[choose]))\n",
    "    if list(pi).index(max(pi)) == BANDITS.index(max(BANDITS)):\n",
    "        print(\"You have chosen the best bandit!\")\n",
    "        is_best = 1\n",
    "    else:\n",
    "        print(\"You haven't chosen the best bandit....\")\n",
    "        is_best = 0\n",
    "        \n",
    "    return total_reward, is_best"
   ]
  },
  {
   "cell_type": "code",
   "execution_count": 730,
   "metadata": {
    "scrolled": true
   },
   "outputs": [
    {
     "name": "stdout",
     "output_type": "stream",
     "text": [
      "获得的总收益：9931，你选择的老虎机期望收益：10.0...\n",
      "\n",
      "You have chosen the best bandit!\n"
     ]
    },
    {
     "data": {
      "text/plain": [
       "(9931.761125811887, 1)"
      ]
     },
     "execution_count": 730,
     "metadata": {},
     "output_type": "execute_result"
    }
   ],
   "source": [
    "gradient(0.1)"
   ]
  },
  {
   "cell_type": "markdown",
   "metadata": {},
   "source": [
    "# All Together"
   ]
  },
  {
   "cell_type": "code",
   "execution_count": null,
   "metadata": {},
   "outputs": [],
   "source": [
    "best_list = []\n",
    "aver_reward = []\n",
    "# 重复 100 次实验\n",
    "N = 100\n",
    "x = np.logspace(-7, 2, num=10, base=2)\n",
    "\n",
    "for radio in x:\n",
    "    ed_best, oeg_best, ucb_best, gra_best = 0, 0, 0, 0\n",
    "    ed_rew, oeg_rew, ucb_rew, gra_rew = 0, 0, 0, 0\n",
    "    for i in range(N):\n",
    "        edr, egb = epson_greedy(radio)\n",
    "        ed_best += egb\n",
    "        ed_rew += edr\n",
    "        oegr, oegb = opt_greedy(radio*100)\n",
    "        oeg_best += oegb\n",
    "        oeg_rew += oegr\n",
    "        ucbr, ucbb = ucb(radio)\n",
    "        ucb_best += ucbb\n",
    "        ucb_rew += ucbr\n",
    "        grar, grab = gradient(radio)\n",
    "        gra_best += grab\n",
    "        gra_rew += grar\n",
    "    best_list.append([ed_best/N, oeg_best/N, ucb_best/N, gra_best/N])\n",
    "    aver_reward.append([ed_rew/N, oeg_rew/N, ucb_rew/N, gra_rew/N])"
   ]
  },
  {
   "cell_type": "code",
   "execution_count": 732,
   "metadata": {},
   "outputs": [
    {
     "data": {
      "image/png": "[encoded data removed]",
      "text/plain": [
       "<matplotlib.figure.Figure at 0x1131ebc50>"
      ]
     },
     "metadata": {},
     "output_type": "display_data"
    }
   ],
   "source": [
    "best_list = np.array(best_list)\n",
    "aver_reward = np.array(aver_reward)\n",
    "y_edb, y_oegb, y_ucbb, y_grab = best_list[:,0], best_list[:,1], best_list[:,2], best_list[:,3]\n",
    "y_edr, y_oegr, y_ucbr, y_grar = aver_reward[:,0], aver_reward[:,1], aver_reward[:,2], aver_reward[:,3]\n",
    "\n",
    "plt.figure(figsize=(12, 8))\n",
    "plt.subplots_adjust(left=.125, right=.9, bottom=.1, top=.9, wspace=.1, hspace=.3)\n",
    "\n",
    "plt.subplot(2,1,1)\n",
    "plt.title('All Bandit Algorithm Results Best')\n",
    "plt.plot(x, y_edb, color='black', label='epson-greedy')\n",
    "plt.plot(x, y_oegb, color='red', label='optimistic exploration greedy')\n",
    "plt.plot(x, y_ucbb,  color='skyblue', label='upper-confidence bound')\n",
    "plt.plot(x, y_grab, color='blue', label='gradient')\n",
    "plt.legend()\n",
    "plt.xlabel('radio')\n",
    "plt.ylabel('probability of getting the best bandit')\n",
    "\n",
    "plt.subplot(2,1,2)\n",
    "plt.title('All Bandit Algorithm Results Avereward')\n",
    "plt.plot(x, y_edr, color='black', label='epson-greedy')\n",
    "plt.plot(x, y_oegr, color='red', label='optimistic exploration greedy')\n",
    "plt.plot(x, y_ucbr,  color='skyblue', label='upper-confidence bound')\n",
    "plt.plot(x, y_grar, color='blue', label='gradient')\n",
    "plt.legend()\n",
    "plt.xlabel('radio')\n",
    "plt.ylabel('average reward')\n",
    "\n",
    "plt.show()"
   ]
  },
  {
   "cell_type": "markdown",
   "metadata": {},
   "source": [
    "和作者的结果不太一样，但大体结果差不多，可能的原因比较多，比如：  \n",
    "\n",
    "- BANDIT 初始期望设定\n",
    "- 各算法涉及的其他初始值设定\n",
    "- 其他代码细节\n",
    "\n",
    "任意一个原因都可能导致结果大相径庭。但我们的出发点是理解算法思想和流程，大可不必关注太多细节。"
   ]
  },
  {
   "cell_type": "code",
   "execution_count": null,
   "metadata": {},
   "outputs": [],
   "source": []
  }
 ],
 "metadata": {
  "kernelspec": {
   "display_name": "Python 3",
   "language": "python",
   "name": "python3"
  },
  "language_info": {
   "codemirror_mode": {
    "name": "ipython",
    "version": 3
   },
   "file_extension": ".py",
   "mimetype": "text/x-python",
   "name": "python",
   "nbconvert_exporter": "python",
   "pygments_lexer": "ipython3",
   "version": "3.6.2"
  },
  "toc": {
   "colors": {
    "hover_highlight": "#DAA520",
    "running_highlight": "#FF0000",
    "selected_highlight": "#FFD700"
   },
   "moveMenuLeft": true,
   "nav_menu": {
    "height": "12px",
    "width": "252px"
   },
   "navigate_menu": true,
   "number_sections": true,
   "sideBar": true,
   "threshold": 4,
   "toc_cell": true,
   "toc_section_display": "block",
   "toc_window_display": true
  }
 },
 "nbformat": 4,
 "nbformat_minor": 2
}
